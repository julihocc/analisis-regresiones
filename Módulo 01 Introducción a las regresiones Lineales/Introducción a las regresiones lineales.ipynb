{
 "cells": [
  {
   "cell_type": "markdown",
   "id": "1ed64376-22ab-4866-b830-7a5fc454fffd",
   "metadata": {
    "slideshow": {
     "slide_type": "slide"
    }
   },
   "source": [
    "# Introducción a las regresiones lineales"
   ]
  },
  {
   "cell_type": "markdown",
   "id": "b063b072",
   "metadata": {
    "slideshow": {
     "slide_type": "slide"
    }
   },
   "source": [
    "En esta unidad vamos a introducir las regresiones lineales y familias de modelos relacionadas. "
   ]
  },
  {
   "cell_type": "markdown",
   "id": "9a7018ef",
   "metadata": {
    "slideshow": {
     "slide_type": "slide"
    }
   },
   "source": [
    "El propósito es dar el primer paso en los modelos más actuales que están emergiendo en la industria, como el aprendizaje automático y la inteligencia artificial. "
   ]
  },
  {
   "cell_type": "markdown",
   "id": "ca9fc8bb",
   "metadata": {
    "slideshow": {
     "slide_type": "slide"
    }
   },
   "source": [
    "Sin embargo, los modelos que analizaremos tienen raíces profundas en áreas clásicas como la estadística y la econométrica."
   ]
  },
  {
   "cell_type": "markdown",
   "id": "bafb7def",
   "metadata": {
    "slideshow": {
     "slide_type": "slide"
    }
   },
   "source": [
    "Explicaremos por qué los modelos lineales son utiles para evaluar procesos en ciencia de datos y que módulos de Python necesitaremos para implementarlos de manera eficiente."
   ]
  },
  {
   "cell_type": "markdown",
   "id": "57a098f9-a6dc-436c-816a-d408b52ecf4a",
   "metadata": {
    "slideshow": {
     "slide_type": "slide"
    }
   },
   "source": [
    "#### Relación con la ciencia de datos\n",
    "\n",
    "Algunas aplicaciones de la ciencia de datos son:\n",
    "1. En publicidad, entregar anuncios personalizados.\n",
    "2. En comercio electrónico, hacer ofertas más relevantes para a los usuarios. \n",
    "3. En el negocio del crédito o de los seguros, una aplicación que selecciona si procede a las consultas en línea de los usuarios, basándose en su calificación crediticia y en su relación anterior con la empresa.\n"
   ]
  },
  {
   "cell_type": "markdown",
   "id": "2c271043",
   "metadata": {
    "slideshow": {
     "slide_type": "slide"
    }
   },
   "source": [
    "Si bien existen modelo más sofisticados para realizar la modelación de estos problemas, la regresión lineal nos ofrece una herramienta sencilla, fácil de entrenar y con buenos resultados. "
   ]
  },
  {
   "cell_type": "markdown",
   "id": "44528206-ed9f-4efc-b81d-6ccb56535a14",
   "metadata": {
    "slideshow": {
     "slide_type": "slide"
    }
   },
   "source": [
    "#### Oportunidades en la ciencia de datos\n",
    "\n",
    "Una de las restricciones más importantes que teníamos en el pasado era la disponibilidad de los datos. Sin embargo, ahora tenemos una cantidad abundante y barata de información y la oportunidad de aprender de esta.\n"
   ]
  },
  {
   "cell_type": "markdown",
   "id": "dc290744",
   "metadata": {
    "slideshow": {
     "slide_type": "slide"
    }
   },
   "source": [
    "Al estar en la intersección de la experiencia (saber cómo hacer negocios y obtener beneficios), el aprendizaje automático y las habilidades de hacking (integrar varios sistemas y fuentes de datos), la ciencia de los datos promete encontrar la mezcla de herramientas para aprovechar datos disponibles y convertirlos en beneficios."
   ]
  },
  {
   "cell_type": "markdown",
   "id": "f99d5e58-c1c5-4cc6-841a-c5fae78c6192",
   "metadata": {
    "slideshow": {
     "slide_type": "slide"
    }
   },
   "source": [
    "# Retos\n",
    "\n",
    "Sin embargo, existen algunos inconvenientes al implementar estas soluciones.\n",
    "1. El procesamiento de datos sin estructura\n",
    "2. Extraer datos de fuentes heterogéneas\n",
    "3. Aprender de los datos reglas generales que permitan hacer predicciones correctas\n",
    "4. Entender realmente el modelo y poder comunicar los resultados\n",
    "5. Escalar los modelos para que hagan predicciones en tiempo real\n"
   ]
  },
  {
   "cell_type": "markdown",
   "id": "0470b4d8-d632-441c-88b1-47419656eba9",
   "metadata": {
    "slideshow": {
     "slide_type": "slide"
    }
   },
   "source": [
    "#### Modelos lineales\n",
    "\n",
    "Al iniciar en aprendizaje automático, aprenderemos dos modelos básicos, a saber, regresiones lineales y logísticas. \n",
    "\n",
    " "
   ]
  },
  {
   "cell_type": "markdown",
   "id": "eedeafbb",
   "metadata": {
    "slideshow": {
     "slide_type": "slide"
    }
   },
   "source": [
    "Existe abundante literatura sobre el tema, pero debemos estar siempre conscientes de su alcance y limitaciones: Quizá no sea la mejor herramienta, pero sí es un excelente punto de partida para analizar nuestros datos. \n",
    "\n"
   ]
  },
  {
   "cell_type": "markdown",
   "id": "5f5297b7",
   "metadata": {
    "slideshow": {
     "slide_type": "slide"
    }
   },
   "source": [
    "Inclusive, a veces se pueden entregar mejores resultados con modelos lineales que con otros más complicados, siempre y cuando estén alimentados con datos de buena calidad. Véase por ejemplo el artículo [The Unreasonable Effectiveness of Data.](https://research.google.com/pubs/archive/35179.pdf)\n"
   ]
  },
  {
   "cell_type": "markdown",
   "id": "d48b381b",
   "metadata": {
    "slideshow": {
     "slide_type": "slide"
    }
   },
   "source": [
    "\n",
    "En este sentido, una ventaja de los modelos lineales es que pueden adaptarse mucho más rápido y son más fáciles de desarrollar."
   ]
  },
  {
   "cell_type": "markdown",
   "id": "b2d577f8-624b-4c91-8e75-c68a59768918",
   "metadata": {
    "slideshow": {
     "slide_type": "slide"
    }
   },
   "source": [
    "### Python aplicado a la ciencia de datos\n",
    "\n",
    "Hemos elegido Python por varias razones. Algunas de estas son:\n",
    "1. Es un lenguaje de propósito general y de código abierto\n",
    "2. Tiene una sintaxis sencilla y fácil de aprender\n",
    "3. Sobre todo, se ha convertido en uno de los lenguajes preferidos por los científicos de datos en todo el mundo"
   ]
  },
  {
   "cell_type": "markdown",
   "id": "c909f45e-502a-4a0f-9e13-3c2f48617dde",
   "metadata": {
    "slideshow": {
     "slide_type": "slide"
    }
   },
   "source": [
    "A continuación daremos un ejemplo sencillo de su uso en la visualización de datos. Para esto usaremos el conjunto de datos [Boston house prices dataset](https://scikit-learn.org/stable/datasets/toy_dataset.html). Antes de continuar, lee la documentación anterior para comprender el desarrollo del problema."
   ]
  },
  {
   "cell_type": "markdown",
   "source": [
    "# Precios de Casas en Boston\n",
    "Modelo de aprendizaje automático de regresión predictiva de principio a fin con Python.\n",
    "\n",
    "## Acerca del Conjunto de Datos\n",
    "\n",
    "### Contexto\n",
    "Para explorar más sobre el Algoritmo de Regresión.\n",
    "\n",
    "### Contenido\n",
    "Cada registro en la base de datos describe un suburbio o pueblo de Boston. Los datos fueron obtenidos del Área Estadística Metropolitana Estándar de Boston (SMSA) en 1970. Los atributos se definen de la siguiente manera (tomado del Repositorio de Aprendizaje Automático de UCI[^1]):\n",
    "\n",
    "- **CRIM**: tasa de crimen per cápita por ciudad.\n",
    "- **ZN**: proporción de terreno residencial zonificado para lotes mayores a 25,000 pies cuadrados.\n",
    "- **INDUS**: proporción de acres de negocios no minoristas por ciudad.\n",
    "- **CHAS**: variable ficticia del río Charles (= 1 si la zona limita con el río; 0 en caso contrario).\n",
    "- **NOX**: concentración de óxidos de nitrógeno (partes por 10 millones).\n",
    "- **RM**: número promedio de habitaciones por vivienda.\n",
    "- **AGE**: proporción de unidades ocupadas por sus propietarios construidas antes de 1940.\n",
    "- **DIS**: distancias ponderadas a cinco centros de empleo en Boston.\n",
    "- **RAD**: índice de accesibilidad a carreteras radiales.\n",
    "- **TAX**: tasa de impuesto a la propiedad de valor total por cada $10,000.\n",
    "- **PTRATIO**: proporción alumno-profesor por ciudad.\n",
    "- **B**: 1000(Bk-0.63)^2, donde Bk es la proporción de habitantes de raza negra en la ciudad.\n",
    "- **LSTAT**: % de población de menor estatus.\n",
    "- **MEDV**: Valor medio de las viviendas ocupadas por sus propietarios en miles de dólares.\n",
    "\n",
    "Podemos observar que los atributos de entrada tienen una mezcla de unidades.\n",
    "\n",
    "[^1]: [Repositorio de Aprendizaje Automático de UCI](https://archive.ics.uci.edu/ml/datasets/Housing)\n"
   ],
   "metadata": {
    "collapsed": false
   }
  },
  {
   "cell_type": "code",
   "execution_count": 32,
   "outputs": [],
   "source": [
    "import warnings\n",
    "warnings.filterwarnings('ignore')"
   ],
   "metadata": {
    "collapsed": false,
    "ExecuteTime": {
     "end_time": "2023-06-28T00:40:28.464967500Z",
     "start_time": "2023-06-28T00:40:28.385117100Z"
    }
   }
  },
  {
   "cell_type": "code",
   "execution_count": 33,
   "id": "bef74941-78a6-4a4f-98fc-2a8119a08a2b",
   "metadata": {
    "slideshow": {
     "slide_type": "slide"
    },
    "ExecuteTime": {
     "end_time": "2023-06-28T00:40:28.587416100Z",
     "start_time": "2023-06-28T00:40:28.470481Z"
    }
   },
   "outputs": [
    {
     "name": "stdout",
     "output_type": "stream",
     "text": [
      "      CRIM    ZN  INDUS  CHAS    NOX     RM   AGE     DIS  RAD    TAX  \\\n",
      "0  0.00632  18.0   2.31   0.0  0.538  6.575  65.2  4.0900  1.0  296.0   \n",
      "1  0.02731   0.0   7.07   0.0  0.469  6.421  78.9  4.9671  2.0  242.0   \n",
      "2  0.02729   0.0   7.07   0.0  0.469  7.185  61.1  4.9671  2.0  242.0   \n",
      "3  0.03237   0.0   2.18   0.0  0.458  6.998  45.8  6.0622  3.0  222.0   \n",
      "4  0.06905   0.0   2.18   0.0  0.458  7.147  54.2  6.0622  3.0  222.0   \n",
      "\n",
      "   PTRATIO       B  LSTAT  \n",
      "0     15.3  396.90   4.98  \n",
      "1     17.8  396.90   9.14  \n",
      "2     17.8  392.83   4.03  \n",
      "3     18.7  394.63   2.94  \n",
      "4     18.7  396.90   5.33  \n"
     ]
    }
   ],
   "source": [
    "# Pandas es un módulo especializado en el procesamiento de datos\n",
    "import pandas as pd\n",
    "#  Scikit-learn lo es en aprendizaje automático\n",
    "# Importaremos un conjunto de datos incluido en este módulo\n",
    "from sklearn.datasets import load_boston\n",
    "# Ahora procesaremos los datos para poder visualizarlos\n",
    "# Cargamos el conjunto de datos en la memoria\n",
    "boston = load_boston()\n",
    "# Convertimos el conjunto de datos en un marco de datos\n",
    "dataset = pd.DataFrame(boston.data,\n",
    "                      columns=boston.feature_names)\n",
    "# Imprimimos en pantalla los cinco primeros registros.\n",
    "print(dataset.head())"
   ]
  },
  {
   "cell_type": "code",
   "execution_count": 34,
   "id": "d68f48e1-1d30-4daa-ae2d-abffea265fee",
   "metadata": {
    "slideshow": {
     "slide_type": "slide"
    },
    "ExecuteTime": {
     "end_time": "2023-06-28T00:40:28.602088Z",
     "start_time": "2023-06-28T00:40:28.557298400Z"
    }
   },
   "outputs": [
    {
     "name": "stdout",
     "output_type": "stream",
     "text": [
      "<class 'pandas.core.frame.DataFrame'>\n",
      "RangeIndex: 506 entries, 0 to 505\n",
      "Data columns (total 13 columns):\n",
      " #   Column   Non-Null Count  Dtype  \n",
      "---  ------   --------------  -----  \n",
      " 0   CRIM     506 non-null    float64\n",
      " 1   ZN       506 non-null    float64\n",
      " 2   INDUS    506 non-null    float64\n",
      " 3   CHAS     506 non-null    float64\n",
      " 4   NOX      506 non-null    float64\n",
      " 5   RM       506 non-null    float64\n",
      " 6   AGE      506 non-null    float64\n",
      " 7   DIS      506 non-null    float64\n",
      " 8   RAD      506 non-null    float64\n",
      " 9   TAX      506 non-null    float64\n",
      " 10  PTRATIO  506 non-null    float64\n",
      " 11  B        506 non-null    float64\n",
      " 12  LSTAT    506 non-null    float64\n",
      "dtypes: float64(13)\n",
      "memory usage: 51.5 KB\n"
     ]
    }
   ],
   "source": [
    "# Imprimimos la información básica\n",
    "dataset.info()"
   ]
  },
  {
   "cell_type": "code",
   "execution_count": 35,
   "id": "5d3df20f-583d-4d31-9ceb-ad1fc222e544",
   "metadata": {
    "slideshow": {
     "slide_type": "slide"
    },
    "ExecuteTime": {
     "end_time": "2023-06-28T00:40:28.690400300Z",
     "start_time": "2023-06-28T00:40:28.610605300Z"
    }
   },
   "outputs": [
    {
     "data": {
      "text/plain": "             CRIM          ZN       INDUS        CHAS         NOX          RM  \\\ncount  506.000000  506.000000  506.000000  506.000000  506.000000  506.000000   \nmean     3.613524   11.363636   11.136779    0.069170    0.554695    6.284634   \nstd      8.601545   23.322453    6.860353    0.253994    0.115878    0.702617   \nmin      0.006320    0.000000    0.460000    0.000000    0.385000    3.561000   \n25%      0.082045    0.000000    5.190000    0.000000    0.449000    5.885500   \n50%      0.256510    0.000000    9.690000    0.000000    0.538000    6.208500   \n75%      3.677083   12.500000   18.100000    0.000000    0.624000    6.623500   \nmax     88.976200  100.000000   27.740000    1.000000    0.871000    8.780000   \n\n              AGE         DIS         RAD         TAX     PTRATIO           B  \\\ncount  506.000000  506.000000  506.000000  506.000000  506.000000  506.000000   \nmean    68.574901    3.795043    9.549407  408.237154   18.455534  356.674032   \nstd     28.148861    2.105710    8.707259  168.537116    2.164946   91.294864   \nmin      2.900000    1.129600    1.000000  187.000000   12.600000    0.320000   \n25%     45.025000    2.100175    4.000000  279.000000   17.400000  375.377500   \n50%     77.500000    3.207450    5.000000  330.000000   19.050000  391.440000   \n75%     94.075000    5.188425   24.000000  666.000000   20.200000  396.225000   \nmax    100.000000   12.126500   24.000000  711.000000   22.000000  396.900000   \n\n            LSTAT  \ncount  506.000000  \nmean    12.653063  \nstd      7.141062  \nmin      1.730000  \n25%      6.950000  \n50%     11.360000  \n75%     16.955000  \nmax     37.970000  ",
      "text/html": "<div>\n<style scoped>\n    .dataframe tbody tr th:only-of-type {\n        vertical-align: middle;\n    }\n\n    .dataframe tbody tr th {\n        vertical-align: top;\n    }\n\n    .dataframe thead th {\n        text-align: right;\n    }\n</style>\n<table border=\"1\" class=\"dataframe\">\n  <thead>\n    <tr style=\"text-align: right;\">\n      <th></th>\n      <th>CRIM</th>\n      <th>ZN</th>\n      <th>INDUS</th>\n      <th>CHAS</th>\n      <th>NOX</th>\n      <th>RM</th>\n      <th>AGE</th>\n      <th>DIS</th>\n      <th>RAD</th>\n      <th>TAX</th>\n      <th>PTRATIO</th>\n      <th>B</th>\n      <th>LSTAT</th>\n    </tr>\n  </thead>\n  <tbody>\n    <tr>\n      <th>count</th>\n      <td>506.000000</td>\n      <td>506.000000</td>\n      <td>506.000000</td>\n      <td>506.000000</td>\n      <td>506.000000</td>\n      <td>506.000000</td>\n      <td>506.000000</td>\n      <td>506.000000</td>\n      <td>506.000000</td>\n      <td>506.000000</td>\n      <td>506.000000</td>\n      <td>506.000000</td>\n      <td>506.000000</td>\n    </tr>\n    <tr>\n      <th>mean</th>\n      <td>3.613524</td>\n      <td>11.363636</td>\n      <td>11.136779</td>\n      <td>0.069170</td>\n      <td>0.554695</td>\n      <td>6.284634</td>\n      <td>68.574901</td>\n      <td>3.795043</td>\n      <td>9.549407</td>\n      <td>408.237154</td>\n      <td>18.455534</td>\n      <td>356.674032</td>\n      <td>12.653063</td>\n    </tr>\n    <tr>\n      <th>std</th>\n      <td>8.601545</td>\n      <td>23.322453</td>\n      <td>6.860353</td>\n      <td>0.253994</td>\n      <td>0.115878</td>\n      <td>0.702617</td>\n      <td>28.148861</td>\n      <td>2.105710</td>\n      <td>8.707259</td>\n      <td>168.537116</td>\n      <td>2.164946</td>\n      <td>91.294864</td>\n      <td>7.141062</td>\n    </tr>\n    <tr>\n      <th>min</th>\n      <td>0.006320</td>\n      <td>0.000000</td>\n      <td>0.460000</td>\n      <td>0.000000</td>\n      <td>0.385000</td>\n      <td>3.561000</td>\n      <td>2.900000</td>\n      <td>1.129600</td>\n      <td>1.000000</td>\n      <td>187.000000</td>\n      <td>12.600000</td>\n      <td>0.320000</td>\n      <td>1.730000</td>\n    </tr>\n    <tr>\n      <th>25%</th>\n      <td>0.082045</td>\n      <td>0.000000</td>\n      <td>5.190000</td>\n      <td>0.000000</td>\n      <td>0.449000</td>\n      <td>5.885500</td>\n      <td>45.025000</td>\n      <td>2.100175</td>\n      <td>4.000000</td>\n      <td>279.000000</td>\n      <td>17.400000</td>\n      <td>375.377500</td>\n      <td>6.950000</td>\n    </tr>\n    <tr>\n      <th>50%</th>\n      <td>0.256510</td>\n      <td>0.000000</td>\n      <td>9.690000</td>\n      <td>0.000000</td>\n      <td>0.538000</td>\n      <td>6.208500</td>\n      <td>77.500000</td>\n      <td>3.207450</td>\n      <td>5.000000</td>\n      <td>330.000000</td>\n      <td>19.050000</td>\n      <td>391.440000</td>\n      <td>11.360000</td>\n    </tr>\n    <tr>\n      <th>75%</th>\n      <td>3.677083</td>\n      <td>12.500000</td>\n      <td>18.100000</td>\n      <td>0.000000</td>\n      <td>0.624000</td>\n      <td>6.623500</td>\n      <td>94.075000</td>\n      <td>5.188425</td>\n      <td>24.000000</td>\n      <td>666.000000</td>\n      <td>20.200000</td>\n      <td>396.225000</td>\n      <td>16.955000</td>\n    </tr>\n    <tr>\n      <th>max</th>\n      <td>88.976200</td>\n      <td>100.000000</td>\n      <td>27.740000</td>\n      <td>1.000000</td>\n      <td>0.871000</td>\n      <td>8.780000</td>\n      <td>100.000000</td>\n      <td>12.126500</td>\n      <td>24.000000</td>\n      <td>711.000000</td>\n      <td>22.000000</td>\n      <td>396.900000</td>\n      <td>37.970000</td>\n    </tr>\n  </tbody>\n</table>\n</div>"
     },
     "execution_count": 35,
     "metadata": {},
     "output_type": "execute_result"
    }
   ],
   "source": [
    "\"\"\"\n",
    "Para las variables numéricas, podemos hacer un \n",
    "análisis básico de los estadísticos\n",
    "\"\"\"\n",
    "dataset.describe()"
   ]
  },
  {
   "cell_type": "code",
   "execution_count": 36,
   "id": "6b13952b-83c7-40bb-8028-76a3ca29bbfc",
   "metadata": {
    "slideshow": {
     "slide_type": "slide"
    },
    "ExecuteTime": {
     "end_time": "2023-06-28T00:40:28.694402600Z",
     "start_time": "2023-06-28T00:40:28.672331900Z"
    }
   },
   "outputs": [
    {
     "data": {
      "text/plain": "count    506.000000\nmean      22.532806\nstd        9.197104\nmin        5.000000\n25%       17.025000\n50%       21.200000\n75%       25.000000\nmax       50.000000\nName: target, dtype: float64"
     },
     "execution_count": 36,
     "metadata": {},
     "output_type": "execute_result"
    }
   ],
   "source": [
    "\"\"\"\n",
    "Ahora vamos a crear una nueva variable, que es el precio de la casa.\n",
    "\n",
    "En este caso el objetivo es el valor de  las viviendas ocupadas por \n",
    "sus propietarios en  miles de dólares.\n",
    "\"\"\"\n",
    "dataset[\"target\"] = boston.target\n",
    "dataset[\"target\"].describe()"
   ]
  },
  {
   "cell_type": "code",
   "execution_count": 37,
   "id": "cf147e2c-6508-401a-8d91-bb77f37e1271",
   "metadata": {
    "slideshow": {
     "slide_type": "slide"
    },
    "ExecuteTime": {
     "end_time": "2023-06-28T00:40:29.075777Z",
     "start_time": "2023-06-28T00:40:28.697400700Z"
    }
   },
   "outputs": [
    {
     "data": {
      "text/plain": "<Figure size 640x480 with 1 Axes>",
      "image/png": "[encoded data removed]"
     },
     "metadata": {},
     "output_type": "display_data"
    }
   ],
   "source": [
    "\"\"\"\n",
    "Finalmente visualizaremos un diagrama de dispersión comparando la variable \n",
    "objetivo con el predictor RM, que es el número medio de habitaciones por vivienda.\n",
    "\"\"\"\n",
    "diagrama = dataset.plot(kind=\"scatter\", x=\"RM\", y=\"target\")"
   ]
  },
  {
   "cell_type": "markdown",
   "id": "da47d438-c739-40d8-9e5d-9a0162e62f5a",
   "metadata": {
    "slideshow": {
     "slide_type": "slide"
    }
   },
   "source": [
    "### Módulos que utilizaremos\n",
    "\n",
    "Ahora vamos a presentar algunos módulos que utilizaremos en nuestro curso.\n",
    "\n"
   ]
  },
  {
   "cell_type": "markdown",
   "id": "c3e7a9a7",
   "metadata": {
    "slideshow": {
     "slide_type": "slide"
    }
   },
   "source": [
    "#### Numpy\n",
    "\n",
    "NumPy, que es una creación de Travis Oliphant, está en el centro de toda solución analítica en el lenguaje Python. Proporciona al usuario matrices multidimensionales, junto con un gran conjunto de funciones para operar múltiples operaciones matemáticas en estas matrices. "
   ]
  },
  {
   "cell_type": "code",
   "execution_count": 38,
   "id": "c415f653-9f87-4c44-87e8-dd5f8497ea35",
   "metadata": {
    "slideshow": {
     "slide_type": "slide"
    },
    "ExecuteTime": {
     "end_time": "2023-06-28T00:40:29.075777Z",
     "start_time": "2023-06-28T00:40:28.841292Z"
    }
   },
   "outputs": [],
   "source": [
    "\"\"\"\n",
    "Para importar numpy o cualquier paquete utilizamos la clave `import`.\n",
    "Sin embargo, Python nos permite poner un alias con la clave `as`.\n",
    "La convención para importar Numpy es la siguiente:\n",
    "\"\"\"\n",
    "# Para instalar en línea, utilizamos el comando `!pip install numpy`\n",
    "import numpy as np\n",
    "\n",
    "# También podemos importar submódulos específicos\n",
    "# Para esto ocuparemos la forma from ... import\n",
    "from numpy import linalg"
   ]
  },
  {
   "cell_type": "code",
   "execution_count": 39,
   "id": "c81e49ca",
   "metadata": {
    "slideshow": {
     "slide_type": "slide"
    },
    "ExecuteTime": {
     "end_time": "2023-06-28T00:40:29.075777Z",
     "start_time": "2023-06-28T00:40:28.858330600Z"
    }
   },
   "outputs": [
    {
     "name": "stdout",
     "output_type": "stream",
     "text": [
      "Matriz:\n",
      " [[2 5 8]\n",
      " [7 9 6]\n",
      " [8 6 1]]\n",
      "\n",
      "Determinante:\n",
      " -88.99999999999999\n"
     ]
    }
   ],
   "source": [
    "# Desarrollemos un ejemplo sencillo de álgebra lineal\n",
    "# Primero generamos una matriz aleatoria\n",
    "M = np.random.randint(0, 11, size=(3,3))\n",
    "print(\"Matriz:\\n\",M)\n",
    "print(\"\\nDeterminante:\\n\",linalg.det(M))"
   ]
  },
  {
   "cell_type": "code",
   "execution_count": 40,
   "id": "0b2bde48",
   "metadata": {
    "slideshow": {
     "slide_type": "slide"
    },
    "ExecuteTime": {
     "end_time": "2023-06-28T00:40:29.077285500Z",
     "start_time": "2023-06-28T00:40:29.051186200Z"
    }
   },
   "outputs": [
    {
     "name": "stdout",
     "output_type": "stream",
     "text": [
      "\n",
      "Inversa:\n",
      " [[ 0.30337079 -0.48314607  0.47191011]\n",
      " [-0.46067416  0.69662921 -0.49438202]\n",
      " [ 0.33707865 -0.31460674  0.19101124]]\n",
      "\n",
      "Identidad\n",
      ": [[ 1.00000000e+00  0.00000000e+00  2.22044605e-16]\n",
      " [-1.11022302e-16  1.00000000e+00 -1.66533454e-16]\n",
      " [ 5.55111512e-17 -1.11022302e-16  1.00000000e+00]]\n"
     ]
    }
   ],
   "source": [
    "# Ahora intentaremos calcular su inversa\n",
    "try:\n",
    "    M_inversa = linalg.inv(M)\n",
    "    print(\"\\nInversa:\\n\",  M_inversa)\n",
    "    print(\"\\nIdentidad\\n:\", np.matmul(M, M_inversa))\n",
    "except Exception as e:\n",
    "    print(e)"
   ]
  },
  {
   "cell_type": "markdown",
   "id": "2373e584-6dc7-4820-aa90-d9c4a63dad1c",
   "metadata": {
    "slideshow": {
     "slide_type": "slide"
    }
   },
   "source": [
    "#### Scipy\n",
    "Un proyecto original de Travis Oliphant, Pearu Peterson y Eric Jones, SciPy completa las funcionalidades de NumPy, ofreciendo una mayor variedad de algoritmos científicos para álgebra lineal, matrices dispersas, procesamiento de señales e imágenes, optimización, transformación rápida de Fourier y mucho más.\n"
   ]
  },
  {
   "cell_type": "markdown",
   "id": "000bf7e9",
   "metadata": {
    "slideshow": {
     "slide_type": "slide"
    }
   },
   "source": [
    "\n",
    "El paquete scipy.optimize proporciona varios algoritmos de optimización de uso común, utilizados para detallar cómo se puede estimar un modelo lineal utilizando diferentes enfoques de optimización."
   ]
  },
  {
   "cell_type": "code",
   "execution_count": 41,
   "id": "07c3495e-ad3d-4547-8c70-50dbf352ab94",
   "metadata": {
    "slideshow": {
     "slide_type": "slide"
    },
    "ExecuteTime": {
     "end_time": "2023-06-28T00:40:29.151995100Z",
     "start_time": "2023-06-28T00:40:29.082291400Z"
    }
   },
   "outputs": [],
   "source": [
    "\"\"\"\n",
    "Para instalar scipy utiliza la línea\n",
    "!pip install scipy\n",
    "\"\"\"\n",
    "import scipy"
   ]
  },
  {
   "cell_type": "markdown",
   "id": "21e1f387-44a9-457e-a08a-3601a0539ad3",
   "metadata": {
    "slideshow": {
     "slide_type": "slide"
    }
   },
   "source": [
    "#### Scikit-learn\n",
    "Iniciado como parte de los SciPy Toolkits (SciKits), Scikit-learn es el núcleo de las operaciones de ciencia de datos en Python. Ofrece todo lo que puede necesitar en términos de preprocesamiento de datos, aprendizaje supervisado y no supervisado, selección de modelos, validación y métricas de error. "
   ]
  },
  {
   "cell_type": "markdown",
   "id": "c80d5744",
   "metadata": {
    "slideshow": {
     "slide_type": "slide"
    }
   },
   "source": [
    "\n",
    "\n",
    "Scikit-learn comenzó en 2007 como un proyecto de Google Summer of Code por David Cournapeau. Desde 2013, ha sido asumido por los investigadores del INRA (Instituto Francés de Investigación en Informática y Automática)."
   ]
  },
  {
   "cell_type": "markdown",
   "id": "01df76a0-9c35-4abf-86c2-bc7f84308657",
   "metadata": {
    "slideshow": {
     "slide_type": "slide"
    }
   },
   "source": [
    "Scikit-learn ofrece módulos para:\n",
    "1. El procesamiento de datos (sklearn.preprocessing, sklearn.feature_extraction), \n",
    "2. la selección de modelos y la validación (sklearn.cross_validation, sklearn.grid_search y sklearn.metrics) y \n",
    "3. un conjunto completo de métodos (sklearn.linear_model) en los que se espera que el valor objetivo, ya sea un número o una probabilidad, sea una combinación lineal de las variables de entrada\n"
   ]
  },
  {
   "cell_type": "markdown",
   "id": "ee1e9f17-151e-49cd-a67e-e33674022d98",
   "metadata": {
    "slideshow": {
     "slide_type": "slide"
    }
   },
   "source": [
    "#### Statsmodels\n",
    "Anteriormente, parte de Scikit, Statsmodels ha sido pensado como un complemento de las funciones estadísticas de SciPy. Ofrece modelos lineales generalizados, modelos de elección discreta, análisis de series temporales y una serie de estadísticas descriptivas, así como pruebas paramétricas y no paramétricas.\n",
    "\n"
   ]
  },
  {
   "cell_type": "markdown",
   "id": "f652eb05",
   "metadata": {
    "slideshow": {
     "slide_type": "slide"
    }
   },
   "source": [
    "En Statsmodels, utilizaremos los módulos statsmodels.api y statsmodels.formula.api, que proporcionan funciones para ajustar modelos lineales proporcionando tanto matrices de entrada como especificaciones de fórmulas:"
   ]
  },
  {
   "cell_type": "code",
   "execution_count": 42,
   "id": "85bbb4c4-7625-4362-a7f6-02414163ba64",
   "metadata": {
    "slideshow": {
     "slide_type": "slide"
    },
    "ExecuteTime": {
     "end_time": "2023-06-28T00:40:29.170103400Z",
     "start_time": "2023-06-28T00:40:29.155997400Z"
    }
   },
   "outputs": [],
   "source": [
    "\"\"\"\n",
    "Convención para importar Statsmodels\n",
    "\"\"\"\n",
    "import statsmodels.api as sm\n",
    "import statsmodels.formula.api as smf"
   ]
  },
  {
   "cell_type": "markdown",
   "id": "c03d9ac4",
   "metadata": {
    "slideshow": {
     "slide_type": "slide"
    }
   },
   "source": [
    "En la próxima unidad presentaremos la regresión lineal desde sus fundamentos estadísticos. Partiendo de la idea de correlación, construiremos la regresión lineal simple (utilizando un solo predictor) y proporcionaremos las formulaciones del algoritmo"
   ]
  }
 ],
 "metadata": {
  "celltoolbar": "Slideshow",
  "kernelspec": {
   "display_name": "Python 3",
   "language": "python",
   "name": "python3"
  },
  "language_info": {
   "codemirror_mode": {
    "name": "ipython",
    "version": 3
   },
   "file_extension": ".py",
   "mimetype": "text/x-python",
   "name": "python",
   "nbconvert_exporter": "python",
   "pygments_lexer": "ipython3",
   "version": "3.8.11"
  }
 },
 "nbformat": 4,
 "nbformat_minor": 5
}
