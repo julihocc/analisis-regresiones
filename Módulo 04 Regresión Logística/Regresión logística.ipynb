{
 "cells": [
  {
   "cell_type": "markdown",
   "id": "5dca04d6-5558-40c2-958a-293836923e18",
   "metadata": {},
   "source": [
    "# Regresión Logística\n",
    "**Centro Turing**"
   ]
  },
  {
   "cell_type": "markdown",
   "id": "5dd0a568-3ce3-4bf4-acf1-58d1b5f80e22",
   "metadata": {},
   "source": [
    "En esta sección se introduce otro método supervisado: la clasificación. Introduciremos el clasificador más sencillo, el Regresor Logístico, que comparte los mismos fundamentos que el regresor lineal, pero se dirige a problemas de clasificación. Revisaremos los siguiente temas:\n",
    "* Una definición formal y matemática del problema de clasificación, tanto para problemas binarios binario y multiclase\n",
    "* Cómo evaluar el rendimiento de los clasificadores, es decir, sus métricas \n",
    "* La matemática detrás de la regresión logística\n",
    "* El caso multiclase, con la regresión logística multiclase"
   ]
  },
  {
   "cell_type": "markdown",
   "id": "ce6f211d-1f1c-4c92-9c65-d9abdc11b8a8",
   "metadata": {},
   "source": [
    "## Definición de un problema de clasificación\n",
    "\n",
    "Aunque el nombre de Regresión Logística sugiere una operación de regresión, el objetivo de Regresión Logística es la clasificación."
   ]
  },
  {
   "cell_type": "markdown",
   "id": "2d6783ef-5b91-444a-8b9c-eb0366d5da57",
   "metadata": {},
   "source": [
    "En el capítulo anterior, presentamos la regresión como la operación de estimar un valor continuo en una variable objetivo; matemáticamente hablando, la variable predicha es un número real en el rango (-∞, +∞). \n",
    "\n"
   ]
  },
  {
   "cell_type": "markdown",
   "id": "0abcbe7d-d895-4327-bd59-62199e8b4e87",
   "metadata": {},
   "source": [
    "La clasificación, en cambio, predice una clase, es decir, un índice en un conjunto finito de clases. El caso más sencillo se denomina clasificación binaria, y la salida suele ser un valor booleano (verdadero/falso). \n"
   ]
  },
  {
   "cell_type": "markdown",
   "id": "be7c635a-436e-4178-af47-34c83eb6e392",
   "metadata": {},
   "source": [
    "\n",
    "Si la clase es verdadera, la muestra se suele denominarse muestra positiva; en caso contrario, es una muestra negativa."
   ]
  },
  {
   "cell_type": "markdown",
   "id": "0d488074-58a2-4bb3-99f4-35b1f20d4cfb",
   "metadata": {},
   "source": [
    "Para exponer algunos ejemplos, he aquí algunas preguntas que se refieren a una clasificación binaria binaria:\n",
    "* ¿Es este correo electrónico spam?\n",
    "* ¿Vale mi casa al menos 200.000 dólares?\n",
    "* ¿El usuario ha hecho clic en el banner/correo electrónico o lo ha abierto?\n",
    "* ¿El documento actual es sobre finanzas?\n",
    "* ¿Hay una persona en la imagen? ¿Es un hombre o una mujer?"
   ]
  },
  {
   "cell_type": "markdown",
   "id": "033308ff-e334-403b-bb1b-9c3d5f66e1bf",
   "metadata": {},
   "source": [
    "Cuando la salida puede tener múltiples valores (es decir, la etiqueta predicha es una variable categórica), la clasificación se denomina multiclase."
   ]
  },
  {
   "cell_type": "markdown",
   "id": "d85ecee4-bc64-44db-ad85-04b0a883530d",
   "metadata": {},
   "source": [
    "Ejemplos de problemas de clasificación multiclase son:\n",
    "* ¿Qué tipo de flor es ésta?\n",
    "* ¿Cuál es el tema principal de esta página web?\n",
    "* ¿Qué tipo de ataque de red estoy experimentando?\n",
    "* ¿Qué dígito/letra se dibuja en la imagen?"
   ]
  },
  {
   "cell_type": "markdown",
   "id": "8dc367fc-2b5d-4443-a818-9a81116c3b83",
   "metadata": {},
   "source": [
    "## Formalización del problema: clasificación binaria\n",
    "\n",
    "Empecemos ahora con el tipo de clasificación más sencillo: la clasificación binaria.\n"
   ]
  },
  {
   "cell_type": "markdown",
   "id": "d7d6dce8-4384-402d-a3c2-48eb3bd515a6",
   "metadata": {},
   "source": [
    "Formalmente, la observación genérica es un vector de características n-dimensional ($x_i$) emparejado con su etiqueta: la i-ésima genérica puede escribirse como:\n",
    "$$(x_i, y_i): x_i\\in R^n, y_i\\in\\{0,1\\}$$"
   ]
  },
  {
   "cell_type": "markdown",
   "id": "26a554db-7262-426f-9c08-54466a4f2f13",
   "metadata": {},
   "source": [
    "El modelo que subyace al clasificador es una función y se denomina función de clasificación, que puede ser lineal o no lineal. La forma de la función es la siguiente:\n",
    "\n",
    "$$f: R^n \\to \\{0,1\\}$$"
   ]
  },
  {
   "cell_type": "markdown",
   "id": "ca1bfc2d-b3e3-4c00-9e75-5209572fc129",
   "metadata": {},
   "source": [
    "Para tener una comprensión visual de lo que ocurre, consideremos ahora un problema de clasificación binaria binario, en el que cada característica tiene dos dimensiones (un problema bidimensional), utilizando el módulo [make_classification](https://scikit-learn.org/stable/modules/generated/sklearn.datasets.make_classification.html):"
   ]
  },
  {
   "cell_type": "code",
   "execution_count": 1,
   "id": "37632f01-1f12-4d70-98f9-c4229d5bcab5",
   "metadata": {},
   "outputs": [],
   "source": [
    "import numpy as np\n",
    "import matplotlib.pyplot as plt"
   ]
  },
  {
   "cell_type": "code",
   "execution_count": 2,
   "id": "cbeb2082-48fa-455d-9743-b29bf6d41fa4",
   "metadata": {},
   "outputs": [],
   "source": [
    "from sklearn.datasets import make_classification\n",
    "X, y = make_classification(n_samples=100, n_features=2,\n",
    "                           n_informative=2, n_redundant=0,\n",
    "                           n_clusters_per_class=1,\n",
    "                           class_sep = 1.0, random_state=0)"
   ]
  },
  {
   "cell_type": "code",
   "execution_count": 3,
   "id": "5125d493-7042-4399-bbd0-378813c5abc3",
   "metadata": {},
   "outputs": [
    {
     "data": {
      "image/png": "[encoded data removed]",
      "text/plain": [
       "<Figure size 432x288 with 1 Axes>"
      ]
     },
     "metadata": {
      "needs_background": "light"
     },
     "output_type": "display_data"
    }
   ],
   "source": [
    "plt.scatter(X[:, 0], X[:, 1], marker='o', c=y,\n",
    "            linewidth=0, edgecolor=None)\n",
    "plt.xlabel('Feature 1')\n",
    "plt.ylabel('Feature 2')\n",
    "plt.show()"
   ]
  },
  {
   "cell_type": "markdown",
   "id": "b2a6dd35-7ba7-4a78-bf9c-063b9d057aa9",
   "metadata": {},
   "source": [
    "## Evaluar el rendimiento del clasificador\n",
    "\n",
    "Para saber si un clasificador es bueno, o lo que es lo mismo, para identificar el clasificador con el mejor rendimiento en la tarea de clasificación, necesitamos definir algunas métricas."
   ]
  },
  {
   "cell_type": "code",
   "execution_count": 4,
   "id": "b89df8b9-6d0f-4c45-9220-8e5ad7919805",
   "metadata": {},
   "outputs": [],
   "source": [
    "\"\"\"\n",
    "Vamos a ilustrar la definición de las diferentes métricas con un ejemplo sencillo\n",
    "\"\"\"\n",
    "\n",
    "y_orig = [0,0,0,0,0,0,1,1,1,1]\n",
    "y_pred = [0,0,0,0,1,1,1,1,1,0]"
   ]
  },
  {
   "cell_type": "markdown",
   "id": "8853efd9-4192-44af-9d14-f761d070af7b",
   "metadata": {},
   "source": [
    "Un falso positivo es una anomalía o un error en el resultado de una medición o cálculo dado en un modelo de clasificación binaria, indicando la presencia de una condición o característica cuando la misma no está presente en realidad. "
   ]
  },
  {
   "cell_type": "markdown",
   "id": "80f16b3e-da21-484d-85f3-ede75cee9b17",
   "metadata": {},
   "source": [
    "En cambio, un falso negativo es la ausencia de dicha condición o característica en el resultado de una medición o cálculo cuando en realidad sí que está presente. "
   ]
  },
  {
   "cell_type": "markdown",
   "id": "7d9781fe-fdd7-4673-9cc2-d03d60f2b3d0",
   "metadata": {},
   "source": [
    "El contrario de un falso positivo es un verdadero positivo, y el de un falso negativo un verdadero negativo. "
   ]
  },
  {
   "cell_type": "code",
   "execution_count": 5,
   "id": "aeba62a8-f7cc-4c3a-82b0-ed6dc2ea114b",
   "metadata": {},
   "outputs": [
    {
     "name": "stdout",
     "output_type": "stream",
     "text": [
      "[[4 2]\n",
      " [1 3]]\n"
     ]
    }
   ],
   "source": [
    "from sklearn.metrics import confusion_matrix\n",
    "cm = confusion_matrix(y_orig, y_pred)\n",
    "print(cm)"
   ]
  },
  {
   "cell_type": "code",
   "execution_count": 6,
   "id": "c44bbcad-86ed-4903-97ac-27e03833a453",
   "metadata": {},
   "outputs": [
    {
     "name": "stdout",
     "output_type": "stream",
     "text": [
      "\n",
      "Verdaderos negativos: 4\n",
      "Falsos positivos: 2\n",
      "Falsos negativos: 1\n",
      "Verdaderos positivos: 3\n",
      "\n"
     ]
    }
   ],
   "source": [
    "\n",
    "tn, fp, fn, tp = cm.ravel()\n",
    "\n",
    "resultados = \"\"\"\n",
    "Verdaderos negativos: {}\n",
    "Falsos positivos: {}\n",
    "Falsos negativos: {}\n",
    "Verdaderos positivos: {}\n",
    "\"\"\".format(tn, fp, fn, tp)\n",
    "\n",
    "print(resultados)"
   ]
  },
  {
   "cell_type": "code",
   "execution_count": 7,
   "id": "5670b37b-d4d6-418d-b5cb-b761f6b5e990",
   "metadata": {},
   "outputs": [
    {
     "data": {
      "image/png": "[encoded data removed]",
      "text/plain": [
       "<Figure size 288x288 with 2 Axes>"
      ]
     },
     "metadata": {
      "needs_background": "light"
     },
     "output_type": "display_data"
    }
   ],
   "source": [
    "plt.matshow(cm)\n",
    "plt.title('Confusion matrix')\n",
    "plt.colorbar()\n",
    "plt.ylabel('True label')\n",
    "plt.xlabel('Predicted label')\n",
    "plt.show()"
   ]
  },
  {
   "cell_type": "markdown",
   "id": "a600475f-2aa3-41ba-bad5-e11d98b08d0f",
   "metadata": {},
   "source": [
    "Existen muchas métricas que son fáciles de definir matemáticamente. Sin embargo, para entender mejor su significado en ciencia de datos, consulta los siguientes artículos:\n",
    "* [Accuracy, Precision, Recall or F1?](https://towardsdatascience.com/accuracy-precision-recall-or-f1-331fb37c5cb9)\n",
    "* [Precision, Recall, F1, Accuracy en clasificación](https://www.iartificial.net/precision-recall-f1-accuracy-en-clasificacion/)\n",
    "* [Google, Machine Learning Crash Course: Classification](https://www.iartificial.net/precision-recall-f1-accuracy-en-clasificacion/)"
   ]
  },
  {
   "cell_type": "code",
   "execution_count": 8,
   "id": "87d0ccfc-f1af-42b3-af2f-92c54d679e98",
   "metadata": {},
   "outputs": [
    {
     "name": "stdout",
     "output_type": "stream",
     "text": [
      "0.7\n"
     ]
    }
   ],
   "source": [
    "\"\"\"\n",
    "Definición y cálculo de la exactitud (accuracy)\n",
    "\"\"\"\n",
    "accuracy = (tn+tp)/np.sum(cm)\n",
    "print(accuracy)"
   ]
  },
  {
   "cell_type": "code",
   "execution_count": 9,
   "id": "9e680280-9a15-45cb-a8f8-ea1d53f3738a",
   "metadata": {},
   "outputs": [
    {
     "data": {
      "text/plain": [
       "0.7"
      ]
     },
     "execution_count": 9,
     "metadata": {},
     "output_type": "execute_result"
    }
   ],
   "source": [
    "from sklearn.metrics import accuracy_score\n",
    "accuracy_score(y_orig, y_pred)"
   ]
  },
  {
   "cell_type": "code",
   "execution_count": 10,
   "id": "e2bcdbf4-5c49-444c-ba52-640040006a2c",
   "metadata": {},
   "outputs": [
    {
     "name": "stdout",
     "output_type": "stream",
     "text": [
      "0.6\n"
     ]
    }
   ],
   "source": [
    "\"\"\"\n",
    "Definición y cálculo de la precisión (precision)\n",
    "\"\"\"\n",
    "precision = tp/(tp+fp)\n",
    "print(precision)"
   ]
  },
  {
   "cell_type": "code",
   "execution_count": 11,
   "id": "1381846b-1e04-4e30-9d9d-fa6bbd587218",
   "metadata": {},
   "outputs": [
    {
     "data": {
      "text/plain": [
       "0.6"
      ]
     },
     "execution_count": 11,
     "metadata": {},
     "output_type": "execute_result"
    }
   ],
   "source": [
    "from sklearn.metrics import precision_score\n",
    "precision_score(y_orig, y_pred)"
   ]
  },
  {
   "cell_type": "code",
   "execution_count": 12,
   "id": "7a8b2698-0833-4573-b5ec-d018f76179da",
   "metadata": {},
   "outputs": [
    {
     "name": "stdout",
     "output_type": "stream",
     "text": [
      "0.75\n"
     ]
    }
   ],
   "source": [
    "\"\"\"\n",
    "Definición y cálculo de la exhaustividad (recall)\n",
    "\"\"\"\n",
    "recall = tp/(tp+fn)\n",
    "print(recall)"
   ]
  },
  {
   "cell_type": "code",
   "execution_count": 13,
   "id": "73d60fae-a5cd-47a2-b5f4-cabfaf7617fb",
   "metadata": {},
   "outputs": [
    {
     "data": {
      "text/plain": [
       "0.75"
      ]
     },
     "execution_count": 13,
     "metadata": {},
     "output_type": "execute_result"
    }
   ],
   "source": [
    "from sklearn.metrics import recall_score\n",
    "recall_score(y_orig, y_pred)"
   ]
  },
  {
   "cell_type": "code",
   "execution_count": 14,
   "id": "8a517b60-d5ce-43fa-bd39-b6251bd3deeb",
   "metadata": {},
   "outputs": [
    {
     "name": "stdout",
     "output_type": "stream",
     "text": [
      "0.6666666666666665\n"
     ]
    }
   ],
   "source": [
    "\"\"\"\n",
    "Definición y cálculo del valor f1 (f1-score)\n",
    "\"\"\"\n",
    "f1 = 2*(precision*recall)/(precision+recall)\n",
    "print(f1)"
   ]
  },
  {
   "cell_type": "code",
   "execution_count": 15,
   "id": "37d0fdf6-b9e0-424e-8289-83e88059fca5",
   "metadata": {},
   "outputs": [
    {
     "data": {
      "text/plain": [
       "0.6666666666666665"
      ]
     },
     "execution_count": 15,
     "metadata": {},
     "output_type": "execute_result"
    }
   ],
   "source": [
    "from sklearn.metrics import f1_score\n",
    "f1_score(y_orig, y_pred)"
   ]
  },
  {
   "cell_type": "markdown",
   "id": "d54e2802-736c-4e59-bfb3-55a4b242b9f2",
   "metadata": {},
   "source": [
    "En conclusión, si hay tantas puntuaciones de error, ¿cuál es la mejor para usar? La solución es no es muy fácil, y a menudo es mejor tener y evaluar el clasificador en todos ellos. Scikit-learn viene a ayudarnos aquí, proporcionando un método para calcular todas estas puntuaciones para cada clase:"
   ]
  },
  {
   "cell_type": "code",
   "execution_count": 16,
   "id": "3aca1969-713e-4e95-a59f-f4b54a6a14ce",
   "metadata": {},
   "outputs": [
    {
     "name": "stdout",
     "output_type": "stream",
     "text": [
      "              precision    recall  f1-score   support\n",
      "\n",
      "           0       0.80      0.67      0.73         6\n",
      "           1       0.60      0.75      0.67         4\n",
      "\n",
      "    accuracy                           0.70        10\n",
      "   macro avg       0.70      0.71      0.70        10\n",
      "weighted avg       0.72      0.70      0.70        10\n",
      "\n"
     ]
    }
   ],
   "source": [
    "from sklearn.metrics import classification_report\n",
    "print(classification_report(y_orig, y_pred))"
   ]
  },
  {
   "cell_type": "markdown",
   "id": "093b67a2-3683-4d51-b358-e5ac3eb535ef",
   "metadata": {},
   "source": [
    "## Definición de un enfoque basado en la probabilidad\n",
    "\n",
    "Introduzcamos gradualmente cómo funciona la regresión logística. Hemos dicho que es un clasificador, pero su nombre recuerda a un regresor. El elemento que necesitamos para unir las piezas es la interpretación probabilística. "
   ]
  },
  {
   "cell_type": "markdown",
   "id": "fe52df94-a7f5-40f4-983f-90f9d87a9c2b",
   "metadata": {},
   "source": [
    "Modelaremos la respuesta como una variable aleatoria $Y$, con un espacio de estados $\\{y_1,...,y_n\\}$. Dado un vector de variables predictoras $x$, el objetivo es encontrar el estado $y^*$ que maximice la probabilidad $P(Y=y^*|x)$."
   ]
  },
  {
   "cell_type": "markdown",
   "id": "f4787c15-5b36-413e-b4ca-4eeab05ba2b6",
   "metadata": {},
   "source": [
    "Intentemos ahora ajustar un regresor lineal múltiple en un problema de clasificación ficticia, utilizando una interpretación probabilística. "
   ]
  },
  {
   "cell_type": "markdown",
   "id": "9ec16b5f-bd5e-4d90-8fd7-b0e553cb5c33",
   "metadata": {},
   "source": [
    "Reutilizamos el mismo conjunto de datos que creamos anteriormente en este capítulo, pero primero dividimos el conjunto de datos en conjuntos de entrenamiento y de prueba, y convertimos el vector y en valores decimales:"
   ]
  },
  {
   "cell_type": "code",
   "execution_count": 17,
   "id": "044b949a-31b0-4905-9176-7245c9a65742",
   "metadata": {},
   "outputs": [
    {
     "name": "stdout",
     "output_type": "stream",
     "text": [
      "[1. 0. 0. 1. 0. 1. 0. 1. 0. 1. 0. 1. 1. 0. 0. 1. 1. 0. 1. 1. 1. 0. 0. 0.\n",
      " 1. 1. 1. 1. 0. 0. 0. 0. 1.]\n"
     ]
    }
   ],
   "source": [
    "from sklearn.model_selection import train_test_split\n",
    "X_train, X_test, y_train, y_test = train_test_split(\n",
    "    X,y.astype(float),\n",
    "    test_size=0.33, random_state=101)\n",
    "print(y_test)"
   ]
  },
  {
   "cell_type": "code",
   "execution_count": 18,
   "id": "92d6910d-a803-490d-adf9-74102d9957c9",
   "metadata": {},
   "outputs": [
    {
     "name": "stdout",
     "output_type": "stream",
     "text": [
      "[ 0.82842185  0.51658599 -0.24401399  0.77146779  0.808542    0.94872224\n",
      "  0.37298329  0.74570887  0.10601523  1.01249253  0.07114471  0.67290568\n",
      "  0.99195015  0.21141514  0.04820697  0.77430681  0.75355411  0.08874438\n",
      "  0.84335375  0.94186451  0.81684114  0.24892468  0.25725028 -0.45228503\n",
      "  0.99151599  0.65270733  0.85156817  0.89076816 -0.55967141  0.11480037\n",
      "  0.41003575 -0.10808423  0.79492384]\n"
     ]
    }
   ],
   "source": [
    "from sklearn.linear_model import LinearRegression\n",
    "regr = LinearRegression()\n",
    "regr.fit(X_train, y_train)\n",
    "y_regr = regr.predict(X_test)\n",
    "print(y_regr)"
   ]
  },
  {
   "cell_type": "code",
   "execution_count": 19,
   "id": "d6ae7f4e-cb1e-4e15-8913-a823547fae43",
   "metadata": {},
   "outputs": [
    {
     "data": {
      "image/png": "[encoded data removed]",
      "text/plain": [
       "<Figure size 432x288 with 1 Axes>"
      ]
     },
     "metadata": {
      "needs_background": "light"
     },
     "output_type": "display_data"
    }
   ],
   "source": [
    "import numpy as np\n",
    "def model(x):\n",
    "    return 1 / (1 + np.exp(-x))\n",
    "\n",
    "X_vals = np.linspace(-10, 10, 1000)\n",
    "plt.plot(X_vals, model(X_vals), color='blue', linewidth=3)\n",
    "plt.ylabel('sigma(t)')\n",
    "plt.xlabel('t')\n",
    "plt.show()"
   ]
  },
  {
   "cell_type": "code",
   "execution_count": 20,
   "id": "4a9bf761-e44b-44fa-9a92-c395851c3a63",
   "metadata": {},
   "outputs": [
    {
     "name": "stdout",
     "output_type": "stream",
     "text": [
      "[0.7  0.63 0.44 0.68 0.69 0.72 0.59 0.68 0.53 0.73 0.52 0.66 0.73 0.55\n",
      " 0.51 0.68 0.68 0.52 0.7  0.72 0.69 0.56 0.56 0.39 0.73 0.66 0.7  0.71\n",
      " 0.36 0.53 0.6  0.47 0.69]\n"
     ]
    }
   ],
   "source": [
    "y_prob = model(y_regr)\n",
    "print(np.round(y_prob, 2))"
   ]
  },
  {
   "cell_type": "code",
   "execution_count": 21,
   "id": "a2610748-1821-4761-890e-7e48f47d10e0",
   "metadata": {},
   "outputs": [
    {
     "name": "stdout",
     "output_type": "stream",
     "text": [
      "[1 1 0 1 1 1 1 1 1 1 1 1 1 1 1 1 1 1 1 1 1 1 1 0 1 1 1 1 0 1 1 0 1]\n"
     ]
    }
   ],
   "source": [
    "y_pred = (y_prob>=0.5).astype(int)\n",
    "print(y_pred)"
   ]
  },
  {
   "cell_type": "code",
   "execution_count": 22,
   "id": "51d8cd18-265d-4714-bd48-3ea66ba535c0",
   "metadata": {},
   "outputs": [
    {
     "name": "stdout",
     "output_type": "stream",
     "text": [
      "              precision    recall  f1-score   support\n",
      "\n",
      "         0.0       1.00      0.25      0.40        16\n",
      "         1.0       0.59      1.00      0.74        17\n",
      "\n",
      "    accuracy                           0.64        33\n",
      "   macro avg       0.79      0.62      0.57        33\n",
      "weighted avg       0.79      0.64      0.57        33\n",
      "\n"
     ]
    }
   ],
   "source": [
    "print(classification_report(y_test, y_pred))"
   ]
  },
  {
   "cell_type": "code",
   "execution_count": 23,
   "id": "0520d9b4-2fd6-4107-ada7-bff9a8cf2354",
   "metadata": {},
   "outputs": [
    {
     "name": "stdout",
     "output_type": "stream",
     "text": [
      "              precision    recall  f1-score   support\n",
      "\n",
      "         0.0       1.00      0.94      0.97        16\n",
      "         1.0       0.94      1.00      0.97        17\n",
      "\n",
      "    accuracy                           0.97        33\n",
      "   macro avg       0.97      0.97      0.97        33\n",
      "weighted avg       0.97      0.97      0.97        33\n",
      "\n"
     ]
    }
   ],
   "source": [
    "from sklearn.linear_model import LogisticRegression\n",
    "clf = LogisticRegression()\n",
    "clf.fit(X_train, y_train.astype(int))\n",
    "y_clf = clf.predict(X_test)\n",
    "print(classification_report(y_test, y_clf))"
   ]
  },
  {
   "cell_type": "markdown",
   "id": "adaf0d67-ced7-4355-9701-41cb67982811",
   "metadata": {},
   "source": [
    "La regresión logística es un algoritmo muy popular por lo siguiente\n",
    "* Es lineal: es el equivalente a la regresión lineal para la clasificación.\n",
    "* Es muy sencillo de entender, y la salida puede ser la clase más probable, o la probabilidad de pertenencia.\n",
    "* Es sencillo de entrenar: tiene muy pocos coeficientes (un coeficiente por cada característica, más un sesgo). Esto hace que el modelo sea muy pequeño de almacenar (sólo se necesita almacenar un vector de pesos).\n",
    "* Es eficiente desde el punto de vista computacional: puede puede ser entrenado muy rápidamente.\n",
    "* Tiene una extensión para la clasificación multiclase.\n"
   ]
  },
  {
   "cell_type": "markdown",
   "id": "48563cec-1134-4bb8-802f-af0b7dc3a867",
   "metadata": {},
   "source": [
    "\n",
    "Por desgracia, no es un clasificador perfecto y tiene algunos inconvenientes:\n",
    "* A menudo no es muy eficaz, en comparación con los algoritmos más avanzados, porque tiende a no ajustarse (no hay flexibilidad: el límite tiene que ser una línea o un hiperplano)\n",
    "* Es lineal: si el problema no es lineal, no hay forma de ajustar correctamente este clasificador en el conjunto de datos"
   ]
  },
  {
   "cell_type": "markdown",
   "id": "07df50ba-7f50-4ee6-83cc-3be490667cde",
   "metadata": {},
   "source": [
    "## Regresión logística multiclase\n",
    "\n",
    "La extensión de la Regresión Logística, para clasificar más de dos clases, es la Regresión Logística Multiclase. El algoritmo base se denomina One-vs-rest, o One-vs-all, y es sencillo de entender y aplicar."
   ]
  },
  {
   "cell_type": "markdown",
   "id": "0d5bc4d0-8396-405d-9bc1-f37aad274a75",
   "metadata": {},
   "source": [
    "Para hacer la predicción final, sólo tenemos que seleccionar el clasificador que haya emitido la mayor probabilidad. Por ejemplo, habiendo entrenado tres clasificadores, el espacio de características no se divide en dos subplanos, sino según el límite de decisión de los tres clasificadores."
   ]
  },
  {
   "cell_type": "markdown",
   "id": "ea544066-835f-40fd-b853-3cfccbf03128",
   "metadata": {},
   "source": [
    "De hecho, el enfoque de \"uno contra todos\" es muy conveniente:\n",
    "* El número de clasificadores a ajustar es exactamente el mismo que el número de clases.\n",
    "* Por lo tanto, el modelo estará compuesto por N (donde N es el número de clases) vectores de peso.\n",
    "* Además, esta operación es paralela y el entrenamiento de los N clasificadores puede realizarse simultáneamente, utilizando múltiples hilos (hasta N hilos)."
   ]
  },
  {
   "cell_type": "code",
   "execution_count": 24,
   "id": "3f0c4a36-85c8-407b-b6f2-889298d69f33",
   "metadata": {},
   "outputs": [],
   "source": [
    "import matplotlib.pyplot as plt\n",
    "from sklearn.datasets import make_classification\n",
    "X, y = make_classification(n_samples=200, n_features=2,\n",
    "                           n_classes=3, n_informative=2,\n",
    "                           n_redundant=0, n_clusters_per_class=1,\n",
    "                           class_sep = 1.0, random_state=101)"
   ]
  },
  {
   "cell_type": "code",
   "execution_count": 25,
   "id": "9143633c-d677-4ba9-b7b1-db896baaf55f",
   "metadata": {},
   "outputs": [
    {
     "data": {
      "image/png": "[encoded data removed]",
      "text/plain": [
       "<Figure size 432x288 with 1 Axes>"
      ]
     },
     "metadata": {
      "needs_background": "light"
     },
     "output_type": "display_data"
    }
   ],
   "source": [
    "plt.scatter(X[:, 0], X[:, 1], marker='o', c=y, linewidth=0, edgecolor=None)\n",
    "plt.show()"
   ]
  },
  {
   "cell_type": "code",
   "execution_count": 26,
   "id": "95645881-3c97-448c-a362-832f9e14058a",
   "metadata": {},
   "outputs": [],
   "source": [
    "from sklearn.model_selection import train_test_split\n",
    "X_train, X_test, y_train, y_test = train_test_split(X, y.astype(float),\n",
    "                                                    test_size=0.33, random_state=101)"
   ]
  },
  {
   "cell_type": "code",
   "execution_count": 27,
   "id": "5d512709-dd17-4548-bc38-bfc81ed841dc",
   "metadata": {},
   "outputs": [],
   "source": [
    "from sklearn.linear_model import LogisticRegression\n",
    "clf = LogisticRegression()\n",
    "clf.fit(X_train, y_train.astype(int))\n",
    "y_clf = clf.predict(X_test)"
   ]
  },
  {
   "cell_type": "code",
   "execution_count": 28,
   "id": "6731eb01-b901-4314-8077-9a8cd14c4a24",
   "metadata": {},
   "outputs": [
    {
     "name": "stdout",
     "output_type": "stream",
     "text": [
      "[[0.34624735 0.64703258 0.00672007]]\n",
      "0.0\n",
      "1\n"
     ]
    }
   ],
   "source": [
    "print(clf.predict_proba(X_test[0].reshape(1,-1)))\n",
    "print(y_test[0])\n",
    "print(y_clf[0])"
   ]
  },
  {
   "cell_type": "code",
   "execution_count": 29,
   "id": "1059107f-db10-473a-8bc7-b2ce4e812e43",
   "metadata": {},
   "outputs": [
    {
     "name": "stdout",
     "output_type": "stream",
     "text": [
      "              precision    recall  f1-score   support\n",
      "\n",
      "         0.0       0.87      0.83      0.85        24\n",
      "         1.0       0.87      0.91      0.89        22\n",
      "         2.0       0.95      0.95      0.95        20\n",
      "\n",
      "    accuracy                           0.89        66\n",
      "   macro avg       0.90      0.90      0.90        66\n",
      "weighted avg       0.89      0.89      0.89        66\n",
      "\n"
     ]
    }
   ],
   "source": [
    "from sklearn.metrics import classification_report\n",
    "print(classification_report(y_test, y_clf))"
   ]
  },
  {
   "cell_type": "markdown",
   "id": "5add38a0-23bf-4bea-9765-66911859d1b0",
   "metadata": {},
   "source": [
    "Ahora, le mostraremos cómo utilizar diferentes bibliotecas, y diferentes módulos, para realizar la tarea de clasificación, utilizando la regresión logística. No nos centraremos aquí en cómo medir el rendimiento, sino en cómo los coeficientes pueden componer el modelo."
   ]
  },
  {
   "cell_type": "code",
   "execution_count": 30,
   "id": "2008dc5e-dbe3-48ea-aeaa-96fd40d2667d",
   "metadata": {},
   "outputs": [],
   "source": [
    "import statsmodels.api as sm\n",
    "import statsmodels.formula.api as smf"
   ]
  },
  {
   "cell_type": "code",
   "execution_count": 31,
   "id": "775a5f68-a7d3-44ef-880f-64cfa3a8390a",
   "metadata": {},
   "outputs": [],
   "source": [
    "X, y = make_classification(n_samples=10000, n_features=10,\n",
    "                           n_informative=10, n_redundant=0,\n",
    "                           random_state=101)"
   ]
  },
  {
   "cell_type": "code",
   "execution_count": 32,
   "id": "d89b145c-40d4-45bb-9752-88940596f188",
   "metadata": {},
   "outputs": [
    {
     "name": "stdout",
     "output_type": "stream",
     "text": [
      "Optimization terminated successfully.\n",
      "         Current function value: 0.438685\n",
      "         Iterations 7\n"
     ]
    }
   ],
   "source": [
    "Xc = sm.add_constant(X)\n",
    "logistic_regression = sm.Logit(y,Xc)\n",
    "fitted_model = logistic_regression.fit()"
   ]
  },
  {
   "cell_type": "code",
   "execution_count": 33,
   "id": "b378b0e7-e746-4c09-a054-829dc8f37edc",
   "metadata": {},
   "outputs": [
    {
     "data": {
      "text/html": [
       "<table class=\"simpletable\">\n",
       "<caption>Logit Regression Results</caption>\n",
       "<tr>\n",
       "  <th>Dep. Variable:</th>           <td>y</td>        <th>  No. Observations:  </th>  <td> 10000</td> \n",
       "</tr>\n",
       "<tr>\n",
       "  <th>Model:</th>                 <td>Logit</td>      <th>  Df Residuals:      </th>  <td>  9989</td> \n",
       "</tr>\n",
       "<tr>\n",
       "  <th>Method:</th>                 <td>MLE</td>       <th>  Df Model:          </th>  <td>    10</td> \n",
       "</tr>\n",
       "<tr>\n",
       "  <th>Date:</th>            <td>Thu, 01 Jul 2021</td> <th>  Pseudo R-squ.:     </th>  <td>0.3671</td> \n",
       "</tr>\n",
       "<tr>\n",
       "  <th>Time:</th>                <td>19:49:41</td>     <th>  Log-Likelihood:    </th> <td> -4386.8</td>\n",
       "</tr>\n",
       "<tr>\n",
       "  <th>converged:</th>             <td>True</td>       <th>  LL-Null:           </th> <td> -6931.5</td>\n",
       "</tr>\n",
       "<tr>\n",
       "  <th>Covariance Type:</th>     <td>nonrobust</td>    <th>  LLR p-value:       </th>  <td> 0.000</td> \n",
       "</tr>\n",
       "</table>\n",
       "<table class=\"simpletable\">\n",
       "<tr>\n",
       "    <td></td>       <th>coef</th>     <th>std err</th>      <th>z</th>      <th>P>|z|</th>  <th>[0.025</th>    <th>0.975]</th>  \n",
       "</tr>\n",
       "<tr>\n",
       "  <th>const</th> <td>    0.4299</td> <td>    0.039</td> <td>   11.023</td> <td> 0.000</td> <td>    0.353</td> <td>    0.506</td>\n",
       "</tr>\n",
       "<tr>\n",
       "  <th>x1</th>    <td>    0.0671</td> <td>    0.015</td> <td>    4.410</td> <td> 0.000</td> <td>    0.037</td> <td>    0.097</td>\n",
       "</tr>\n",
       "<tr>\n",
       "  <th>x2</th>    <td>   -0.7828</td> <td>    0.019</td> <td>  -41.947</td> <td> 0.000</td> <td>   -0.819</td> <td>   -0.746</td>\n",
       "</tr>\n",
       "<tr>\n",
       "  <th>x3</th>    <td>    0.1221</td> <td>    0.016</td> <td>    7.815</td> <td> 0.000</td> <td>    0.091</td> <td>    0.153</td>\n",
       "</tr>\n",
       "<tr>\n",
       "  <th>x4</th>    <td>    0.2841</td> <td>    0.016</td> <td>   18.150</td> <td> 0.000</td> <td>    0.253</td> <td>    0.315</td>\n",
       "</tr>\n",
       "<tr>\n",
       "  <th>x5</th>    <td>    0.1469</td> <td>    0.014</td> <td>   10.283</td> <td> 0.000</td> <td>    0.119</td> <td>    0.175</td>\n",
       "</tr>\n",
       "<tr>\n",
       "  <th>x6</th>    <td>   -0.3414</td> <td>    0.019</td> <td>  -17.636</td> <td> 0.000</td> <td>   -0.379</td> <td>   -0.303</td>\n",
       "</tr>\n",
       "<tr>\n",
       "  <th>x7</th>    <td>    0.0503</td> <td>    0.014</td> <td>    3.481</td> <td> 0.000</td> <td>    0.022</td> <td>    0.079</td>\n",
       "</tr>\n",
       "<tr>\n",
       "  <th>x8</th>    <td>   -0.1393</td> <td>    0.014</td> <td>   -9.642</td> <td> 0.000</td> <td>   -0.168</td> <td>   -0.111</td>\n",
       "</tr>\n",
       "<tr>\n",
       "  <th>x9</th>    <td>    0.1127</td> <td>    0.014</td> <td>    7.931</td> <td> 0.000</td> <td>    0.085</td> <td>    0.141</td>\n",
       "</tr>\n",
       "<tr>\n",
       "  <th>x10</th>   <td>   -0.4792</td> <td>    0.018</td> <td>  -27.340</td> <td> 0.000</td> <td>   -0.514</td> <td>   -0.445</td>\n",
       "</tr>\n",
       "</table>"
      ],
      "text/plain": [
       "<class 'statsmodels.iolib.summary.Summary'>\n",
       "\"\"\"\n",
       "                           Logit Regression Results                           \n",
       "==============================================================================\n",
       "Dep. Variable:                      y   No. Observations:                10000\n",
       "Model:                          Logit   Df Residuals:                     9989\n",
       "Method:                           MLE   Df Model:                           10\n",
       "Date:                Thu, 01 Jul 2021   Pseudo R-squ.:                  0.3671\n",
       "Time:                        19:49:41   Log-Likelihood:                -4386.8\n",
       "converged:                       True   LL-Null:                       -6931.5\n",
       "Covariance Type:            nonrobust   LLR p-value:                     0.000\n",
       "==============================================================================\n",
       "                 coef    std err          z      P>|z|      [0.025      0.975]\n",
       "------------------------------------------------------------------------------\n",
       "const          0.4299      0.039     11.023      0.000       0.353       0.506\n",
       "x1             0.0671      0.015      4.410      0.000       0.037       0.097\n",
       "x2            -0.7828      0.019    -41.947      0.000      -0.819      -0.746\n",
       "x3             0.1221      0.016      7.815      0.000       0.091       0.153\n",
       "x4             0.2841      0.016     18.150      0.000       0.253       0.315\n",
       "x5             0.1469      0.014     10.283      0.000       0.119       0.175\n",
       "x6            -0.3414      0.019    -17.636      0.000      -0.379      -0.303\n",
       "x7             0.0503      0.014      3.481      0.000       0.022       0.079\n",
       "x8            -0.1393      0.014     -9.642      0.000      -0.168      -0.111\n",
       "x9             0.1127      0.014      7.931      0.000       0.085       0.141\n",
       "x10           -0.4792      0.018    -27.340      0.000      -0.514      -0.445\n",
       "==============================================================================\n",
       "\"\"\""
      ]
     },
     "execution_count": 33,
     "metadata": {},
     "output_type": "execute_result"
    }
   ],
   "source": [
    "fitted_model.summary()"
   ]
  },
  {
   "cell_type": "code",
   "execution_count": 34,
   "id": "f1b102e2-fbea-4c3b-a81d-743f18156806",
   "metadata": {},
   "outputs": [
    {
     "name": "stdout",
     "output_type": "stream",
     "text": [
      "Optimization terminated successfully.\n",
      "         Current function value: 0.438685\n",
      "         Iterations 7\n"
     ]
    },
    {
     "data": {
      "text/html": [
       "<table class=\"simpletable\">\n",
       "<caption>Logit Regression Results</caption>\n",
       "<tr>\n",
       "  <th>Dep. Variable:</th>       <td>response</td>     <th>  No. Observations:  </th>  <td> 10000</td> \n",
       "</tr>\n",
       "<tr>\n",
       "  <th>Model:</th>                 <td>Logit</td>      <th>  Df Residuals:      </th>  <td>  9989</td> \n",
       "</tr>\n",
       "<tr>\n",
       "  <th>Method:</th>                 <td>MLE</td>       <th>  Df Model:          </th>  <td>    10</td> \n",
       "</tr>\n",
       "<tr>\n",
       "  <th>Date:</th>            <td>Thu, 01 Jul 2021</td> <th>  Pseudo R-squ.:     </th>  <td>0.3671</td> \n",
       "</tr>\n",
       "<tr>\n",
       "  <th>Time:</th>                <td>19:49:41</td>     <th>  Log-Likelihood:    </th> <td> -4386.8</td>\n",
       "</tr>\n",
       "<tr>\n",
       "  <th>converged:</th>             <td>True</td>       <th>  LL-Null:           </th> <td> -6931.5</td>\n",
       "</tr>\n",
       "<tr>\n",
       "  <th>Covariance Type:</th>     <td>nonrobust</td>    <th>  LLR p-value:       </th>  <td> 0.000</td> \n",
       "</tr>\n",
       "</table>\n",
       "<table class=\"simpletable\">\n",
       "<tr>\n",
       "      <td></td>         <th>coef</th>     <th>std err</th>      <th>z</th>      <th>P>|z|</th>  <th>[0.025</th>    <th>0.975]</th>  \n",
       "</tr>\n",
       "<tr>\n",
       "  <th>Intercept</th> <td>    0.4299</td> <td>    0.039</td> <td>   11.023</td> <td> 0.000</td> <td>    0.353</td> <td>    0.506</td>\n",
       "</tr>\n",
       "<tr>\n",
       "  <th>VAR1</th>      <td>    0.0671</td> <td>    0.015</td> <td>    4.410</td> <td> 0.000</td> <td>    0.037</td> <td>    0.097</td>\n",
       "</tr>\n",
       "<tr>\n",
       "  <th>VAR2</th>      <td>   -0.7828</td> <td>    0.019</td> <td>  -41.947</td> <td> 0.000</td> <td>   -0.819</td> <td>   -0.746</td>\n",
       "</tr>\n",
       "<tr>\n",
       "  <th>VAR3</th>      <td>    0.1221</td> <td>    0.016</td> <td>    7.815</td> <td> 0.000</td> <td>    0.091</td> <td>    0.153</td>\n",
       "</tr>\n",
       "<tr>\n",
       "  <th>VAR4</th>      <td>    0.2841</td> <td>    0.016</td> <td>   18.150</td> <td> 0.000</td> <td>    0.253</td> <td>    0.315</td>\n",
       "</tr>\n",
       "<tr>\n",
       "  <th>VAR5</th>      <td>    0.1469</td> <td>    0.014</td> <td>   10.283</td> <td> 0.000</td> <td>    0.119</td> <td>    0.175</td>\n",
       "</tr>\n",
       "<tr>\n",
       "  <th>VAR6</th>      <td>   -0.3414</td> <td>    0.019</td> <td>  -17.636</td> <td> 0.000</td> <td>   -0.379</td> <td>   -0.303</td>\n",
       "</tr>\n",
       "<tr>\n",
       "  <th>VAR7</th>      <td>    0.0503</td> <td>    0.014</td> <td>    3.481</td> <td> 0.000</td> <td>    0.022</td> <td>    0.079</td>\n",
       "</tr>\n",
       "<tr>\n",
       "  <th>VAR8</th>      <td>   -0.1393</td> <td>    0.014</td> <td>   -9.642</td> <td> 0.000</td> <td>   -0.168</td> <td>   -0.111</td>\n",
       "</tr>\n",
       "<tr>\n",
       "  <th>VAR9</th>      <td>    0.1127</td> <td>    0.014</td> <td>    7.931</td> <td> 0.000</td> <td>    0.085</td> <td>    0.141</td>\n",
       "</tr>\n",
       "<tr>\n",
       "  <th>VAR10</th>     <td>   -0.4792</td> <td>    0.018</td> <td>  -27.340</td> <td> 0.000</td> <td>   -0.514</td> <td>   -0.445</td>\n",
       "</tr>\n",
       "</table>"
      ],
      "text/plain": [
       "<class 'statsmodels.iolib.summary.Summary'>\n",
       "\"\"\"\n",
       "                           Logit Regression Results                           \n",
       "==============================================================================\n",
       "Dep. Variable:               response   No. Observations:                10000\n",
       "Model:                          Logit   Df Residuals:                     9989\n",
       "Method:                           MLE   Df Model:                           10\n",
       "Date:                Thu, 01 Jul 2021   Pseudo R-squ.:                  0.3671\n",
       "Time:                        19:49:41   Log-Likelihood:                -4386.8\n",
       "converged:                       True   LL-Null:                       -6931.5\n",
       "Covariance Type:            nonrobust   LLR p-value:                     0.000\n",
       "==============================================================================\n",
       "                 coef    std err          z      P>|z|      [0.025      0.975]\n",
       "------------------------------------------------------------------------------\n",
       "Intercept      0.4299      0.039     11.023      0.000       0.353       0.506\n",
       "VAR1           0.0671      0.015      4.410      0.000       0.037       0.097\n",
       "VAR2          -0.7828      0.019    -41.947      0.000      -0.819      -0.746\n",
       "VAR3           0.1221      0.016      7.815      0.000       0.091       0.153\n",
       "VAR4           0.2841      0.016     18.150      0.000       0.253       0.315\n",
       "VAR5           0.1469      0.014     10.283      0.000       0.119       0.175\n",
       "VAR6          -0.3414      0.019    -17.636      0.000      -0.379      -0.303\n",
       "VAR7           0.0503      0.014      3.481      0.000       0.022       0.079\n",
       "VAR8          -0.1393      0.014     -9.642      0.000      -0.168      -0.111\n",
       "VAR9           0.1127      0.014      7.931      0.000       0.085       0.141\n",
       "VAR10         -0.4792      0.018    -27.340      0.000      -0.514      -0.445\n",
       "==============================================================================\n",
       "\"\"\""
      ]
     },
     "execution_count": 34,
     "metadata": {},
     "output_type": "execute_result"
    }
   ],
   "source": [
    "import pandas as pd\n",
    "Xd = pd.DataFrame(X)\n",
    "Xd.columns = ['VAR'+str(i+1) for i in range(10)]\n",
    "Xd['response'] = y\n",
    "logistic_regression = smf.logit(formula =\n",
    "'response ~ VAR1+ VAR2 + VAR3 + VAR4 + \\\n",
    "VAR5 + VAR6 + VAR7 + VAR8 + VAR9 + VAR10', data=Xd)\n",
    "fitted_model = logistic_regression.fit()\n",
    "fitted_model.summary()"
   ]
  },
  {
   "cell_type": "markdown",
   "id": "eb67214d-50d9-41f1-8bac-8f371af718fe",
   "metadata": {},
   "source": [
    "Por último, pasamos a la biblioteca Scikit-learn, y a su implementación de la Regresión Logística Regresión Logística. Scikit-learn tiene dos implementaciones: una basada en la solución clásica de la optimización de la regresión logística, y la otra basada en una implementación rápida de SGD. Exploraremos ambas."
   ]
  },
  {
   "cell_type": "code",
   "execution_count": 35,
   "id": "efb924ca-c29c-46ce-bbf0-54a83c7b5123",
   "metadata": {},
   "outputs": [
    {
     "data": {
      "text/plain": [
       "LogisticRegression(C=10000.0, random_state=101, tol=1e-25)"
      ]
     },
     "execution_count": 35,
     "metadata": {},
     "output_type": "execute_result"
    }
   ],
   "source": [
    "from sklearn.linear_model import LogisticRegression\n",
    "clf = LogisticRegression(C=1E4, tol=1E-25, random_state=101)\n",
    "clf.fit(X,y)"
   ]
  },
  {
   "cell_type": "code",
   "execution_count": 36,
   "id": "779346bf-8e83-4c8b-9aa3-3e1af1e5730d",
   "metadata": {},
   "outputs": [
    {
     "name": "stdout",
     "output_type": "stream",
     "text": [
      "[ 0.4299  0.0671 -0.7828  0.1221  0.2841  0.1469 -0.3414  0.0503 -0.1393\n",
      "  0.1127 -0.4792]\n"
     ]
    }
   ],
   "source": [
    "coeffs = [clf.intercept_[0]]\n",
    "coeffs.extend(clf.coef_[0])\n",
    "print(np.round(coeffs,4))"
   ]
  },
  {
   "cell_type": "markdown",
   "id": "78afffa0-caff-49ee-98b7-4cf7bb624a2f",
   "metadata": {},
   "source": [
    "Como último modelo, probamos la implementación Scikit-learn del método de optimización SGD (Stochastic Gradient Descent)."
   ]
  },
  {
   "cell_type": "code",
   "execution_count": 37,
   "id": "f240c7c8-cdbf-4066-bd21-99b921ffb235",
   "metadata": {},
   "outputs": [
    {
     "data": {
      "text/plain": [
       "SGDClassifier(loss='log', max_iter=100.0, random_state=101)"
      ]
     },
     "execution_count": 37,
     "metadata": {},
     "output_type": "execute_result"
    }
   ],
   "source": [
    "from sklearn.linear_model import SGDClassifier\n",
    "clf = SGDClassifier(loss='log', alpha=1E-4, max_iter=1E2, random_state=101)\n",
    "clf.fit(X,y)"
   ]
  },
  {
   "cell_type": "code",
   "execution_count": 38,
   "id": "60fb47d8-c6dd-49f6-8df1-a6ff759623ce",
   "metadata": {},
   "outputs": [
    {
     "name": "stdout",
     "output_type": "stream",
     "text": [
      "[ 0.5069  0.0705 -0.8884  0.0352  0.3366  0.2555 -0.4676  0.1485 -0.2201\n",
      "  0.146  -0.4688]\n"
     ]
    }
   ],
   "source": [
    "coeffs = [clf.intercept_[0]]\n",
    "coeffs.extend(clf.coef_[0])\n",
    "print(np.round(coeffs,4))"
   ]
  },
  {
   "cell_type": "markdown",
   "id": "56b619f4-5139-4c6f-b8e4-1388525b3fbe",
   "metadata": {},
   "source": [
    "## Resumen\n",
    "\n",
    "Hemos visto en este capítulo cómo construir un clasificador binario basado en la Regresión Lineal y la función logística. Es rápido, pequeño y muy efectivo, y puede ser entrenado usando una técnica incremental basada en el SGD. Además, con muy poco esfuerzo (el enfoque One-vs-Rest ), el regresor logístico binario puede convertirse en multiclase."
   ]
  },
  {
   "cell_type": "code",
   "execution_count": null,
   "id": "95cab5b7-7690-4f55-8426-bda819a139fc",
   "metadata": {},
   "outputs": [],
   "source": []
  }
 ],
 "metadata": {
  "kernelspec": {
   "display_name": "Python 3",
   "language": "python",
   "name": "python3"
  },
  "language_info": {
   "codemirror_mode": {
    "name": "ipython",
    "version": 3
   },
   "file_extension": ".py",
   "mimetype": "text/x-python",
   "name": "python",
   "nbconvert_exporter": "python",
   "pygments_lexer": "ipython3",
   "version": "3.8.8"
  }
 },
 "nbformat": 4,
 "nbformat_minor": 5
}
