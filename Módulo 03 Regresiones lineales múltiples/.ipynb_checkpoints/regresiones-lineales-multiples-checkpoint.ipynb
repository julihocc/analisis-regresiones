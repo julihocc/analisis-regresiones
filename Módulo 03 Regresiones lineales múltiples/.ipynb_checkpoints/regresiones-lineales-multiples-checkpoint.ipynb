{
 "cells": [
  {
   "cell_type": "markdown",
   "id": "3a90ac71-cb55-4314-8a31-f87e9a917326",
   "metadata": {
    "slideshow": {
     "slide_type": "slide"
    },
    "tags": []
   },
   "source": [
    "# Regresiones lineales múltiples\n",
    "**Centro Turing**\n",
    "\n",
    "En esta unidad, vamos a: \n",
    "* Ampliar los procedimientos de una regresión simple a una múltiple, vigilando posibles fuentes de problemas como la multicolinealidad \n",
    "* Comprender la importancia de cada término en la ecuación del modelo lineal \n",
    "* Hacer que sus variables trabajen juntas y aumente su capacidad de predicción utilizando las interacciones entre las variables \n",
    "* Aproveche las expansiones polinómicas para aumentar el ajuste de su modelo lineal con funciones no lineales"
   ]
  },
  {
   "cell_type": "markdown",
   "id": "ef4c45bd-60ea-4649-9db4-b3bd49478b88",
   "metadata": {
    "slideshow": {
     "slide_type": "slide"
    },
    "tags": []
   },
   "source": [
    "## Uso de múltiples funciones \n",
    "\n",
    "Para recapitular las herramientas vistas en el capítulo anterior, recargamos todos los paquetes y el conjunto de datos de Boston:"
   ]
  },
  {
   "cell_type": "code",
   "execution_count": 1,
   "id": "2b380da0-1507-4bdd-8efe-3fc2cc80a57e",
   "metadata": {
    "slideshow": {
     "slide_type": "slide"
    },
    "tags": []
   },
   "outputs": [],
   "source": [
    "import numpy as np \n",
    "import pandas as pd\n",
    "import matplotlib as mpl \n",
    "from sklearn.datasets import load_boston\n",
    "from sklearn import linear_model\n",
    "import statsmodels.api as sm\n",
    "import statsmodels.formula.api as smf\n",
    "from sklearn.metrics import r2_score"
   ]
  },
  {
   "cell_type": "code",
   "execution_count": 2,
   "id": "9f406477-139b-44cf-9c7e-cd259efc4899",
   "metadata": {
    "slideshow": {
     "slide_type": "slide"
    },
    "tags": []
   },
   "outputs": [],
   "source": [
    "boston = load_boston() \n",
    "dataset = pd.DataFrame(boston.data, columns=boston.feature_names)\n",
    "dataset['target'] = boston.target"
   ]
  },
  {
   "cell_type": "code",
   "execution_count": 3,
   "id": "183a72f9-bf4c-45a8-b10c-301cf327ed31",
   "metadata": {
    "slideshow": {
     "slide_type": "slide"
    },
    "tags": []
   },
   "outputs": [],
   "source": [
    "observations = len(dataset) \n",
    "variables = dataset.columns[:-1] \n",
    "X = dataset[variables]\n",
    "y = dataset['target'].values"
   ]
  },
  {
   "cell_type": "markdown",
   "id": "e2ee26df-513b-40b4-a9a4-131fc9005065",
   "metadata": {
    "slideshow": {
     "slide_type": "slide"
    },
    "tags": []
   },
   "source": [
    "## Construcción de modelos con Statsmodels \n",
    "\n",
    "Como primer paso para ampliar a más predictores el análisis realizado anteriormente con Statsmodels, vamos a recargar los módulos necesarios del paquete (uno que trabaja con matrices y el otro con fórmulas):"
   ]
  },
  {
   "cell_type": "code",
   "execution_count": 4,
   "id": "566c8bf1-c3b2-473f-8fbb-48ca2f3b62de",
   "metadata": {
    "slideshow": {
     "slide_type": "slide"
    },
    "tags": []
   },
   "outputs": [
    {
     "name": "stderr",
     "output_type": "stream",
     "text": [
      "C:\\Users\\julih\\OneDrive\\Documentos\\Repositorios\\analisis-regresiones\\venv\\lib\\site-packages\\statsmodels\\tsa\\tsatools.py:142: FutureWarning: In a future version of pandas all arguments of concat except for the argument 'objs' will be keyword-only\n",
      "  x = pd.concat(x[::order], 1)\n"
     ]
    }
   ],
   "source": [
    "\"\"\"\n",
    "Preparemos también una matriz de entrada adecuada, llamándola Xc después de haberla incrementado con una columna extra que contenga el vector de sesgo \n",
    "(una variable constante que tiene el valor unitario):\n",
    "\"\"\"\n",
    "Xc = sm.add_constant(X) \n",
    "linear_regression = sm.OLS(y,Xc)\n",
    "fitted_model = linear_regression.fit()"
   ]
  },
  {
   "cell_type": "code",
   "execution_count": 5,
   "id": "dfab9a43-dcb6-480b-b6ed-e597e2ab72b0",
   "metadata": {
    "slideshow": {
     "slide_type": "slide"
    },
    "tags": []
   },
   "outputs": [
    {
     "data": {
      "text/html": [
       "<table class=\"simpletable\">\n",
       "<caption>OLS Regression Results</caption>\n",
       "<tr>\n",
       "  <th>Dep. Variable:</th>            <td>y</td>        <th>  R-squared:         </th> <td>   0.741</td> \n",
       "</tr>\n",
       "<tr>\n",
       "  <th>Model:</th>                   <td>OLS</td>       <th>  Adj. R-squared:    </th> <td>   0.734</td> \n",
       "</tr>\n",
       "<tr>\n",
       "  <th>Method:</th>             <td>Least Squares</td>  <th>  F-statistic:       </th> <td>   108.1</td> \n",
       "</tr>\n",
       "<tr>\n",
       "  <th>Date:</th>             <td>Tue, 20 Jul 2021</td> <th>  Prob (F-statistic):</th> <td>6.72e-135</td>\n",
       "</tr>\n",
       "<tr>\n",
       "  <th>Time:</th>                 <td>18:36:58</td>     <th>  Log-Likelihood:    </th> <td> -1498.8</td> \n",
       "</tr>\n",
       "<tr>\n",
       "  <th>No. Observations:</th>      <td>   506</td>      <th>  AIC:               </th> <td>   3026.</td> \n",
       "</tr>\n",
       "<tr>\n",
       "  <th>Df Residuals:</th>          <td>   492</td>      <th>  BIC:               </th> <td>   3085.</td> \n",
       "</tr>\n",
       "<tr>\n",
       "  <th>Df Model:</th>              <td>    13</td>      <th>                     </th>     <td> </td>    \n",
       "</tr>\n",
       "<tr>\n",
       "  <th>Covariance Type:</th>      <td>nonrobust</td>    <th>                     </th>     <td> </td>    \n",
       "</tr>\n",
       "</table>\n",
       "<table class=\"simpletable\">\n",
       "<tr>\n",
       "     <td></td>        <th>coef</th>     <th>std err</th>      <th>t</th>      <th>P>|t|</th>  <th>[0.025</th>    <th>0.975]</th>  \n",
       "</tr>\n",
       "<tr>\n",
       "  <th>const</th>   <td>   36.4595</td> <td>    5.103</td> <td>    7.144</td> <td> 0.000</td> <td>   26.432</td> <td>   46.487</td>\n",
       "</tr>\n",
       "<tr>\n",
       "  <th>CRIM</th>    <td>   -0.1080</td> <td>    0.033</td> <td>   -3.287</td> <td> 0.001</td> <td>   -0.173</td> <td>   -0.043</td>\n",
       "</tr>\n",
       "<tr>\n",
       "  <th>ZN</th>      <td>    0.0464</td> <td>    0.014</td> <td>    3.382</td> <td> 0.001</td> <td>    0.019</td> <td>    0.073</td>\n",
       "</tr>\n",
       "<tr>\n",
       "  <th>INDUS</th>   <td>    0.0206</td> <td>    0.061</td> <td>    0.334</td> <td> 0.738</td> <td>   -0.100</td> <td>    0.141</td>\n",
       "</tr>\n",
       "<tr>\n",
       "  <th>CHAS</th>    <td>    2.6867</td> <td>    0.862</td> <td>    3.118</td> <td> 0.002</td> <td>    0.994</td> <td>    4.380</td>\n",
       "</tr>\n",
       "<tr>\n",
       "  <th>NOX</th>     <td>  -17.7666</td> <td>    3.820</td> <td>   -4.651</td> <td> 0.000</td> <td>  -25.272</td> <td>  -10.262</td>\n",
       "</tr>\n",
       "<tr>\n",
       "  <th>RM</th>      <td>    3.8099</td> <td>    0.418</td> <td>    9.116</td> <td> 0.000</td> <td>    2.989</td> <td>    4.631</td>\n",
       "</tr>\n",
       "<tr>\n",
       "  <th>AGE</th>     <td>    0.0007</td> <td>    0.013</td> <td>    0.052</td> <td> 0.958</td> <td>   -0.025</td> <td>    0.027</td>\n",
       "</tr>\n",
       "<tr>\n",
       "  <th>DIS</th>     <td>   -1.4756</td> <td>    0.199</td> <td>   -7.398</td> <td> 0.000</td> <td>   -1.867</td> <td>   -1.084</td>\n",
       "</tr>\n",
       "<tr>\n",
       "  <th>RAD</th>     <td>    0.3060</td> <td>    0.066</td> <td>    4.613</td> <td> 0.000</td> <td>    0.176</td> <td>    0.436</td>\n",
       "</tr>\n",
       "<tr>\n",
       "  <th>TAX</th>     <td>   -0.0123</td> <td>    0.004</td> <td>   -3.280</td> <td> 0.001</td> <td>   -0.020</td> <td>   -0.005</td>\n",
       "</tr>\n",
       "<tr>\n",
       "  <th>PTRATIO</th> <td>   -0.9527</td> <td>    0.131</td> <td>   -7.283</td> <td> 0.000</td> <td>   -1.210</td> <td>   -0.696</td>\n",
       "</tr>\n",
       "<tr>\n",
       "  <th>B</th>       <td>    0.0093</td> <td>    0.003</td> <td>    3.467</td> <td> 0.001</td> <td>    0.004</td> <td>    0.015</td>\n",
       "</tr>\n",
       "<tr>\n",
       "  <th>LSTAT</th>   <td>   -0.5248</td> <td>    0.051</td> <td>  -10.347</td> <td> 0.000</td> <td>   -0.624</td> <td>   -0.425</td>\n",
       "</tr>\n",
       "</table>\n",
       "<table class=\"simpletable\">\n",
       "<tr>\n",
       "  <th>Omnibus:</th>       <td>178.041</td> <th>  Durbin-Watson:     </th> <td>   1.078</td> \n",
       "</tr>\n",
       "<tr>\n",
       "  <th>Prob(Omnibus):</th> <td> 0.000</td>  <th>  Jarque-Bera (JB):  </th> <td> 783.126</td> \n",
       "</tr>\n",
       "<tr>\n",
       "  <th>Skew:</th>          <td> 1.521</td>  <th>  Prob(JB):          </th> <td>8.84e-171</td>\n",
       "</tr>\n",
       "<tr>\n",
       "  <th>Kurtosis:</th>      <td> 8.281</td>  <th>  Cond. No.          </th> <td>1.51e+04</td> \n",
       "</tr>\n",
       "</table><br/><br/>Notes:<br/>[1] Standard Errors assume that the covariance matrix of the errors is correctly specified.<br/>[2] The condition number is large, 1.51e+04. This might indicate that there are<br/>strong multicollinearity or other numerical problems."
      ],
      "text/plain": [
       "<class 'statsmodels.iolib.summary.Summary'>\n",
       "\"\"\"\n",
       "                            OLS Regression Results                            \n",
       "==============================================================================\n",
       "Dep. Variable:                      y   R-squared:                       0.741\n",
       "Model:                            OLS   Adj. R-squared:                  0.734\n",
       "Method:                 Least Squares   F-statistic:                     108.1\n",
       "Date:                Tue, 20 Jul 2021   Prob (F-statistic):          6.72e-135\n",
       "Time:                        18:36:58   Log-Likelihood:                -1498.8\n",
       "No. Observations:                 506   AIC:                             3026.\n",
       "Df Residuals:                     492   BIC:                             3085.\n",
       "Df Model:                          13                                         \n",
       "Covariance Type:            nonrobust                                         \n",
       "==============================================================================\n",
       "                 coef    std err          t      P>|t|      [0.025      0.975]\n",
       "------------------------------------------------------------------------------\n",
       "const         36.4595      5.103      7.144      0.000      26.432      46.487\n",
       "CRIM          -0.1080      0.033     -3.287      0.001      -0.173      -0.043\n",
       "ZN             0.0464      0.014      3.382      0.001       0.019       0.073\n",
       "INDUS          0.0206      0.061      0.334      0.738      -0.100       0.141\n",
       "CHAS           2.6867      0.862      3.118      0.002       0.994       4.380\n",
       "NOX          -17.7666      3.820     -4.651      0.000     -25.272     -10.262\n",
       "RM             3.8099      0.418      9.116      0.000       2.989       4.631\n",
       "AGE            0.0007      0.013      0.052      0.958      -0.025       0.027\n",
       "DIS           -1.4756      0.199     -7.398      0.000      -1.867      -1.084\n",
       "RAD            0.3060      0.066      4.613      0.000       0.176       0.436\n",
       "TAX           -0.0123      0.004     -3.280      0.001      -0.020      -0.005\n",
       "PTRATIO       -0.9527      0.131     -7.283      0.000      -1.210      -0.696\n",
       "B              0.0093      0.003      3.467      0.001       0.004       0.015\n",
       "LSTAT         -0.5248      0.051    -10.347      0.000      -0.624      -0.425\n",
       "==============================================================================\n",
       "Omnibus:                      178.041   Durbin-Watson:                   1.078\n",
       "Prob(Omnibus):                  0.000   Jarque-Bera (JB):              783.126\n",
       "Skew:                           1.521   Prob(JB):                    8.84e-171\n",
       "Kurtosis:                       8.281   Cond. No.                     1.51e+04\n",
       "==============================================================================\n",
       "\n",
       "Notes:\n",
       "[1] Standard Errors assume that the covariance matrix of the errors is correctly specified.\n",
       "[2] The condition number is large, 1.51e+04. This might indicate that there are\n",
       "strong multicollinearity or other numerical problems.\n",
       "\"\"\""
      ]
     },
     "execution_count": 5,
     "metadata": {},
     "output_type": "execute_result"
    }
   ],
   "source": [
    "fitted_model.summary()"
   ]
  },
  {
   "cell_type": "markdown",
   "id": "943d230b-a0a7-4487-a294-bfec7539596d",
   "metadata": {
    "slideshow": {
     "slide_type": "slide"
    },
    "tags": []
   },
   "source": [
    "Solo dedicaremos unas palabras a comentar un par de características adicionales que no pudimos mencionar antes porque están relacionadas con la presencia de múltiples predictores."
   ]
  },
  {
   "cell_type": "markdown",
   "id": "a02be700-502f-43f5-8d38-2087c9c42f8f",
   "metadata": {
    "slideshow": {
     "slide_type": "slide"
    },
    "tags": []
   },
   "source": [
    "El valor R-cuadrado ajustado es algo que hay que tener en cuenta ahora. Cuando se trabaja con múltiples variables, el valor R-cuadrado estándar puede inflarse debido a los muchos coeficientes insertados en el modelo."
   ]
  },
  {
   "cell_type": "markdown",
   "id": "7aea9796-92a0-4a84-8846-6f6aa4dac1bb",
   "metadata": {
    "slideshow": {
     "slide_type": "slide"
    },
    "tags": []
   },
   "source": [
    "Si se utilizan demasiados predictores, su medida divergirá perceptiblemente de la R-cuadrada simple. El R-cuadrado ajustado tiene en cuenta la complejidad del modelo y proporciona una medida de R-cuadrado mucho más realista."
   ]
  },
  {
   "cell_type": "markdown",
   "id": "286ddb42-4b2d-4ee2-9860-62afd644b995",
   "metadata": {
    "slideshow": {
     "slide_type": "slide"
    },
    "tags": []
   },
   "source": [
    "### Recomendaciones técnicas\n",
    "\n",
    "#### Valores R-cuadrado\n",
    "\n",
    "* Solo hay que hacer una comparación entre la medida de R-cuadrado simple y la ajustada.\n",
    "* Compruebe si su diferencia supera el 20%. \n",
    "* Si lo hace, significa que hemos introducido algunas variables redundantes dentro de la especificación de nuestro modelo. \n",
    "* Cuanto mayor sea la diferencia de la proporción, más grave es el problema."
   ]
  },
  {
   "cell_type": "markdown",
   "id": "81b269a6-17f3-4d02-946e-4169867c2f5a",
   "metadata": {
    "slideshow": {
     "slide_type": "slide"
    },
    "tags": []
   },
   "source": [
    "Este no es el caso de nuestro ejemplo, ya que la diferencia es bastante leve, aproximadamente entre 0.741 y 0.734.\n",
    "\n",
    "Lo que traducido a un ratio resulta ser 0.741/0.734 = 1.01, es decir, apenas un 1% por encima del R-cuadrado estándar."
   ]
  },
  {
   "cell_type": "markdown",
   "id": "2cc99519-eef7-4ba0-8bca-0e31d9345fb9",
   "metadata": {
    "slideshow": {
     "slide_type": "slide"
    },
    "tags": []
   },
   "source": [
    "Luego, al trabajar con tantas variables a la vez, los coeficientes también deben ser revisados para detectar advertencias importantes. El riesgo es que los coeficientes recojan información ruidosa y no valiosa. "
   ]
  },
  {
   "cell_type": "markdown",
   "id": "b1a69287-ded2-4254-96de-79beeb068fed",
   "metadata": {
    "slideshow": {
     "slide_type": "slide"
    },
    "tags": []
   },
   "source": [
    "Por lo general, estos coeficientes no se alejan de cero y se notan por sus grandes errores estándar. Las pruebas estadísticas t son la herramienta adecuada para detectar para detectarlos."
   ]
  },
  {
   "cell_type": "markdown",
   "id": "c9b504ef-55c6-46a4-9e47-3c98696a64ca",
   "metadata": {
    "slideshow": {
     "slide_type": "slide"
    },
    "tags": []
   },
   "source": [
    "#### Valores p\n",
    "Tenga en cuenta que las variables con un valor p bajo son buenas candidatas para ser eliminadas del modelo porque probablemente habrá pocas pruebas de que su coeficiente estimado sea diferente de cero."
   ]
  },
  {
   "cell_type": "markdown",
   "id": "edbdcb89-ba3f-4cf1-984e-6ad78e066a61",
   "metadata": {
    "slideshow": {
     "slide_type": "slide"
    },
    "tags": []
   },
   "source": [
    "En nuestro ejemplo, al no ser mayormente significativas (valor p mayor de 0.05), las variables AGE e INDUS están representadas en el modelo por coeficientes cuya utilidad podría ser cuestionada."
   ]
  },
  {
   "cell_type": "markdown",
   "id": "a4f9a2a5-9467-4c99-a712-0204911c0e48",
   "metadata": {
    "slideshow": {
     "slide_type": "slide"
    },
    "tags": []
   },
   "source": [
    "#### Número de condición\n",
    "Por último, la prueba del número de condición (Cond. No.) es otro estadístico mencionado anteriormente que ahora adquiere una nueva importancia bajo la luz de un sistema de predictores. "
   ]
  },
  {
   "cell_type": "markdown",
   "id": "89668084-e34a-453b-98cb-c1f622b1def1",
   "metadata": {
    "slideshow": {
     "slide_type": "slide"
    },
    "tags": []
   },
   "source": [
    "Señala resultados numéricos inestables cuando se intenta una optimización basada en la inversión de la matriz. La causa de dicha inestabilidad se debe a la multicolinealidad, un problema que vamos a ampliar."
   ]
  },
  {
   "cell_type": "markdown",
   "id": "30292510-8698-4c58-95c7-eb9dbe98e213",
   "metadata": {
    "slideshow": {
     "slide_type": "slide"
    },
    "tags": []
   },
   "source": [
    "Cuando un número de condición supera la puntuación de 30, hay una clara señal de que los resultados inestables hacen que el resultado sea menos fiable. "
   ]
  },
  {
   "cell_type": "markdown",
   "id": "75d9a793-66b0-467f-872a-0d3cc565836a",
   "metadata": {
    "slideshow": {
     "slide_type": "slide"
    },
    "tags": []
   },
   "source": [
    "Las predicciones pueden verse afectadas por errores y los coeficientes pueden cambiar drásticamente al volver a ejecutar el mismo análisis de regresión con un subconjunto o un conjunto diferente de observaciones."
   ]
  },
  {
   "cell_type": "markdown",
   "id": "1a24ec9e-6474-4146-9944-fd78ae2ff89b",
   "metadata": {
    "slideshow": {
     "slide_type": "slide"
    },
    "tags": []
   },
   "source": [
    "En nuestro caso, el número de condición es muy superior a 30, y eso es una señal de alarma."
   ]
  },
  {
   "cell_type": "markdown",
   "id": "805e4045-0ec7-4d31-9672-ede888ec7382",
   "metadata": {
    "slideshow": {
     "slide_type": "slide"
    },
    "tags": []
   },
   "source": [
    "### Utilización de fórmulas como alternativa \n",
    "\n",
    "Para obtener los mismos resultados utilizando statsmodels.formula.api y explicando así una fórmula para ser interpretada por el paquete Patsy (http://patsy.readthedocs.org/en/latest/), utilizamos:"
   ]
  },
  {
   "cell_type": "code",
   "execution_count": 6,
   "id": "edb4037f-6d16-44af-a96b-5ab838e0f9a0",
   "metadata": {
    "slideshow": {
     "slide_type": "slide"
    },
    "tags": []
   },
   "outputs": [],
   "source": [
    "linear_regression = smf.ols(formula = 'target ~ CRIM + ZN +INDUS + CHAS + NOX + RM + AGE + DIS + RAD + TAX + PTRATIO + B + LSTAT', data=dataset)\n",
    "fitted_model = linear_regression.fit()"
   ]
  },
  {
   "cell_type": "markdown",
   "id": "565fdca7-46b2-4bf2-8fd0-6730af55f253",
   "metadata": {
    "slideshow": {
     "slide_type": "slide"
    },
    "tags": []
   },
   "source": [
    "En este caso, tiene que explicar todas las variables que van a entrar en la construcción del modelo nombrándolas en el lado derecho de la fórmula. "
   ]
  },
  {
   "cell_type": "markdown",
   "id": "14a699ec-719c-4d8c-a24e-1afb40456261",
   "metadata": {
    "slideshow": {
     "slide_type": "slide"
    },
    "tags": []
   },
   "source": [
    "Después de ajustar el modelo, puede utilizar todos los métodos de Statsmodels vistos anteriormente para informar de los coeficientes y resultados."
   ]
  },
  {
   "cell_type": "markdown",
   "id": "73943184-b711-48d3-9a05-b252f23ade20",
   "metadata": {
    "slideshow": {
     "slide_type": "slide"
    }
   },
   "source": [
    "## La matriz de correlación \n",
    "\n",
    "Cuando se trata de modelar la respuesta utilizando un único predictor, utilizamos la correlación de Pearson para estimar un coeficiente de asociación lineal entre el predictor y el objetivo."
   ]
  },
  {
   "cell_type": "markdown",
   "id": "9dff050f-96de-4382-9a68-e307c4ca4893",
   "metadata": {
    "slideshow": {
     "slide_type": "slide"
    }
   },
   "source": [
    "Al tener ahora más variables en el análisis, nos sigue interesando bastante cómo se relaciona cada predictor con la respuesta.\n"
   ]
  },
  {
   "cell_type": "markdown",
   "id": "b68b7402-0e6d-451b-b0bb-c461fae01393",
   "metadata": {
    "slideshow": {
     "slide_type": "slide"
    }
   },
   "source": [
    "\n",
    "Sin embargo, tenemos que distinguir si la relación entre la varianza del predictor y la del objetivo se debe a una varianza única o compartida."
   ]
  },
  {
   "cell_type": "markdown",
   "id": "9580c115-3d17-4d93-aa8a-dc9d3f408e90",
   "metadata": {
    "slideshow": {
     "slide_type": "slide"
    }
   },
   "source": [
    "La medida de la asociación debida a la varianza única se llama **correlación parcial** y expresa lo que se puede adivinar de la respuesta gracias a la información únicamente presente en una variable."
   ]
  },
  {
   "cell_type": "markdown",
   "id": "b584b15f-6d1e-4dff-ab14-e11b03f8226a",
   "metadata": {
    "slideshow": {
     "slide_type": "slide"
    }
   },
   "source": [
    "La varianza compartida es, en cambio, la cantidad de información que está presente simultáneamente en una variable y en otras variables del conjunto de datos en cuestión."
   ]
  },
  {
   "cell_type": "markdown",
   "id": "8174167b-8c8e-4274-89cf-6ad5c89296af",
   "metadata": {
    "slideshow": {
     "slide_type": "slide"
    }
   },
   "source": [
    "La varianza compartida es también llamada **colinealidad (entre dos variables) o multicolinealidad (entre tres o más variables)."
   ]
  },
  {
   "cell_type": "markdown",
   "id": "28b16302-3629-4313-936a-b1b863c3f782",
   "metadata": {
    "slideshow": {
     "slide_type": "slide"
    }
   },
   "source": [
    "La existencia de variables multicolineales dificulta la selección de las variables correctas para el análisis (dado que la varianza es compartida, es difícil averiguar qué variable debe ser su fuente causal), lo que conduce a soluciones subóptimas que sólo podrían resolverse aumentando el número de observaciones implicadas en el análisis."
   ]
  },
  {
   "cell_type": "markdown",
   "id": "30720d4e-36ae-4084-8f94-68720409a5cf",
   "metadata": {
    "slideshow": {
     "slide_type": "slide"
    }
   },
   "source": [
    "Para determinar la forma y el número de predictores que se afectan mutuamente, la herramienta adecuada es una matriz de correlación."
   ]
  },
  {
   "cell_type": "code",
   "execution_count": 7,
   "id": "80edfd81-8bc5-46bf-89f7-0b7f0951b372",
   "metadata": {
    "slideshow": {
     "slide_type": "slide"
    }
   },
   "outputs": [
    {
     "name": "stdout",
     "output_type": "stream",
     "text": [
      "             CRIM        ZN     INDUS      CHAS       NOX        RM       AGE  \\\n",
      "CRIM     1.000000 -0.200469  0.406583 -0.055892  0.420972 -0.219247  0.352734   \n",
      "ZN      -0.200469  1.000000 -0.533828 -0.042697 -0.516604  0.311991 -0.569537   \n",
      "INDUS    0.406583 -0.533828  1.000000  0.062938  0.763651 -0.391676  0.644779   \n",
      "CHAS    -0.055892 -0.042697  0.062938  1.000000  0.091203  0.091251  0.086518   \n",
      "NOX      0.420972 -0.516604  0.763651  0.091203  1.000000 -0.302188  0.731470   \n",
      "RM      -0.219247  0.311991 -0.391676  0.091251 -0.302188  1.000000 -0.240265   \n",
      "AGE      0.352734 -0.569537  0.644779  0.086518  0.731470 -0.240265  1.000000   \n",
      "DIS     -0.379670  0.664408 -0.708027 -0.099176 -0.769230  0.205246 -0.747881   \n",
      "RAD      0.625505 -0.311948  0.595129 -0.007368  0.611441 -0.209847  0.456022   \n",
      "TAX      0.582764 -0.314563  0.720760 -0.035587  0.668023 -0.292048  0.506456   \n",
      "PTRATIO  0.289946 -0.391679  0.383248 -0.121515  0.188933 -0.355501  0.261515   \n",
      "B       -0.385064  0.175520 -0.356977  0.048788 -0.380051  0.128069 -0.273534   \n",
      "LSTAT    0.455621 -0.412995  0.603800 -0.053929  0.590879 -0.613808  0.602339   \n",
      "\n",
      "              DIS       RAD       TAX   PTRATIO         B     LSTAT  \n",
      "CRIM    -0.379670  0.625505  0.582764  0.289946 -0.385064  0.455621  \n",
      "ZN       0.664408 -0.311948 -0.314563 -0.391679  0.175520 -0.412995  \n",
      "INDUS   -0.708027  0.595129  0.720760  0.383248 -0.356977  0.603800  \n",
      "CHAS    -0.099176 -0.007368 -0.035587 -0.121515  0.048788 -0.053929  \n",
      "NOX     -0.769230  0.611441  0.668023  0.188933 -0.380051  0.590879  \n",
      "RM       0.205246 -0.209847 -0.292048 -0.355501  0.128069 -0.613808  \n",
      "AGE     -0.747881  0.456022  0.506456  0.261515 -0.273534  0.602339  \n",
      "DIS      1.000000 -0.494588 -0.534432 -0.232471  0.291512 -0.496996  \n",
      "RAD     -0.494588  1.000000  0.910228  0.464741 -0.444413  0.488676  \n",
      "TAX     -0.534432  0.910228  1.000000  0.460853 -0.441808  0.543993  \n",
      "PTRATIO -0.232471  0.464741  0.460853  1.000000 -0.177383  0.374044  \n",
      "B        0.291512 -0.444413 -0.441808 -0.177383  1.000000 -0.366087  \n",
      "LSTAT   -0.496996  0.488676  0.543993  0.374044 -0.366087  1.000000  \n"
     ]
    }
   ],
   "source": [
    "# el método .corr() crea la matrix de correlación entre las diferentes columnas del marco de datos\n",
    "X = dataset.iloc[:,:-1] \n",
    "correlation_matrix = X.corr()\n",
    "print (correlation_matrix)"
   ]
  },
  {
   "cell_type": "code",
   "execution_count": 8,
   "id": "410df8ed-8616-4f52-8b86-cd6961c33099",
   "metadata": {
    "slideshow": {
     "slide_type": "slide"
    }
   },
   "outputs": [
    {
     "data": {
      "text/plain": [
       "<AxesSubplot:>"
      ]
     },
     "execution_count": 8,
     "metadata": {},
     "output_type": "execute_result"
    },
    {
     "data": {
      "image/png": "[encoded data removed]",
      "text/plain": [
       "<Figure size 432x288 with 2 Axes>"
      ]
     },
     "metadata": {
      "needs_background": "light"
     },
     "output_type": "display_data"
    }
   ],
   "source": [
    "# seaborn es un paquete para facilitar la graficación avanzada\n",
    "# aquí utilizamos un mapa de calor para visualizar la matriz de correlación\n",
    "import seaborn as sns\n",
    "sns.heatmap(correlation_matrix)"
   ]
  },
  {
   "cell_type": "code",
   "execution_count": 9,
   "id": "158f82e8-ed0b-49a0-a5a7-f0ab5c12bd1c",
   "metadata": {
    "slideshow": {
     "slide_type": "slide"
    }
   },
   "outputs": [
    {
     "data": {
      "text/plain": [
       "<AxesSubplot:>"
      ]
     },
     "execution_count": 9,
     "metadata": {},
     "output_type": "execute_result"
    },
    {
     "data": {
      "image/png": "[encoded data removed]",
      "text/plain": [
       "<Figure size 432x288 with 2 Axes>"
      ]
     },
     "metadata": {},
     "output_type": "display_data"
    }
   ],
   "source": [
    "\"\"\"\n",
    "En la documentación de Seaborn, puede encontrar más 'recetas'\n",
    "para hacer gráficos visualmente más atractivos.\n",
    "\"\"\"\n",
    "\n",
    "sns.set_theme(style=\"white\")\n",
    "#numpy,triu devuelve una copia de un array con los elementos por debajo de la diagonal\n",
    "mask = np.triu(np.ones_like(correlation_matrix, dtype=bool))\n",
    "#color_map = sns.diverging_palette(230, 20, as_cmap=True)\n",
    "color_map =mpl.cm.coolwarm\n",
    "sns.heatmap(correlation_matrix, mask=mask, \n",
    "            cmap=color_map, vmax=.3, center=0,\n",
    "            square=True, linewidths=.5, cbar_kws={\"shrink\": .5})"
   ]
  },
  {
   "cell_type": "code",
   "execution_count": 10,
   "id": "76e5fb70-4ec1-4bf9-b22c-fc02762f8535",
   "metadata": {
    "slideshow": {
     "slide_type": "slide"
    }
   },
   "outputs": [
    {
     "name": "stdout",
     "output_type": "stream",
     "text": [
      "CHAS\n",
      "PTRATIO\n",
      "B\n"
     ]
    }
   ],
   "source": [
    "\"\"\"\n",
    "Buscaremos las variables con la menor correlación con cada una de las demás.\n",
    "\"\"\"\n",
    "threshold = 0.5\n",
    "\n",
    "for col in variables:\n",
    "    condition = [row for row in variables if row!=col]\n",
    "    arr = correlation_matrix[[col]].loc[condition]\n",
    "                             \n",
    "    if np.all(np.abs(arr)<threshold):\n",
    "        print(col)"
   ]
  },
  {
   "cell_type": "markdown",
   "id": "8a261489-c88e-4552-a45a-c3f6a3bfcbae",
   "metadata": {
    "slideshow": {
     "slide_type": "slide"
    }
   },
   "source": [
    "Estas variables son:\n",
    "1. `CHAS`:  Variable ficticia de Charles River (= 1 si el tramo limita con el río; 0 en caso contrario)\n",
    "2. `PTRATIO`: Proporción de alumnos por profesor por ciudad\n",
    "3. `B`: $1000(Bk - 0.63)^2$ donde Bk es la proporción de afroamericanos por ciudad"
   ]
  },
  {
   "cell_type": "code",
   "execution_count": 11,
   "id": "65e9c898-89c0-4e7c-93bb-868a4e707ba7",
   "metadata": {
    "slideshow": {
     "slide_type": "slide"
    }
   },
   "outputs": [
    {
     "name": "stdout",
     "output_type": "stream",
     "text": [
      "           RAD\n",
      "CRIM     False\n",
      "ZN       False\n",
      "INDUS    False\n",
      "CHAS     False\n",
      "NOX      False\n",
      "RM       False\n",
      "AGE      False\n",
      "DIS      False\n",
      "TAX       True\n",
      "PTRATIO  False\n",
      "B        False\n",
      "LSTAT    False\n",
      "           TAX\n",
      "CRIM     False\n",
      "ZN       False\n",
      "INDUS    False\n",
      "CHAS     False\n",
      "NOX      False\n",
      "RM       False\n",
      "AGE      False\n",
      "DIS      False\n",
      "RAD       True\n",
      "PTRATIO  False\n",
      "B        False\n",
      "LSTAT    False\n"
     ]
    }
   ],
   "source": [
    "\"\"\"\n",
    "Buscaremos las variables con la menor correlación con cada una de las demás.\n",
    "\"\"\"\n",
    "threshold = 0.80\n",
    "\n",
    "for col in variables:\n",
    "    condition = [row for row in variables if row!=col]\n",
    "    arr = correlation_matrix[[col]].loc[condition]\n",
    "                             \n",
    "    if np.any(np.abs(arr)>threshold):\n",
    "        print(np.abs(arr)>threshold)"
   ]
  },
  {
   "cell_type": "markdown",
   "id": "4ad57364-b674-45a2-8f6c-9422400f60cc",
   "metadata": {
    "slideshow": {
     "slide_type": "slide"
    }
   },
   "source": [
    "Podemos detectar asociaciones más fuertes de forma automática calculando los eigenvectores de la matriz de correlación. "
   ]
  },
  {
   "cell_type": "code",
   "execution_count": 12,
   "id": "d289a2a6-67b4-4308-b8a4-3b0ade574566",
   "metadata": {
    "slideshow": {
     "slide_type": "slide"
    }
   },
   "outputs": [],
   "source": [
    "# Calculamos los eigenvalores con sus eigenvectores asociados\n",
    "corr = np.corrcoef(X, rowvar=False)\n",
    "eigenvalues, eigenvectors = np.linalg.eig(corr)"
   ]
  },
  {
   "cell_type": "code",
   "execution_count": 13,
   "id": "e2888d9b-7b4a-4556-b7a6-cfd7f4618e15",
   "metadata": {
    "slideshow": {
     "slide_type": "slide"
    }
   },
   "outputs": [
    {
     "name": "stdout",
     "output_type": "stream",
     "text": [
      "0.06350926044147231\n",
      "8\n"
     ]
    }
   ],
   "source": [
    "# Buscamos el eigenvalor más cercano a cero\n",
    "idx = np.argmin(np.abs(eigenvalues))\n",
    "print(eigenvalues[idx])\n",
    "print(idx)"
   ]
  },
  {
   "cell_type": "code",
   "execution_count": 14,
   "id": "3bddeff3-e773-4505-ac4f-5847c6ffb586",
   "metadata": {
    "slideshow": {
     "slide_type": "slide"
    }
   },
   "outputs": [
    {
     "name": "stdout",
     "output_type": "stream",
     "text": [
      "[-0.0459523   0.08091897  0.25107654 -0.03592171 -0.04363045 -0.0455671\n",
      "  0.03855068  0.01829854  0.63348972 -0.72023345 -0.02339805  0.00446307\n",
      " -0.02443168]\n"
     ]
    }
   ],
   "source": [
    "# Inspeccionamos el eigenvector asociado a este eigenvalor\n",
    "v = eigenvectors[:,8]\n",
    "print(v)"
   ]
  },
  {
   "cell_type": "code",
   "execution_count": 15,
   "id": "f02bd684-f8c7-4098-885c-1d6839f12713",
   "metadata": {
    "slideshow": {
     "slide_type": "slide"
    }
   },
   "outputs": [
    {
     "name": "stdout",
     "output_type": "stream",
     "text": [
      "[False False False False False False False False  True  True False False\n",
      " False]\n"
     ]
    },
    {
     "data": {
      "text/plain": [
       "array([ 0.63348972, -0.72023345])"
      ]
     },
     "execution_count": 15,
     "metadata": {},
     "output_type": "execute_result"
    }
   ],
   "source": [
    "mayor_contribucion = np.abs(v)>=0.5\n",
    "print(mayor_contribucion)\n",
    "v[mayor_contribucion]"
   ]
  },
  {
   "cell_type": "code",
   "execution_count": 16,
   "id": "a9aa3739-31c0-4b71-92a0-ae3a871ec56e",
   "metadata": {
    "slideshow": {
     "slide_type": "slide"
    }
   },
   "outputs": [
    {
     "name": "stdout",
     "output_type": "stream",
     "text": [
      "Index(['RAD', 'TAX'], dtype='object')\n",
      "(array([8, 9], dtype=int64),)\n"
     ]
    }
   ],
   "source": [
    "idxs = np.where(mayor_contribucion)\n",
    "print(variables[idxs])\n",
    "print(idxs)"
   ]
  },
  {
   "cell_type": "markdown",
   "id": "461b7774-66f7-4126-8d5a-ebec5bdf0bfc",
   "metadata": {
    "slideshow": {
     "slide_type": "slide"
    }
   },
   "source": [
    "Una vez encontrados los culpables de la multicolinealidad, ¿qué remedio podríamos utilizar para esas variables? *La eliminación de algunas de ellas suele ser la mejor solución.*"
   ]
  },
  {
   "cell_type": "markdown",
   "id": "03d168d4-fc71-44aa-86d5-1e104ce3f036",
   "metadata": {
    "slideshow": {
     "slide_type": "slide"
    }
   },
   "source": [
    "## Escalado de características \n",
    "\n",
    "Trabajar con diferentes características requiere más atención a la hora de estimar los coeficientes debido a sus similitudes, lo que puede provocar un aumento de la varianza de las estimaciones, como ya comentamos inicialmente."
   ]
  },
  {
   "cell_type": "markdown",
   "id": "b443eed9-0a96-4b4a-87cb-05320f69aca8",
   "metadata": {
    "slideshow": {
     "slide_type": "slide"
    }
   },
   "source": [
    "Algunas características de sus datos pueden representarse con medidas en unidades, otras en decimales y otras en miles, dependiendo del aspecto de la realidad que represente cada característica. "
   ]
  },
  {
   "cell_type": "markdown",
   "id": "61851f45-2984-43ba-b506-6ab8f6fb8d01",
   "metadata": {
    "slideshow": {
     "slide_type": "slide"
    }
   },
   "source": [
    "El remedio es muy fácil; sólo hay que poner todas las características en la misma escala. Esta operación se denomina escalado de características, que puede lograrse mediante estandarización o normalización. "
   ]
  },
  {
   "cell_type": "markdown",
   "id": "0cdbc5ba-1cdb-463b-a6e9-c90410a861e4",
   "metadata": {
    "slideshow": {
     "slide_type": "slide"
    }
   },
   "source": [
    "La normalización reescala todos los valores en el intervalo entre el cero y el uno (normalmente, pero también son posibles diferentes rangos), mientras que la estandarización opera eliminando la media y dividiendo por la desviación estándar para obtener una varianza unitaria."
   ]
  },
  {
   "cell_type": "code",
   "execution_count": 17,
   "id": "817a54d3-2212-4d88-b9e4-45ad698093ac",
   "metadata": {
    "slideshow": {
     "slide_type": "slide"
    }
   },
   "outputs": [],
   "source": [
    "linear_regression = linear_model.LinearRegression(\n",
    "    normalize=False, \n",
    "    fit_intercept=True)"
   ]
  },
  {
   "cell_type": "code",
   "execution_count": 18,
   "id": "2f20be34-efbd-4f94-ade1-09a40a53f0db",
   "metadata": {
    "slideshow": {
     "slide_type": "slide"
    }
   },
   "outputs": [],
   "source": [
    "from sklearn.preprocessing import StandardScaler \n",
    "from sklearn.pipeline import make_pipeline \n",
    "standardization = StandardScaler()\n",
    "Stand_coef_linear_reg = make_pipeline(\n",
    "    standardization,\n",
    "    linear_regression)"
   ]
  },
  {
   "cell_type": "code",
   "execution_count": 19,
   "id": "23ba24df-aae3-4ac1-be2c-00a1e67a3b7e",
   "metadata": {
    "slideshow": {
     "slide_type": "slide"
    }
   },
   "outputs": [
    {
     "name": "stdout",
     "output_type": "stream",
     "text": [
      "NOX        17.767\n",
      "RM         3.810\n",
      "CHAS       2.687\n",
      "DIS        1.476\n",
      "PTRATIO    0.953\n",
      "LSTAT      0.525\n",
      "RAD        0.306\n",
      "CRIM       0.108\n",
      "ZN         0.046\n",
      "INDUS      0.021\n",
      "TAX        0.012\n",
      "B          0.009\n",
      "AGE        0.001\n"
     ]
    }
   ],
   "source": [
    "linear_regression.fit(X,y) \n",
    "for coef, var in sorted(\n",
    "    zip(map(abs,linear_regression.coef_),\n",
    "    dataset.columns[:-1]), reverse=True):\n",
    "    print (\"{:<10} {:.3f}\".format(var, coef))"
   ]
  },
  {
   "cell_type": "code",
   "execution_count": 20,
   "id": "bc663d62-214a-42a7-8c33-63d19af117aa",
   "metadata": {
    "slideshow": {
     "slide_type": "slide"
    }
   },
   "outputs": [
    {
     "name": "stdout",
     "output_type": "stream",
     "text": [
      "LSTAT      3.744\n",
      "DIS        3.104\n",
      "RM         2.674\n",
      "RAD        2.662\n",
      "TAX        2.077\n",
      "PTRATIO    2.061\n",
      "NOX        2.057\n",
      "ZN         1.082\n",
      "CRIM       0.928\n",
      "B          0.849\n",
      "CHAS       0.682\n",
      "INDUS      0.141\n",
      "AGE        0.019\n"
     ]
    }
   ],
   "source": [
    "Stand_coef_linear_reg.fit(X,y)\n",
    "for coef, var in sorted(\n",
    "    zip(\n",
    "        map(abs,Stand_coef_linear_reg.steps[1][1].coef_), \n",
    "        dataset.columns[:-1]), reverse=True\n",
    "    ):\n",
    "    print (\"{:<10} {:.3f}\".format(var, coef))"
   ]
  },
  {
   "cell_type": "markdown",
   "id": "f4fa0bd7-abbe-4658-8ead-4ae6c8de3768",
   "metadata": {
    "slideshow": {
     "slide_type": "slide"
    }
   },
   "source": [
    "Al tener ahora todos los predictores en una escala similar, podemos ofrecer fácilmente una interpretación más realista de cada coeficiente."
   ]
  },
  {
   "cell_type": "markdown",
   "id": "4dad74db-c9c3-4a86-b449-3c1e88076f3d",
   "metadata": {
    "slideshow": {
     "slide_type": "slide"
    }
   },
   "source": [
    "## Comparación de modelos \n",
    "\n",
    "Desde un punto de vista general, podemos evaluar un modelo comparando lo mejor que hace con respecto a una media simple, por ejemplo el coeficiente de determinación, R-cuadrado."
   ]
  },
  {
   "cell_type": "code",
   "execution_count": 21,
   "id": "b210b2cd-3168-485d-9ee1-6203a31f8103",
   "metadata": {
    "slideshow": {
     "slide_type": "slide"
    }
   },
   "outputs": [
    {
     "name": "stdout",
     "output_type": "stream",
     "text": [
      "Base R2: 0.741\n"
     ]
    }
   ],
   "source": [
    "\"\"\"\n",
    "Tenemos que registrar primero cuál es el R-cuadrado cuando construimos el modelo con todas \n",
    "las variables presentes. Podemos denominar dicho valor como nuestra base de comparación:\n",
    "\"\"\"\n",
    "\n",
    "def r2_est(x, y, lr):\n",
    "    return r2_score(y, lr.fit(x,y).predict(x))\n",
    "\n",
    "print ('Base R2: {:0.3f}'.format(r2_est(X,y,Stand_coef_linear_reg)))"
   ]
  },
  {
   "cell_type": "markdown",
   "id": "4829a068-dea2-4b55-afbc-81042c1a29f2",
   "metadata": {
    "slideshow": {
     "slide_type": "slide"
    }
   },
   "source": [
    "Después, solo hay que eliminar una variable cada vez del conjunto de predictores, estimar de nuevo el modelo de regresión registrando su coeficiente de determinación, y restarlo del valor de referencia que obtuvimos del modelo de regresión completo:"
   ]
  },
  {
   "cell_type": "code",
   "execution_count": 22,
   "id": "153566cc-6f5a-44d2-9f46-f7845e6df34d",
   "metadata": {
    "slideshow": {
     "slide_type": "slide"
    }
   },
   "outputs": [
    {
     "name": "stdout",
     "output_type": "stream",
     "text": [
      "LSTAT      0.056\n",
      "RM         0.044\n",
      "DIS        0.029\n",
      "PTRATIO    0.028\n",
      "NOX        0.011\n",
      "RAD        0.011\n",
      "B          0.006\n",
      "ZN         0.006\n",
      "CRIM       0.006\n",
      "TAX        0.006\n",
      "CHAS       0.005\n",
      "INDUS      0.000\n",
      "AGE        0.000\n"
     ]
    }
   ],
   "source": [
    "r2_impact = list()\n",
    "for j in range(X.shape[1]):\n",
    "    other_variables = [i for i in range(X.shape[1]) if i!=j]\n",
    "    r2_impact.append(\n",
    "        ((r2_est(X,y,Stand_coef_linear_reg) - r2_est(X.values [:,other_variables],\n",
    "        y,Stand_coef_linear_reg)),\n",
    "         dataset.columns[j]))\n",
    "for imp, varname in sorted(r2_impact, reverse=True):\n",
    "    print (\"{:<10} {:.3f}\".format(varname, imp))"
   ]
  },
  {
   "cell_type": "markdown",
   "id": "97487742-5d7e-49d3-ba6e-0ed5eee5d6c1",
   "metadata": {
    "slideshow": {
     "slide_type": "slide"
    }
   },
   "source": [
    "Después de obtener todas las diferencias, cada una de las cuales representa la contribución de cada variable a al R-cuadrado, sólo tenemos que clasificarlas y entonces tendremos una idea de qué variables contribuyen más a reducir el error del modelo lineal; este es un punto de vista diferente de saber qué variable ha contribuido más al valor de la respuesta. Dicha contribución se denomina **R-cuadrado parcial.**"
   ]
  },
  {
   "cell_type": "markdown",
   "id": "6b02b8b4-72f9-4467-b84a-e25a3ecf8efb",
   "metadata": {
    "slideshow": {
     "slide_type": "slide"
    }
   },
   "source": [
    "## Modelos de interacción\n",
    "\n",
    "Habiendo explicado cómo construir un modelo de regresión con múltiples variables y habiendo tocado el tema de su utilización e interpretación, partimos de este párrafo para explorar cómo mejorarlo. Como primer paso, trabajaremos en su ajuste con los datos actuales."
   ]
  },
  {
   "cell_type": "markdown",
   "id": "041dd267-53a5-4a85-a35c-037bc29f79b6",
   "metadata": {
    "slideshow": {
     "slide_type": "slide"
    }
   },
   "source": [
    "Una de las primeras fuentes de no linealidad se debe a las posibles interacciones entre predictores. Dos predictores interactúan cuando el efecto de uno de ellos sobre la variable de respuesta varía con respecto a los valores de los otros predictores. respecto a los valores de los otros predictores."
   ]
  },
  {
   "cell_type": "markdown",
   "id": "889f00cc-30f2-4013-b20d-b7dcd7a42da7",
   "metadata": {
    "slideshow": {
     "slide_type": "slide"
    }
   },
   "source": [
    "Matemáticamente, los términos de interacción se modelan multiplicándose entre sí para que nuestro modelo lineal capte la información complementaria de su relación, como se expresa en este ejemplo de un modelo con dos predictores que interactúan:\n",
    "\n",
    "$$ y = \\beta_0 + \\beta_1 x_1 + \\beta_2 x_2 + \\beta_{12} x_1 x_2 $$"
   ]
  },
  {
   "cell_type": "markdown",
   "id": "4ef7e755-bfd8-4266-af91-4486f676dfbc",
   "metadata": {
    "slideshow": {
     "slide_type": "slide"
    }
   },
   "source": [
    "La mejor manera de ilustrar el enfoque de búsqueda automática es mostrar un ejemplo en Python utilizando PolynomialFeatures de Scikit-learn, una función que permite tanto interacciones como expansiones de polinomios (vamos a hablar de ellas en el siguiente párrafo):"
   ]
  },
  {
   "cell_type": "code",
   "execution_count": 23,
   "id": "edcb28f5-2cb8-4281-bcb8-4b90e891f190",
   "metadata": {
    "slideshow": {
     "slide_type": "slide"
    }
   },
   "outputs": [],
   "source": [
    "from sklearn.preprocessing import PolynomialFeatures\n",
    "from sklearn.metrics import r2_score\n",
    "linear_regression = linear_model.LinearRegression(normalize=False, fit_intercept=True)\n",
    "create_interactions = PolynomialFeatures(degree=2,\n",
    "                                         interaction_only=True, \n",
    "                                         include_bias=False)"
   ]
  },
  {
   "cell_type": "code",
   "execution_count": 24,
   "id": "3ff357ec-9e9a-44f7-a929-2e0031428536",
   "metadata": {
    "slideshow": {
     "slide_type": "slide"
    }
   },
   "outputs": [
    {
     "name": "stdout",
     "output_type": "stream",
     "text": [
      "13\n"
     ]
    }
   ],
   "source": [
    "baseline = r2_est(X,y, linear_regression)\n",
    "Xi = create_interactions.fit_transform(X)\n",
    "main_effects = create_interactions.n_input_features_\n",
    "print(main_effects)"
   ]
  },
  {
   "cell_type": "code",
   "execution_count": 25,
   "id": "91c4fc86-0ea1-4863-91e1-f8abb0f48570",
   "metadata": {
    "slideshow": {
     "slide_type": "slide"
    }
   },
   "outputs": [
    {
     "name": "stdout",
     "output_type": "stream",
     "text": [
      "    CRIM*CHAS     -> R2: 0.011\n",
      "    CRIM*RM       -> R2: 0.021\n",
      "      ZN*RM       -> R2: 0.013\n",
      "   INDUS*RM       -> R2: 0.038\n",
      "   INDUS*DIS      -> R2: 0.013\n",
      "     NOX*RM       -> R2: 0.027\n",
      "      RM*AGE      -> R2: 0.024\n",
      "      RM*DIS      -> R2: 0.018\n",
      "      RM*RAD      -> R2: 0.049\n",
      "      RM*TAX      -> R2: 0.054\n",
      "      RM*PTRATIO  -> R2: 0.041\n",
      "      RM*B        -> R2: 0.020\n",
      "      RM*LSTAT    -> R2: 0.064\n"
     ]
    }
   ],
   "source": [
    "for k,effect in enumerate(create_interactions.powers_[main_effects:]):\n",
    "    termA, termB = variables[effect==1]\n",
    "    increment = r2_est(Xi[:,list(range(main_effects)) + [main_effects+k]],y,linear_regression) - baseline\n",
    "    if increment > 0.01:\n",
    "        #print ('Adding interaction %8s *%8s R2: %5.3f' % (termA, termB, increment))\n",
    "        print(\"{:>8}*{:<8} -> R2: {:.3f}\".format(termA, termB, increment))"
   ]
  },
  {
   "cell_type": "markdown",
   "id": "30c235f8-f9b1-4d4e-a637-73ba040e3e01",
   "metadata": {
    "slideshow": {
     "slide_type": "slide"
    }
   },
   "source": [
    "Los efectos de interacción relevantes están claramente constituidos por la variable \"RM\" (una de las más importante, como se ha visto antes) y la mejora más fuerte viene dada por su interacción con otra característica clave, LSTAT."
   ]
  },
  {
   "cell_type": "code",
   "execution_count": 26,
   "id": "ef6460b5-fb8b-4d53-af58-75766463afcd",
   "metadata": {
    "slideshow": {
     "slide_type": "slide"
    }
   },
   "outputs": [
    {
     "name": "stdout",
     "output_type": "stream",
     "text": [
      "R2 of a model with RM*LSTAT interaction: 0.805\n"
     ]
    }
   ],
   "source": [
    "Xi = X\n",
    "Xi['interaction'] = X['RM']*X['LSTAT']\n",
    "print ('R2 of a model with RM*LSTAT interaction: %0.3f' % r2_est(Xi,y, linear_regression))"
   ]
  },
  {
   "cell_type": "markdown",
   "id": "3901bbd9-1653-4fb1-965f-daf5c55a3be7",
   "metadata": {
    "slideshow": {
     "slide_type": "slide"
    }
   },
   "source": [
    "## Comparando una transformación lineal con una cúbica\n",
    "\n",
    "Al desactivar el parámetro `interaction_only` en la función `PolynomialFeatures`, podemos obtener la transformación polinómica completa de nuestra matriz de entrada, y no sólo las interacciones:"
   ]
  },
  {
   "cell_type": "code",
   "execution_count": 27,
   "id": "77c197b1-eb4d-48a7-9a81-7e76ad03649b",
   "metadata": {
    "slideshow": {
     "slide_type": "slide"
    }
   },
   "outputs": [],
   "source": [
    "from sklearn.preprocessing import PolynomialFeatures\n",
    "from sklearn.pipeline import make_pipeline\n",
    "from sklearn.preprocessing import StandardScaler"
   ]
  },
  {
   "cell_type": "code",
   "execution_count": 28,
   "id": "b2cd4f9a-8c60-4fff-8e6d-42a7b0b863bb",
   "metadata": {
    "slideshow": {
     "slide_type": "slide"
    }
   },
   "outputs": [],
   "source": [
    "linear_regression = linear_model.LinearRegression(normalize=False, fit_intercept=True)\n",
    "create_cubic = PolynomialFeatures(degree=3, interaction_only=False, include_bias=False)\n",
    "create_quadratic = PolynomialFeatures(degree=2, interaction_only=False, include_bias=False)"
   ]
  },
  {
   "cell_type": "code",
   "execution_count": 29,
   "id": "b94bb038-f8b5-48f0-8a3d-8415d7afdfed",
   "metadata": {
    "slideshow": {
     "slide_type": "slide"
    }
   },
   "outputs": [],
   "source": [
    "linear_predictor = make_pipeline(linear_regression)\n",
    "quadratic_predictor = make_pipeline(create_quadratic, linear_regression)\n",
    "cubic_predictor = make_pipeline(create_cubic, linear_regression)"
   ]
  },
  {
   "cell_type": "code",
   "execution_count": 30,
   "id": "be921078-4ea0-42a9-b59d-b2467cf677ba",
   "metadata": {
    "slideshow": {
     "slide_type": "slide"
    }
   },
   "outputs": [],
   "source": [
    "predictor = 'LSTAT'\n",
    "x = dataset['LSTAT'].values.reshape((observations,1))\n",
    "xt = np.arange(0,50,0.1).reshape((500,1))\n",
    "x_range = [dataset[predictor].min(),dataset[predictor].max()]\n",
    "y_range = [dataset['target'].min(),dataset['target'].max()]"
   ]
  },
  {
   "cell_type": "code",
   "execution_count": 31,
   "id": "9651fcea-59ca-4b2d-868c-8dc7ac19ab56",
   "metadata": {
    "slideshow": {
     "slide_type": "slide"
    }
   },
   "outputs": [
    {
     "name": "stderr",
     "output_type": "stream",
     "text": [
      "*c* argument looks like a single numeric RGB or RGBA sequence, which should be avoided as value-mapping will have precedence in case its length matches with *x* & *y*.  Please use the *color* keyword-argument or provide a 2D array with a single row if you intend to specify the same RGB or RGBA value for all points.\n"
     ]
    },
    {
     "data": {
      "image/png": "[encoded data removed]",
      "text/plain": [
       "<Figure size 432x288 with 1 Axes>"
      ]
     },
     "metadata": {},
     "output_type": "display_data"
    }
   ],
   "source": [
    "scatter = dataset.plot(kind='scatter', x=predictor, y='target', xlim=x_range, ylim=y_range)\n",
    "regr_line = scatter.plot(xt, \n",
    "                         linear_predictor.fit(x,y).predict(xt), \n",
    "                         '-', color='red', linewidth=2)"
   ]
  },
  {
   "cell_type": "code",
   "execution_count": 32,
   "id": "3443fe59-3073-4439-a619-7fa74deaeb39",
   "metadata": {
    "slideshow": {
     "slide_type": "slide"
    }
   },
   "outputs": [
    {
     "name": "stdout",
     "output_type": "stream",
     "text": [
      "grado 1  -> R2=0.544\n",
      "grado 2  -> R2=0.641\n",
      "grado 3  -> R2=0.658\n",
      "grado 5  -> R2=0.682\n",
      "grado 15 -> R2=0.695\n"
     ]
    }
   ],
   "source": [
    "for d in [1,2,3,5,15]:\n",
    "    create_poly = PolynomialFeatures(degree=d,\n",
    "                                     interaction_only=False,\n",
    "                                     include_bias=False)\n",
    "    poly = make_pipeline(create_poly, StandardScaler(), linear_regression)\n",
    "    model = poly.fit(x,y)\n",
    "    print (\"grado {:<2} -> R2={:0.3f}\".format(d,r2_score(y,model.predict(x))))"
   ]
  },
  {
   "cell_type": "markdown",
   "id": "eab4b2b2-3e40-4816-a7cc-091ca00bf50a",
   "metadata": {
    "slideshow": {
     "slide_type": "slide"
    }
   },
   "source": [
    "## Resumen\n",
    "\n",
    "En este capítulo, hemos seguido introduciendo la regresión lineal, ampliando nuestro ejemplo de uno simple a uno múltiple. Hemos revisado los resultados anteriores de las funciones lineales de Statsmodels (el enfoque estadístico clásico).\n"
   ]
  },
  {
   "cell_type": "markdown",
   "id": "7909a446-9f1c-4bc7-8a5a-58bdba567048",
   "metadata": {
    "slideshow": {
     "slide_type": "slide"
    }
   },
   "source": [
    "Empezamos a experimentar con modelos eliminando predictores seleccionados y evaluando el impacto de este movimiento desde el punto de vista de la medida R-cuadrado. "
   ]
  },
  {
   "cell_type": "markdown",
   "id": "76780a81-38cc-4308-9887-343b1c15b108",
   "metadata": {
    "slideshow": {
     "slide_type": "slide"
    }
   },
   "source": [
    "Mientras tanto, también descubrimos las correlaciones recíprocas entre los predictores y cómo hacer más lineales las relaciones entre cada predictor y la variable objetivo interceptando las interacciones y mediante la expansión polinómica de las características."
   ]
  },
  {
   "cell_type": "markdown",
   "id": "f9343db4-0459-4e2b-99d9-ae1222cd87fd",
   "metadata": {
    "slideshow": {
     "slide_type": "slide"
    },
    "tags": []
   },
   "source": [
    "*¡Gracias por su participación!*"
   ]
  }
 ],
 "metadata": {
  "celltoolbar": "Slideshow",
  "kernelspec": {
   "display_name": "PyCharm (analisis-regresiones)",
   "language": "python",
   "name": "pycharm-717f5a95"
  },
  "language_info": {
   "codemirror_mode": {
    "name": "ipython",
    "version": 3
   },
   "file_extension": ".py",
   "mimetype": "text/x-python",
   "name": "python",
   "nbconvert_exporter": "python",
   "pygments_lexer": "ipython3",
   "version": "3.9.5"
  }
 },
 "nbformat": 4,
 "nbformat_minor": 5
}
