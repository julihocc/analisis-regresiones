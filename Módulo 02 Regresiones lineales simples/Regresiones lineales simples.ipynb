{
 "cells": [
  {
   "cell_type": "markdown",
   "id": "a06c99d4",
   "metadata": {
    "slideshow": {
     "slide_type": "slide"
    }
   },
   "source": [
    "# Regresiones lineales simples"
   ]
  },
  {
   "cell_type": "markdown",
   "id": "65810e39",
   "metadata": {
    "slideshow": {
     "slide_type": "slide"
    }
   },
   "source": [
    "Vamos a discutir los siguientes temas: \n",
    "1. Entender qué problemas puede resolver el aprendizaje automático\n",
    "2. Qué problemas puede resolver un modelo de regresiónLos puntos fuertes y débiles de la correlación\n",
    "3. Cómo se extienden las correlaciones a un modelo de regresión simple\n",
    "4. Cuándo, qué y por qué del modelo de regresión\n",
    "5. Las matemáticas esenciales detrás del método de gradiente"
   ]
  },
  {
   "cell_type": "markdown",
   "id": "3cda5a4a",
   "metadata": {
    "slideshow": {
     "slide_type": "slide"
    }
   },
   "source": [
    "En el proceso, utilizaremos cierta terminología y conceptos estadísticos para ofrecerle la perspectiva de la regresión lineal en el marco más amplio de la estadística, aunque nuestro enfoque seguirá siendo práctico."
   ]
  },
  {
   "cell_type": "markdown",
   "id": "33cda09e",
   "metadata": {
    "slideshow": {
     "slide_type": "slide"
    }
   },
   "source": [
    "## Definición del problema \n",
    "El aprendizaje automático tiene sólidas raíces en años de investigación: realmente ha sido un largo viaje desde finales de los años cincuenta, cuando Arthur Samuel aclaró que el aprendizaje automático era un \"campo de estudio que da a los ordenadores la capacidad de aprender sin ser explícitamente programados\"."
   ]
  },
  {
   "cell_type": "markdown",
   "id": "0967da21",
   "metadata": {
    "slideshow": {
     "slide_type": "slide"
    }
   },
   "source": [
    "En general, los algoritmos de aprendizaje automático pueden aprender de tres maneras:\n",
    "\n",
    "1. Aprendizaje supervisado: Es cuando presentamos ejemplos etiquetados para aprender. \n",
    "2. Aprendizaje no supervisado: Es cuando presentamos ejemplos sin ninguna pista, dejando dejar que el algoritmo cree una etiqueta. \n",
    "3. Aprendizaje por refuerzo: Es cuando presentamos ejemplos sin etiquetas, como en el aprendizaje no supervisado, pero obtenemos información del entorno sobre si la suposición de la etiqueta es correcta o no."
   ]
  },
  {
   "cell_type": "markdown",
   "id": "6b87c65f",
   "metadata": {
    "slideshow": {
     "slide_type": "slide"
    }
   },
   "source": [
    "El aprendizaje no supervisado tiene importantes aplicaciones en la visión robótica y la creación de características automáticas, y el aprendizaje por refuerzo es fundamental para el desarrollo de la IA autónoma (por ejemplo, en robótica, pero también en la creación de agentes de software inteligentes)."
   ]
  },
  {
   "cell_type": "markdown",
   "id": "77a216d8",
   "metadata": {
    "slideshow": {
     "slide_type": "slide"
    }
   },
   "source": [
    "Sin embargo, el aprendizaje supervisado es el más importante en la ciencia de los datos porque nos permite hacer predicciones. "
   ]
  },
  {
   "cell_type": "markdown",
   "id": "d1902ed7",
   "metadata": {
    "slideshow": {
     "slide_type": "slide"
    }
   },
   "source": [
    "## Notación\n",
    "\n",
    "* En el formalismo matemático, llamamos al resultado que queremos predecir la respuesta o variable objetivo y solemos etiquetarla con la letra minúscula $y$.\n",
    "* En cambio, las premisas se denominan variables predictivas, o simplemente atributos o características, y se etiquetan con una $x$ minúscula si hay una sola y con una $X$ mayúscula si hay muchas.\n",
    "* Con letras mayúsculas denotaremos matrices, incluidos los vectores que, técnicamente son matrix columnas (o renglones).\n",
    "* También es importante tener siempre en cuenta las dimensiones de X e y; así, por convención, podemos llamar n al número de observaciones y p al número de variables."
   ]
  },
  {
   "cell_type": "markdown",
   "id": "66653920",
   "metadata": {
    "slideshow": {
     "slide_type": "slide"
    }
   },
   "source": [
    "## Vectores y matrices con Numpy\n",
    "\n",
    "Todos los datos los representaremos en forma de matrices. Ahora mostraremos algunas formas de construir matrices (y vectores) con `numpy`."
   ]
  },
  {
   "cell_type": "code",
   "execution_count": 1,
   "id": "84998415",
   "metadata": {
    "ExecuteTime": {
     "end_time": "2023-06-28T12:49:50.485186500Z",
     "start_time": "2023-06-28T12:49:49.807923100Z"
    },
    "slideshow": {
     "slide_type": "slide"
    }
   },
   "outputs": [
    {
     "name": "stdout",
     "output_type": "stream",
     "text": [
      "[1 2 3 4 5]\n",
      "(5,)\n"
     ]
    }
   ],
   "source": [
    "# vector a partir de listas\n",
    "import numpy as np\n",
    "\n",
    "vector = np.array([1,2,3,4,5])\n",
    "print(vector)\n",
    "print(vector.shape)"
   ]
  },
  {
   "cell_type": "code",
   "execution_count": 2,
   "id": "e385c9db",
   "metadata": {
    "ExecuteTime": {
     "end_time": "2023-06-28T12:49:50.755047500Z",
     "start_time": "2023-06-28T12:49:49.826929800Z"
    },
    "slideshow": {
     "slide_type": "slide"
    }
   },
   "outputs": [
    {
     "name": "stdout",
     "output_type": "stream",
     "text": [
      "[[1]\n",
      " [2]\n",
      " [3]\n",
      " [4]\n",
      " [5]]\n",
      "(5, 1)\n"
     ]
    }
   ],
   "source": [
    "vector_columna = vector.reshape((5,1))\n",
    "print(vector_columna)\n",
    "print(vector_columna.shape)"
   ]
  },
  {
   "cell_type": "code",
   "execution_count": 3,
   "id": "8675bd25",
   "metadata": {
    "ExecuteTime": {
     "end_time": "2023-06-28T12:49:50.778048200Z",
     "start_time": "2023-06-28T12:49:49.840442Z"
    },
    "slideshow": {
     "slide_type": "slide"
    }
   },
   "outputs": [
    {
     "name": "stdout",
     "output_type": "stream",
     "text": [
      "[[1 2 3 4 5]]\n",
      "(1, 5)\n"
     ]
    }
   ],
   "source": [
    "vector_renglon = vector.reshape((1,5))\n",
    "print(vector_renglon)\n",
    "print(vector_renglon.shape)"
   ]
  },
  {
   "cell_type": "code",
   "execution_count": 4,
   "id": "fa2e0855",
   "metadata": {
    "ExecuteTime": {
     "end_time": "2023-06-28T12:49:50.778048200Z",
     "start_time": "2023-06-28T12:49:49.857436800Z"
    },
    "slideshow": {
     "slide_type": "slide"
    }
   },
   "outputs": [
    {
     "name": "stdout",
     "output_type": "stream",
     "text": [
      "[[5 0]\n",
      " [3 3]]\n",
      "[[  3.70255385  10.40530751]\n",
      " [-15.16982735  -8.66276211]]\n",
      "[[1 2]\n",
      " [2 4]]\n",
      "[[10 14]\n",
      " [11 17]]\n"
     ]
    }
   ],
   "source": [
    "# es posible crear matrices de manera aleatoria\n",
    "\n",
    "np.random.seed(0)\n",
    "\n",
    "print(np.random.randint(10, size=(2,2)))\n",
    "print(np.random.normal(0, 10, size=(2,2)))\n",
    "print(np.random.binomial(10, .25, size=(2,2)))\n",
    "print(np.random.poisson(10, size=(2,2)))"
   ]
  },
  {
   "cell_type": "code",
   "execution_count": 5,
   "id": "7e452358",
   "metadata": {
    "ExecuteTime": {
     "end_time": "2023-06-28T12:49:50.778048200Z",
     "start_time": "2023-06-28T12:49:49.873437900Z"
    },
    "slideshow": {
     "slide_type": "slide"
    }
   },
   "outputs": [
    {
     "name": "stdout",
     "output_type": "stream",
     "text": [
      "[[0. 0.]\n",
      " [0. 0.]\n",
      " [0. 0.]\n",
      " [0. 0.]\n",
      " [0. 0.]] \n",
      "\n",
      "[1. 1. 1. 1. 1.] \n",
      "\n",
      "[[ 0  1  2  3]\n",
      " [ 4  5  6  7]\n",
      " [ 8  9 10 11]\n",
      " [12 13 14 15]\n",
      " [16 17 18 19]] \n",
      "\n"
     ]
    }
   ],
   "source": [
    "# existen otras maneras de crear matrices\n",
    "print(np.zeros((5,2)), \"\\n\")\n",
    "print(np.ones(5), \"\\n\")\n",
    "print(np.array(range(20)).reshape((5,4)), \"\\n\")"
   ]
  },
  {
   "cell_type": "markdown",
   "id": "607c84ca",
   "metadata": {
    "slideshow": {
     "slide_type": "slide"
    }
   },
   "source": [
    "## La familia de modelos lineales\n",
    "\n",
    "En estadística, la familia de modelos lineales se denomina modelo lineal generalizado (MLG). Mediante transformaciones, restricciones y métodos de optimización, los MLG pueden resolver una amplia gama de problemas diferentes."
   ]
  },
  {
   "cell_type": "markdown",
   "id": "7b0d83d7",
   "metadata": {
    "slideshow": {
     "slide_type": "slide"
    }
   },
   "source": [
    "En este curso, no nos extenderemos más allá de lo necesario para el campo estadístico. Sin embargo, propondremos un par de modelos de la gran familia de los MLG, a saber, la regresión lineal y la regresión logística; ambos métodos son apropiados para resolver los dos problemas más básicos de la ciencia de los datos: la regresión y la clasificación."
   ]
  },
  {
   "cell_type": "markdown",
   "id": "f288210e",
   "metadata": {
    "slideshow": {
     "slide_type": "slide"
    }
   },
   "source": [
    "## Preparación para descubrir una regresión lineal simple\n",
    "\n",
    "Un conjunto de datos es una estructura de datos que contiene variables de predicción y, a veces, de respuesta. A efectos de aprendizaje automático, puede estructurarse en forma de matriz, en forma de tabla con filas y columnas."
   ]
  },
  {
   "cell_type": "markdown",
   "id": "bc438bec",
   "metadata": {
    "slideshow": {
     "slide_type": "slide"
    }
   },
   "source": [
    "Para la presentación inicial de la regresión lineal en su versión simple (utilizando únicamente una variable predictiva para pronosticar la variable de respuesta), hemos elegido un par de conjuntos de datos relativos a la evaluación inmobiliaria."
   ]
  },
  {
   "cell_type": "markdown",
   "id": "0a3e6c87",
   "metadata": {
    "slideshow": {
     "slide_type": "slide"
    }
   },
   "source": [
    "El primer conjunto de datos es conocido. Tomado del artículo de \n",
    "    *Harrison, D. y Rubinfeld, D.L. Hedonic Housing Prices and the Demand for Clean Air (J. Environ. Economics & Management, vol.5, 81-102, 1978)*, \n",
    "el conjunto de datos puede encontrarse en muchos paquetes de análisis y está presente en el sitio web de la U.S. paquetes de análisis y está presente en la UCI Machine Learning Repository (https://archive.ics.uci.edu/ml/datasets/Housing)."
   ]
  },
  {
   "cell_type": "markdown",
   "id": "d378af56",
   "metadata": {
    "slideshow": {
     "slide_type": "slide"
    }
   },
   "source": [
    "El conjunto de datos está formado por 506 secciones censales de Boston del censo de 1970 y presenta 21 variables relativas a diversos aspectos que pueden influir en el valor de los inmuebles. El objetivo es el valor monetario medio de las viviendas, expresado en miles de dólares. "
   ]
  },
  {
   "cell_type": "markdown",
   "id": "043d300d",
   "metadata": {
    "slideshow": {
     "slide_type": "slide"
    }
   },
   "source": [
    "Entre las características disponibles, hay algunas bastante obvias, como el número de habitaciones, la antigüedad de los edificios y los niveles de delincuencia en el barrio, y otras menos obvias, como la concentración de contaminación, la disponibilidad de escuelas cercanas escuelas, el acceso a las autopistas y la distancia a los centros de trabajo."
   ]
  },
  {
   "cell_type": "markdown",
   "id": "eadc65e4",
   "metadata": {
    "slideshow": {
     "slide_type": "slide"
    }
   },
   "source": [
    "El segundo conjunto de datos del repositorio Statlib de la Universidad Carnegie Mellon (https://archive.ics.uci.edu/ml/datasets/Housing) contiene 20.640 observaciones derivadas del censo de Estados Unidos de 1990."
   ]
  },
  {
   "cell_type": "markdown",
   "id": "d453df73",
   "metadata": {
    "slideshow": {
     "slide_type": "slide"
    }
   },
   "source": [
    "* Cada observación es una serie de estadísticas (9 variables predictivas) de un grupo de bloques, es decir, aproximadamente 1.425 personas que viven en una zona geográficamente compacta. \n",
    "* La variable de respuesta es un indicador del valor de la vivienda de ese bloque (técnicamente es el logaritmo natural del valor medio de la vivienda en el momento del censo).\n",
    "* Las variables predictoras son básicamente la mediana de los ingresos."
   ]
  },
  {
   "cell_type": "code",
   "execution_count": 6,
   "id": "1edcb90c",
   "metadata": {
    "ExecuteTime": {
     "end_time": "2023-06-28T12:49:50.800048500Z",
     "start_time": "2023-06-28T12:49:49.934968600Z"
    },
    "slideshow": {
     "slide_type": "slide"
    }
   },
   "outputs": [
    {
     "ename": "ModuleNotFoundError",
     "evalue": "No module named 'sklearn'",
     "output_type": "error",
     "traceback": [
      "\u001b[1;31m---------------------------------------------------------------------------\u001b[0m",
      "\u001b[1;31mModuleNotFoundError\u001b[0m                       Traceback (most recent call last)",
      "Cell \u001b[1;32mIn[6], line 5\u001b[0m\n\u001b[0;32m      1\u001b[0m \u001b[39m\"\"\"\u001b[39;00m\n\u001b[0;32m      2\u001b[0m \u001b[39mImportaremos ambos conjuntos para su análisis\u001b[39;00m\n\u001b[0;32m      3\u001b[0m \u001b[39m\"\"\"\u001b[39;00m\n\u001b[0;32m      4\u001b[0m \u001b[39m# el conjunto de California tiene que descargarse\u001b[39;00m\n\u001b[1;32m----> 5\u001b[0m \u001b[39mfrom\u001b[39;00m \u001b[39msklearn\u001b[39;00m\u001b[39m.\u001b[39;00m\u001b[39mdatasets\u001b[39;00m \u001b[39mimport\u001b[39;00m fetch_california_housing\n\u001b[0;32m      6\u001b[0m california \u001b[39m=\u001b[39m fetch_california_housing()\n\u001b[0;32m      7\u001b[0m \u001b[39mtype\u001b[39m(california)\n",
      "\u001b[1;31mModuleNotFoundError\u001b[0m: No module named 'sklearn'"
     ]
    }
   ],
   "source": [
    "\"\"\"\n",
    "Importaremos ambos conjuntos para su análisis\n",
    "\"\"\"\n",
    "# el conjunto de California tiene que descargarse\n",
    "from sklearn.datasets import fetch_california_housing\n",
    "california = fetch_california_housing()\n",
    "type(california)"
   ]
  },
  {
   "cell_type": "code",
   "execution_count": null,
   "id": "a9a12777",
   "metadata": {
    "ExecuteTime": {
     "end_time": "2023-06-28T12:49:50.814047900Z",
     "start_time": "2023-06-28T12:49:49.952967300Z"
    },
    "slideshow": {
     "slide_type": "slide"
    }
   },
   "outputs": [
    {
     "name": "stderr",
     "output_type": "stream",
     "text": [
      "C:\\Users\\julih\\anaconda3\\lib\\site-packages\\sklearn\\utils\\deprecation.py:87: FutureWarning: Function load_boston is deprecated; `load_boston` is deprecated in 1.0 and will be removed in 1.2.\n",
      "\n",
      "    The Boston housing prices dataset has an ethical problem. You can refer to\n",
      "    the documentation of this function for further details.\n",
      "\n",
      "    The scikit-learn maintainers therefore strongly discourage the use of this\n",
      "    dataset unless the purpose of the code is to study and educate about\n",
      "    ethical issues in data science and machine learning.\n",
      "\n",
      "    In this special case, you can fetch the dataset from the original\n",
      "    source::\n",
      "\n",
      "        import pandas as pd\n",
      "        import numpy as np\n",
      "\n",
      "\n",
      "        data_url = \"http://lib.stat.cmu.edu/datasets/boston\"\n",
      "        raw_df = pd.read_csv(data_url, sep=\"\\s+\", skiprows=22, header=None)\n",
      "        data = np.hstack([raw_df.values[::2, :], raw_df.values[1::2, :2]])\n",
      "        target = raw_df.values[1::2, 2]\n",
      "\n",
      "    Alternative datasets include the California housing dataset (i.e.\n",
      "    :func:`~sklearn.datasets.fetch_california_housing`) and the Ames housing\n",
      "    dataset. You can load the datasets as follows::\n",
      "\n",
      "        from sklearn.datasets import fetch_california_housing\n",
      "        housing = fetch_california_housing()\n",
      "\n",
      "    for the California housing dataset and::\n",
      "\n",
      "        from sklearn.datasets import fetch_openml\n",
      "        housing = fetch_openml(name=\"house_prices\", as_frame=True)\n",
      "\n",
      "    for the Ames housing dataset.\n",
      "    \n",
      "  warnings.warn(msg, category=FutureWarning)\n"
     ]
    },
    {
     "data": {
      "text/plain": [
       "sklearn.utils.Bunch"
      ]
     },
     "execution_count": 146,
     "metadata": {},
     "output_type": "execute_result"
    }
   ],
   "source": [
    "# el conjunto de Boston ya está incluido\n",
    "# es en este conjunto en el que nos enfocaremos\n",
    "from sklearn.datasets import load_boston\n",
    "boston = load_boston()\n",
    "type(boston)"
   ]
  },
  {
   "cell_type": "code",
   "execution_count": null,
   "id": "0c63b4aa",
   "metadata": {
    "ExecuteTime": {
     "end_time": "2023-06-28T12:49:50.817048200Z",
     "start_time": "2023-06-28T12:49:49.967965200Z"
    },
    "slideshow": {
     "slide_type": "slide"
    }
   },
   "outputs": [],
   "source": [
    "\"\"\"\n",
    "Importaremos los paquetes necesarios\n",
    "1. numpy: análisis numérico\n",
    "2. pandas: marcos de datos\n",
    "3. matplotlib: trazo de gráficas\n",
    "\"\"\"\n",
    "import pandas as pd"
   ]
  },
  {
   "cell_type": "code",
   "execution_count": null,
   "id": "a59bf738",
   "metadata": {
    "ExecuteTime": {
     "end_time": "2023-06-28T12:49:50.822051500Z",
     "start_time": "2023-06-28T12:49:49.983964100Z"
    },
    "slideshow": {
     "slide_type": "slide"
    }
   },
   "outputs": [
    {
     "data": {
      "text/html": [
       "<div>\n",
       "<style scoped>\n",
       "    .dataframe tbody tr th:only-of-type {\n",
       "        vertical-align: middle;\n",
       "    }\n",
       "\n",
       "    .dataframe tbody tr th {\n",
       "        vertical-align: top;\n",
       "    }\n",
       "\n",
       "    .dataframe thead th {\n",
       "        text-align: right;\n",
       "    }\n",
       "</style>\n",
       "<table border=\"1\" class=\"dataframe\">\n",
       "  <thead>\n",
       "    <tr style=\"text-align: right;\">\n",
       "      <th></th>\n",
       "      <th>CRIM</th>\n",
       "      <th>ZN</th>\n",
       "      <th>INDUS</th>\n",
       "      <th>CHAS</th>\n",
       "      <th>NOX</th>\n",
       "      <th>RM</th>\n",
       "      <th>AGE</th>\n",
       "      <th>DIS</th>\n",
       "      <th>RAD</th>\n",
       "      <th>TAX</th>\n",
       "      <th>PTRATIO</th>\n",
       "      <th>B</th>\n",
       "      <th>LSTAT</th>\n",
       "      <th>target</th>\n",
       "    </tr>\n",
       "  </thead>\n",
       "  <tbody>\n",
       "    <tr>\n",
       "      <th>0</th>\n",
       "      <td>0.00632</td>\n",
       "      <td>18.0</td>\n",
       "      <td>2.31</td>\n",
       "      <td>0.0</td>\n",
       "      <td>0.538</td>\n",
       "      <td>6.575</td>\n",
       "      <td>65.2</td>\n",
       "      <td>4.0900</td>\n",
       "      <td>1.0</td>\n",
       "      <td>296.0</td>\n",
       "      <td>15.3</td>\n",
       "      <td>396.90</td>\n",
       "      <td>4.98</td>\n",
       "      <td>24.0</td>\n",
       "    </tr>\n",
       "    <tr>\n",
       "      <th>1</th>\n",
       "      <td>0.02731</td>\n",
       "      <td>0.0</td>\n",
       "      <td>7.07</td>\n",
       "      <td>0.0</td>\n",
       "      <td>0.469</td>\n",
       "      <td>6.421</td>\n",
       "      <td>78.9</td>\n",
       "      <td>4.9671</td>\n",
       "      <td>2.0</td>\n",
       "      <td>242.0</td>\n",
       "      <td>17.8</td>\n",
       "      <td>396.90</td>\n",
       "      <td>9.14</td>\n",
       "      <td>21.6</td>\n",
       "    </tr>\n",
       "    <tr>\n",
       "      <th>2</th>\n",
       "      <td>0.02729</td>\n",
       "      <td>0.0</td>\n",
       "      <td>7.07</td>\n",
       "      <td>0.0</td>\n",
       "      <td>0.469</td>\n",
       "      <td>7.185</td>\n",
       "      <td>61.1</td>\n",
       "      <td>4.9671</td>\n",
       "      <td>2.0</td>\n",
       "      <td>242.0</td>\n",
       "      <td>17.8</td>\n",
       "      <td>392.83</td>\n",
       "      <td>4.03</td>\n",
       "      <td>34.7</td>\n",
       "    </tr>\n",
       "    <tr>\n",
       "      <th>3</th>\n",
       "      <td>0.03237</td>\n",
       "      <td>0.0</td>\n",
       "      <td>2.18</td>\n",
       "      <td>0.0</td>\n",
       "      <td>0.458</td>\n",
       "      <td>6.998</td>\n",
       "      <td>45.8</td>\n",
       "      <td>6.0622</td>\n",
       "      <td>3.0</td>\n",
       "      <td>222.0</td>\n",
       "      <td>18.7</td>\n",
       "      <td>394.63</td>\n",
       "      <td>2.94</td>\n",
       "      <td>33.4</td>\n",
       "    </tr>\n",
       "    <tr>\n",
       "      <th>4</th>\n",
       "      <td>0.06905</td>\n",
       "      <td>0.0</td>\n",
       "      <td>2.18</td>\n",
       "      <td>0.0</td>\n",
       "      <td>0.458</td>\n",
       "      <td>7.147</td>\n",
       "      <td>54.2</td>\n",
       "      <td>6.0622</td>\n",
       "      <td>3.0</td>\n",
       "      <td>222.0</td>\n",
       "      <td>18.7</td>\n",
       "      <td>396.90</td>\n",
       "      <td>5.33</td>\n",
       "      <td>36.2</td>\n",
       "    </tr>\n",
       "  </tbody>\n",
       "</table>\n",
       "</div>"
      ],
      "text/plain": [
       "      CRIM    ZN  INDUS  CHAS    NOX     RM   AGE     DIS  RAD    TAX  \\\n",
       "0  0.00632  18.0   2.31   0.0  0.538  6.575  65.2  4.0900  1.0  296.0   \n",
       "1  0.02731   0.0   7.07   0.0  0.469  6.421  78.9  4.9671  2.0  242.0   \n",
       "2  0.02729   0.0   7.07   0.0  0.469  7.185  61.1  4.9671  2.0  242.0   \n",
       "3  0.03237   0.0   2.18   0.0  0.458  6.998  45.8  6.0622  3.0  222.0   \n",
       "4  0.06905   0.0   2.18   0.0  0.458  7.147  54.2  6.0622  3.0  222.0   \n",
       "\n",
       "   PTRATIO       B  LSTAT  target  \n",
       "0     15.3  396.90   4.98    24.0  \n",
       "1     17.8  396.90   9.14    21.6  \n",
       "2     17.8  392.83   4.03    34.7  \n",
       "3     18.7  394.63   2.94    33.4  \n",
       "4     18.7  396.90   5.33    36.2  "
      ]
     },
     "execution_count": 148,
     "metadata": {},
     "output_type": "execute_result"
    }
   ],
   "source": [
    "# convertimos los datos de Boston en un marco de datos\n",
    "dataset = pd.DataFrame(boston.data, columns=boston.feature_names)\n",
    "dataset['target'] = boston.target\n",
    "dataset.head()"
   ]
  },
  {
   "cell_type": "markdown",
   "id": "0eca3ff5",
   "metadata": {
    "slideshow": {
     "slide_type": "slide"
    }
   },
   "source": [
    "Aunque una regresión lineal es simple, en realidad el modelo más sencillo es *la media* aritmética. Sin embargo, esta solamente funciona relativamente bien si los datos están normalmente distribuidos."
   ]
  },
  {
   "cell_type": "code",
   "execution_count": null,
   "id": "5ccdb297",
   "metadata": {
    "ExecuteTime": {
     "end_time": "2023-06-28T12:49:50.822051500Z",
     "start_time": "2023-06-28T12:49:50.016966200Z"
    },
    "slideshow": {
     "slide_type": "slide"
    }
   },
   "outputs": [],
   "source": [
    "\"\"\"\n",
    "Densidad normal y su implementación en Python\n",
    "\"\"\"\n",
    "# pyplot será nuestra herramienta básica para graficar\n",
    "import matplotlib.pyplot as plt\n",
    "# un viejo conocido\n",
    "import numpy as np\n",
    "# importamos la clase que modela las variables normales\n",
    "from scipy.stats import norm"
   ]
  },
  {
   "cell_type": "code",
   "execution_count": null,
   "id": "7058db5e",
   "metadata": {
    "ExecuteTime": {
     "end_time": "2023-06-28T12:49:50.889564200Z",
     "start_time": "2023-06-28T12:49:50.034859900Z"
    },
    "slideshow": {
     "slide_type": "slide"
    }
   },
   "outputs": [
    {
     "data": {
      "image/png": "[encoded data removed]",
      "text/plain": [
       "<Figure size 640x480 with 1 Axes>"
      ]
     },
     "metadata": {},
     "output_type": "display_data"
    }
   ],
   "source": [
    "\"\"\"\n",
    "Forma de la función de densidad normal\n",
    "\"\"\"\n",
    "# linspace(a, b, n) crea una malla de punto desde `a` hasta `b`\n",
    "# separados por `n` sub intervalos\n",
    "x = np.linspace(-4,4,100)\n",
    "# trazaremos las gráficas de la distribución normal para diferentes parámetros\n",
    "for mean, variance in [(0,0.7),(0,1),(1,1.5),(-2,0.5)]:\n",
    "    # pdf = probability density function\n",
    "    # es la función puntual de probabilidad\n",
    "    y = norm(loc=mean,scale=variance).pdf(x)\n",
    "    plt.plot(x,y)\n",
    "plt.show()"
   ]
  },
  {
   "cell_type": "code",
   "execution_count": null,
   "id": "360adb5e",
   "metadata": {
    "ExecuteTime": {
     "end_time": "2023-06-28T12:49:50.911559800Z",
     "start_time": "2023-06-28T12:49:50.140131800Z"
    },
    "slideshow": {
     "slide_type": "slide"
    }
   },
   "outputs": [
    {
     "data": {
      "text/plain": [
       "<AxesSubplot:ylabel='Frequency'>"
      ]
     },
     "execution_count": 151,
     "metadata": {},
     "output_type": "execute_result"
    },
    {
     "data": {
      "image/png": "[encoded data removed]",
      "text/plain": [
       "<Figure size 640x480 with 1 Axes>"
      ]
     },
     "metadata": {},
     "output_type": "display_data"
    }
   ],
   "source": [
    "\"\"\"\n",
    "Trazamos el histograma de la variable objetivo del marco de datos\n",
    "\"\"\"\n",
    "dataset[\"target\"].plot(\n",
    "    kind=\"hist\"\n",
    ")"
   ]
  },
  {
   "cell_type": "code",
   "execution_count": null,
   "id": "c7f7afc5",
   "metadata": {
    "ExecuteTime": {
     "end_time": "2023-06-28T12:49:50.947893400Z",
     "start_time": "2023-06-28T12:49:50.258643200Z"
    },
    "slideshow": {
     "slide_type": "slide"
    }
   },
   "outputs": [
    {
     "data": {
      "text/plain": [
       "<AxesSubplot:ylabel='Density'>"
      ]
     },
     "execution_count": 152,
     "metadata": {},
     "output_type": "execute_result"
    },
    {
     "data": {
      "image/png": "[encoded data removed]",
      "text/plain": [
       "<Figure size 640x480 with 1 Axes>"
      ]
     },
     "metadata": {},
     "output_type": "display_data"
    }
   ],
   "source": [
    "\"\"\"\n",
    "Ahora, bosquejemos una función de densidad aproximada\n",
    "\"\"\"\n",
    "dataset[\"target\"].plot(\n",
    "    kind=\"kde\"\n",
    ")"
   ]
  },
  {
   "cell_type": "code",
   "execution_count": null,
   "id": "5417e598",
   "metadata": {
    "ExecuteTime": {
     "end_time": "2023-06-28T12:49:50.948891800Z",
     "start_time": "2023-06-28T12:49:50.360155200Z"
    },
    "slideshow": {
     "slide_type": "slide"
    }
   },
   "outputs": [
    {
     "name": "stdout",
     "output_type": "stream",
     "text": [
      "\n",
      "Estadísticos \n",
      "count    506.000000\n",
      "mean      22.532806\n",
      "std        9.197104\n",
      "min        5.000000\n",
      "25%       17.025000\n",
      "50%       21.200000\n",
      "75%       25.000000\n",
      "max       50.000000\n",
      "Name: target, dtype: float64\n",
      "\n",
      "Asimetría (Skewness): 1.104810822864635\n",
      "Curtosis (Kurtosis):1.4686287722747462\n",
      "\n"
     ]
    }
   ],
   "source": [
    "from scipy.stats import skew,kurtosis\n",
    "info = \"\"\"\n",
    "Estadísticos \n",
    "{}\n",
    "\n",
    "Asimetría (Skewness): {}\n",
    "Curtosis (Kurtosis):{}\n",
    "\"\"\".format(dataset[\"target\"].describe(),\n",
    "      #dataset[\"target\"].skew(),\n",
    "        skew(dataset[\"target\"]),\n",
    "      #dataset[\"target\"].kurtosis())\n",
    "           kurtosis(dataset[\"target\"], fisher=True)\n",
    "          )\n",
    "print(info)"
   ]
  },
  {
   "cell_type": "markdown",
   "id": "ff648d40",
   "metadata": {
    "slideshow": {
     "slide_type": "slide"
    }
   },
   "source": [
    "Como podemos observar, la distribución tiene *asimetría positiva* y *leptocurtosis*. Para más detalles de este concepto consulta [Kurtosis() & Skew() Function In Pandas](https://medium.com/@atanudan/kurtosis-skew-function-in-pandas-aa63d72e20de) y la documentación correspondiente de Scipy para las funciones [skew()](https://docs.scipy.org/doc/scipy/reference/generated/scipy.stats.skew.html) y [kurtosis()](https://docs.scipy.org/doc/scipy/reference/generated/scipy.stats.kurtosis.html)."
   ]
  },
  {
   "cell_type": "markdown",
   "id": "75f37434",
   "metadata": {
    "slideshow": {
     "slide_type": "slide"
    }
   },
   "source": [
    "Ahora podemos evaluar los resultados midiendo el error producido en la predicción de los valores reales de \"y\" por esta regla. La estadística sugiere que, para medir la diferencia entre la predicción y el valor real, debemos elevar al cuadrado las diferencias y luego sumarlas todas. Este se denomina suma de errores al cuadrado:"
   ]
  },
  {
   "cell_type": "code",
   "execution_count": null,
   "id": "63199b1c",
   "metadata": {
    "ExecuteTime": {
     "end_time": "2023-06-28T12:49:50.948891800Z",
     "start_time": "2023-06-28T12:49:50.380156600Z"
    },
    "slideshow": {
     "slide_type": "slide"
    }
   },
   "outputs": [
    {
     "name": "stdout",
     "output_type": "stream",
     "text": [
      "22.532806324110698\n",
      "Sum of Squared Errors (SSE): 42716.3\n"
     ]
    }
   ],
   "source": [
    "# pd.Series nos permite tratar una columna como una Serie de datos\n",
    "# en la que podemos aplicar directamente operadores como la exponenciación\n",
    "mean_expected_value = dataset[\"target\"].mean()\n",
    "print(mean_expected_value)\n",
    "Squared_errors = pd.Series(dataset['target']-mean_expected_value)**2\n",
    "SSE = np.sum(Squared_errors)\n",
    "print('Sum of Squared Errors (SSE): {:.1f}'.format(SSE))"
   ]
  },
  {
   "cell_type": "code",
   "execution_count": null,
   "id": "444c4c56",
   "metadata": {
    "ExecuteTime": {
     "end_time": "2023-06-28T12:49:50.949893500Z",
     "start_time": "2023-06-28T12:49:50.395155800Z"
    },
    "slideshow": {
     "slide_type": "slide"
    }
   },
   "outputs": [
    {
     "data": {
      "image/png": "[encoded data removed]",
      "text/plain": [
       "<Figure size 640x480 with 1 Axes>"
      ]
     },
     "metadata": {},
     "output_type": "display_data"
    }
   ],
   "source": [
    "\"\"\"\n",
    "Generaremos un histograma para analizar la distribución de los errores cuadráticos\n",
    "\"\"\"\n",
    "density_plot = Squared_errors.plot(\n",
    "    kind='hist', \n",
    "    bins=range(0, 800, 30)\n",
    ")"
   ]
  },
  {
   "cell_type": "markdown",
   "id": "5c555881",
   "metadata": {
    "slideshow": {
     "slide_type": "slide"
    }
   },
   "source": [
    "## Como medir las relaciones lineales\n",
    "\n",
    "En estadística, hay una cantidad que ayuda a medir cómo se relacionan dos variables: **la correlación.**\n",
    "\n",
    "Primero estandarizaremos las variables de la siguiente manera $$x=\\frac{x-\\bar{x}}{\\sigma}$$"
   ]
  },
  {
   "cell_type": "code",
   "execution_count": null,
   "id": "73fda409",
   "metadata": {
    "ExecuteTime": {
     "end_time": "2023-06-28T12:49:50.950893800Z",
     "start_time": "2023-06-28T12:49:50.522194500Z"
    },
    "slideshow": {
     "slide_type": "slide"
    }
   },
   "outputs": [],
   "source": [
    "\"\"\"\n",
    "En Python se puede lograr vía la siguiente función\n",
    "\n",
    "La desviación estándar, denotada por la letra griega sigma es la raíz cuadrada \n",
    "de la media de las desviaciones al cuadrado de la media, es decir, \n",
    "std = sqrt(mean(x)), where x = abs(a - a.mean())**2.\n",
    "\n",
    "En Numpy, está implementada como la función std()\n",
    "\"\"\"\n",
    "\n",
    "def standardize(random_variable):\n",
    "    return (random_variable - np.mean(random_variable))/np.std(random_variable)"
   ]
  },
  {
   "cell_type": "markdown",
   "id": "5c7a142a",
   "metadata": {
    "slideshow": {
     "slide_type": "slide"
    }
   },
   "source": [
    "A continuación definimos la covarianza, la cual será positiva si la relación es directa (cuando $x$ crece también $y$ lo hace) y si es negativa, la relación es indirecta (cuando $x$ crece, $y$ decrece). Definimos la covarianza como\n",
    "\n",
    "$$cov(x,y)=\\frac{1}{n} \\sum(x-\\bar{x})(y-\\bar{y})$$"
   ]
  },
  {
   "cell_type": "code",
   "execution_count": null,
   "id": "735a82ab",
   "metadata": {
    "ExecuteTime": {
     "end_time": "2023-06-28T12:49:50.950893800Z",
     "start_time": "2023-06-28T12:49:50.540444500Z"
    },
    "slideshow": {
     "slide_type": "slide"
    }
   },
   "outputs": [],
   "source": [
    "\"\"\"\n",
    "Implementación de la covarianza en Python\n",
    "\"\"\"\n",
    "def covariance(variable_1, variable_2, bias=0):\n",
    "    n_obs = len(variable_1)\n",
    "    delta_1 = variable_1 - np.mean(variable_1)\n",
    "    delta_2 = variable_2 - np.mean(variable_2)    \n",
    "    return np.sum(delta_1*delta_2)/(n_obs - int(bias))"
   ]
  },
  {
   "cell_type": "markdown",
   "id": "e3452b71",
   "metadata": {
    "slideshow": {
     "slide_type": "slide"
    }
   },
   "source": [
    "Finalmente, definimos el coeficiente $r$ correlación de Pearson, cuyas propiedades más relevantes son\n",
    "1. El valor del índice de correlación varía en el intervalo \\[-1,1\\], indicando el signo el sentido de la relación:\n",
    "2. Si r=1, existe una correlación positiva perfecta. El índice indica una dependencia total entre las dos variables denominada relación directa: cuando una de ellas aumenta, la otra también lo hace en proporción constante.\n",
    "3. Si 0<r<1 entonces existe una correlación positiva.\n",
    "4. Si r=0 entonces no existe relación lineal, pero esto no necesariamente implica que las variables son independientes: pueden existir todavía relaciones no lineales entre las dos variables.\n",
    "5. Si -1<r<0, existe una correlación negativa.\n",
    "6. Si r=-1, existe una correlación negativa perfecta. El índice indica una dependencia total entre las dos variables llamada relación inversa: cuando una de ellas aumenta, la otra disminuye en proporción constante."
   ]
  },
  {
   "cell_type": "markdown",
   "id": "3e2c3099",
   "metadata": {
    "slideshow": {
     "slide_type": "slide"
    }
   },
   "source": [
    "Esta correlación se define como \n",
    "$$r(x,y)=\\frac{1}{n} \\frac{\\sum(x-\\bar{x})(y-\\bar{y})}{\\sigma_x \\sigma_y}$$\n",
    "\n",
    "Sin embargo, observa que se puede definir de manera equivalente a partir de la covarianza y de la de estandarización:"
   ]
  },
  {
   "cell_type": "code",
   "execution_count": null,
   "id": "fbe3306a",
   "metadata": {
    "ExecuteTime": {
     "end_time": "2023-06-28T12:49:50.950893800Z",
     "start_time": "2023-06-28T12:49:50.554446800Z"
    },
    "slideshow": {
     "slide_type": "slide"
    }
   },
   "outputs": [],
   "source": [
    "\"\"\"\n",
    "Implementaremos la correlación de Pearson de la siguiente manera:\n",
    "\"\"\"\n",
    "def correlation(var1,var2,bias=False):\n",
    "    return covariance(standardize(var1), standardize(var2), bias)"
   ]
  },
  {
   "cell_type": "code",
   "execution_count": null,
   "id": "7ae55730",
   "metadata": {
    "ExecuteTime": {
     "end_time": "2023-06-28T12:49:50.950893800Z",
     "start_time": "2023-06-28T12:49:50.569442900Z"
    },
    "slideshow": {
     "slide_type": "slide"
    }
   },
   "outputs": [
    {
     "name": "stdout",
     "output_type": "stream",
     "text": [
      "Nuestra estimación del coeficiente de correlación: r=0.69536\n",
      "Estimación del coeficiente con Scipy: r=0.69536\n",
      "2.487228871008081e-74\n"
     ]
    },
    {
     "name": "stderr",
     "output_type": "stream",
     "text": [
      "C:\\Users\\julih\\AppData\\Local\\Temp\\ipykernel_16496\\757954035.py:5: DeprecationWarning: Please use `pearsonr` from the `scipy.stats` namespace, the `scipy.stats.stats` namespace is deprecated.\n",
      "  from scipy.stats.stats import pearsonr\n"
     ]
    }
   ],
   "source": [
    "\"\"\"\n",
    "Ahora calcularemos nuestra implementación en el ejemplo anterior \n",
    "y la compararemos con las funciones propias de Scipy\n",
    "\"\"\"\n",
    "from scipy.stats.stats import pearsonr\n",
    "r = correlation(dataset[\"RM\"], dataset[\"target\"])\n",
    "# {dato:.5f} nos permite inserta el dato que ingresamos como argumento en format() \n",
    "# con cinco decimates de precisión\n",
    "print(\"Nuestra estimación del coeficiente de correlación: r={dato:.5f}\".format(dato=r))\n",
    "r_sp, _ = pearsonr(dataset[\"RM\"], dataset[\"target\"])\n",
    "print(\"Estimación del coeficiente con Scipy: r={dato:.5f}\".format(dato=r_sp))\n",
    "print(_)"
   ]
  },
  {
   "cell_type": "code",
   "execution_count": null,
   "id": "44c7be0a",
   "metadata": {
    "ExecuteTime": {
     "end_time": "2023-06-28T12:49:50.974892100Z",
     "start_time": "2023-06-28T12:49:50.587443700Z"
    },
    "slideshow": {
     "slide_type": "slide"
    }
   },
   "outputs": [
    {
     "data": {
      "image/png": "[encoded data removed]",
      "text/plain": [
       "<Figure size 640x480 with 1 Axes>"
      ]
     },
     "metadata": {},
     "output_type": "display_data"
    }
   ],
   "source": [
    "\"\"\"\n",
    "Graficaremos el diagrama de dispersión para visualizar los resultados\n",
    "\"\"\"\n",
    "x_range = [dataset[\"RM\"].min(), dataset[\"RM\"].max()]\n",
    "y_range = [dataset[\"target\"].min(), dataset[\"target\"].max()]\n",
    "scatter_plot = dataset.plot(\n",
    "    kind=\"scatter\", x=\"RM\", y=\"target\",\n",
    "    xlim = x_range, \n",
    "    ylim = y_range\n",
    ")\n",
    "\n",
    "media_Y = scatter_plot.plot(\n",
    "    x_range, \n",
    "    [dataset[\"target\"].mean(), dataset[\"target\"].mean()], \n",
    "    \"--\",\n",
    "    color=\"red\", \n",
    "    linewidth=2\n",
    ")\n",
    "\n",
    "media_X = scatter_plot.plot(\n",
    "    [dataset[\"RM\"].mean(), dataset[\"RM\"].mean()], \n",
    "    y_range, \n",
    "    \"--\",\n",
    "    color=\"green\", \n",
    "    linewidth=2\n",
    ")"
   ]
  },
  {
   "cell_type": "markdown",
   "id": "890a13d0",
   "metadata": {
    "slideshow": {
     "slide_type": "slide"
    }
   },
   "source": [
    "**¿Qué implicación tiene la correlación que obtuvimos anteriormente, con la distribución de los puntos cuadrante a cuadrante?**"
   ]
  },
  {
   "cell_type": "markdown",
   "id": "de5eb731-d01d-4d81-85a7-eadf3ec9abad",
   "metadata": {
    "slideshow": {
     "slide_type": "slide"
    }
   },
   "source": [
    "## Regresiones lineales con Statsmodels\n",
    "\n",
    "Formalmente, una regresión lineal es una relación de la forma\n",
    "$$y =  X \\beta   + \\beta_0$$\n",
    "donde\n",
    "* $y$ es un vector columna con registros de la respuesta\n",
    "* $X$ es un vector columna con registros del predictor\n",
    "* $\\beta, \\beta_0$ escalares\n",
    "* $\\beta_0$ se conoce como *sesgo*\n",
    "* $\\beta_1$ se conoce como *peso*"
   ]
  },
  {
   "cell_type": "markdown",
   "id": "34d78a2b-fd13-4458-9ae6-760151047a81",
   "metadata": {
    "slideshow": {
     "slide_type": "slide"
    }
   },
   "source": [
    "Existen dos métodos para generar regresiones lineales con el paquete `Statsmodels`:\n",
    "1. `statsmodels.api`: Funciona con variables predictoras y de respuesta distintas y requiere que se defina cualquier transformación de las variables en la variable predictora, incluyendo la adición de la ordenada al origen.\n",
    "2. `statsmodels.formula.api`: Funciona de forma similar a R, permitiendo especificar una forma funcional (la fórmula de la suma de los predictores)."
   ]
  },
  {
   "cell_type": "markdown",
   "id": "3b30b98a-d459-4db9-ad39-6ebe86df9407",
   "metadata": {
    "slideshow": {
     "slide_type": "slide"
    }
   },
   "source": [
    "Ilustraremos nuestro ejemplo usando `statsModels.api`. Sin embargo, también mostraremos un método alternativo con `statsmodels.formula.api.`"
   ]
  },
  {
   "cell_type": "code",
   "execution_count": null,
   "id": "96f1f1ac-705f-4a63-8162-1d434879e30d",
   "metadata": {
    "ExecuteTime": {
     "end_time": "2023-06-28T12:49:50.974892100Z",
     "start_time": "2023-06-28T12:49:50.695539200Z"
    },
    "slideshow": {
     "slide_type": "slide"
    }
   },
   "outputs": [
    {
     "name": "stdout",
     "output_type": "stream",
     "text": [
      "0      6.575\n",
      "1      6.421\n",
      "2      7.185\n",
      "3      6.998\n",
      "4      7.147\n",
      "       ...  \n",
      "501    6.593\n",
      "502    6.120\n",
      "503    6.976\n",
      "504    6.794\n",
      "505    6.030\n",
      "Name: RM, Length: 506, dtype: float64\n"
     ]
    }
   ],
   "source": [
    "\"\"\"\n",
    "Importaremos ambos módulos y definiremos las variables\n",
    "\"\"\"\n",
    "\n",
    "import statsmodels.api as sm\n",
    "\n",
    "y = dataset['target']\n",
    "X = dataset['RM']\n",
    "print(X)\n"
   ]
  },
  {
   "cell_type": "code",
   "execution_count": null,
   "id": "bfdf1ef8",
   "metadata": {
    "ExecuteTime": {
     "end_time": "2023-06-28T12:49:50.975902500Z",
     "start_time": "2023-06-28T12:49:50.710538700Z"
    },
    "slideshow": {
     "slide_type": "slide"
    }
   },
   "outputs": [
    {
     "name": "stdout",
     "output_type": "stream",
     "text": [
      "     const     RM\n",
      "0      1.0  6.575\n",
      "1      1.0  6.421\n",
      "2      1.0  7.185\n",
      "3      1.0  6.998\n",
      "4      1.0  7.147\n",
      "..     ...    ...\n",
      "501    1.0  6.593\n",
      "502    1.0  6.120\n",
      "503    1.0  6.976\n",
      "504    1.0  6.794\n",
      "505    1.0  6.030\n",
      "\n",
      "[506 rows x 2 columns]\n"
     ]
    }
   ],
   "source": [
    "# La variable X debe ampliarse con un valor constante; \n",
    "# el sesgo se calculará en consecuencia.\n",
    "X = sm.add_constant(X)\n",
    "print(X)"
   ]
  },
  {
   "cell_type": "markdown",
   "id": "53064f60-2d0b-420f-97a6-2af42c986a25",
   "metadata": {
    "slideshow": {
     "slide_type": "slide"
    }
   },
   "source": [
    "Como mencionamos, la fórmula de regresión es $y =  X \\beta + \\beta_0$, pero al hacer la transformación anterior se reduce a $y= (1:X)(\\beta_0, \\beta)'=\\bar{X}\\bar{\\beta}$."
   ]
  },
  {
   "cell_type": "raw",
   "metadata": {
    "collapsed": false
   },
   "source": [
    "\"\"\"\n",
    "Implementación de la regresión con SMF. \n",
    "\n",
    "Esta sintaxis es más parecida a R, pero no la ocuparemos en resto de la unidad. \n",
    "\"\"\"\n",
    "linear_regression = smf.ols(formula='target ~ RM', data=dataset)\n",
    "fitted_model = linear_regression.fit()"
   ]
  },
  {
   "cell_type": "code",
   "execution_count": null,
   "id": "2ca55209-f78e-41a2-a44a-978f2a8cff2d",
   "metadata": {
    "ExecuteTime": {
     "end_time": "2023-06-28T12:49:50.975902500Z",
     "start_time": "2023-06-28T12:49:50.728543300Z"
    },
    "slideshow": {
     "slide_type": "slide"
    }
   },
   "outputs": [
    {
     "data": {
      "text/html": [
       "<table class=\"simpletable\">\n",
       "<caption>OLS Regression Results</caption>\n",
       "<tr>\n",
       "  <th>Dep. Variable:</th>         <td>target</td>      <th>  R-squared:         </th> <td>   0.484</td>\n",
       "</tr>\n",
       "<tr>\n",
       "  <th>Model:</th>                   <td>OLS</td>       <th>  Adj. R-squared:    </th> <td>   0.483</td>\n",
       "</tr>\n",
       "<tr>\n",
       "  <th>Method:</th>             <td>Least Squares</td>  <th>  F-statistic:       </th> <td>   471.8</td>\n",
       "</tr>\n",
       "<tr>\n",
       "  <th>Date:</th>             <td>Wed, 28 Jun 2023</td> <th>  Prob (F-statistic):</th> <td>2.49e-74</td>\n",
       "</tr>\n",
       "<tr>\n",
       "  <th>Time:</th>                 <td>06:49:50</td>     <th>  Log-Likelihood:    </th> <td> -1673.1</td>\n",
       "</tr>\n",
       "<tr>\n",
       "  <th>No. Observations:</th>      <td>   506</td>      <th>  AIC:               </th> <td>   3350.</td>\n",
       "</tr>\n",
       "<tr>\n",
       "  <th>Df Residuals:</th>          <td>   504</td>      <th>  BIC:               </th> <td>   3359.</td>\n",
       "</tr>\n",
       "<tr>\n",
       "  <th>Df Model:</th>              <td>     1</td>      <th>                     </th>     <td> </td>   \n",
       "</tr>\n",
       "<tr>\n",
       "  <th>Covariance Type:</th>      <td>nonrobust</td>    <th>                     </th>     <td> </td>   \n",
       "</tr>\n",
       "</table>\n",
       "<table class=\"simpletable\">\n",
       "<tr>\n",
       "    <td></td>       <th>coef</th>     <th>std err</th>      <th>t</th>      <th>P>|t|</th>  <th>[0.025</th>    <th>0.975]</th>  \n",
       "</tr>\n",
       "<tr>\n",
       "  <th>const</th> <td>  -34.6706</td> <td>    2.650</td> <td>  -13.084</td> <td> 0.000</td> <td>  -39.877</td> <td>  -29.465</td>\n",
       "</tr>\n",
       "<tr>\n",
       "  <th>RM</th>    <td>    9.1021</td> <td>    0.419</td> <td>   21.722</td> <td> 0.000</td> <td>    8.279</td> <td>    9.925</td>\n",
       "</tr>\n",
       "</table>\n",
       "<table class=\"simpletable\">\n",
       "<tr>\n",
       "  <th>Omnibus:</th>       <td>102.585</td> <th>  Durbin-Watson:     </th> <td>   0.684</td> \n",
       "</tr>\n",
       "<tr>\n",
       "  <th>Prob(Omnibus):</th> <td> 0.000</td>  <th>  Jarque-Bera (JB):  </th> <td> 612.449</td> \n",
       "</tr>\n",
       "<tr>\n",
       "  <th>Skew:</th>          <td> 0.726</td>  <th>  Prob(JB):          </th> <td>1.02e-133</td>\n",
       "</tr>\n",
       "<tr>\n",
       "  <th>Kurtosis:</th>      <td> 8.190</td>  <th>  Cond. No.          </th> <td>    58.4</td> \n",
       "</tr>\n",
       "</table><br/><br/>Notes:<br/>[1] Standard Errors assume that the covariance matrix of the errors is correctly specified."
      ],
      "text/plain": [
       "<class 'statsmodels.iolib.summary.Summary'>\n",
       "\"\"\"\n",
       "                            OLS Regression Results                            \n",
       "==============================================================================\n",
       "Dep. Variable:                 target   R-squared:                       0.484\n",
       "Model:                            OLS   Adj. R-squared:                  0.483\n",
       "Method:                 Least Squares   F-statistic:                     471.8\n",
       "Date:                Wed, 28 Jun 2023   Prob (F-statistic):           2.49e-74\n",
       "Time:                        06:49:50   Log-Likelihood:                -1673.1\n",
       "No. Observations:                 506   AIC:                             3350.\n",
       "Df Residuals:                     504   BIC:                             3359.\n",
       "Df Model:                           1                                         \n",
       "Covariance Type:            nonrobust                                         \n",
       "==============================================================================\n",
       "                 coef    std err          t      P>|t|      [0.025      0.975]\n",
       "------------------------------------------------------------------------------\n",
       "const        -34.6706      2.650    -13.084      0.000     -39.877     -29.465\n",
       "RM             9.1021      0.419     21.722      0.000       8.279       9.925\n",
       "==============================================================================\n",
       "Omnibus:                      102.585   Durbin-Watson:                   0.684\n",
       "Prob(Omnibus):                  0.000   Jarque-Bera (JB):              612.449\n",
       "Skew:                           0.726   Prob(JB):                    1.02e-133\n",
       "Kurtosis:                       8.190   Cond. No.                         58.4\n",
       "==============================================================================\n",
       "\n",
       "Notes:\n",
       "[1] Standard Errors assume that the covariance matrix of the errors is correctly specified.\n",
       "\"\"\""
      ]
     },
     "execution_count": 163,
     "metadata": {},
     "output_type": "execute_result"
    }
   ],
   "source": [
    "\"\"\"\n",
    "Implementación con SM\n",
    "\"\"\"\n",
    "linear_regression = sm.OLS(y,X)\n",
    "fitted_model = linear_regression.fit()\n",
    "# imprimimos un resumen de los parámetros y estadísticos de la regresión\n",
    "fitted_model.summary()"
   ]
  },
  {
   "cell_type": "code",
   "execution_count": null,
   "id": "0d328d6c-614d-4c55-b740-61d839d3de56",
   "metadata": {
    "ExecuteTime": {
     "end_time": "2023-06-28T12:49:50.975902500Z",
     "start_time": "2023-06-28T12:49:50.759049100Z"
    },
    "slideshow": {
     "slide_type": "slide"
    }
   },
   "outputs": [
    {
     "name": "stdout",
     "output_type": "stream",
     "text": [
      "const   -34.670621\n",
      "RM        9.102109\n",
      "dtype: float64\n",
      "0      25.175746\n",
      "1      23.774021\n",
      "2      30.728032\n",
      "3      29.025938\n",
      "4      30.382152\n",
      "         ...    \n",
      "501    25.339584\n",
      "502    21.034286\n",
      "503    28.825691\n",
      "504    27.169108\n",
      "505    20.215096\n",
      "Length: 506, dtype: float64\n"
     ]
    }
   ],
   "source": [
    "\"\"\"\n",
    "La información de mayor interés para nosotros es los coeficientes y las predicciones\n",
    "\"\"\"\n",
    "print(fitted_model.params)\n",
    "betas = np.array(fitted_model.params)\n",
    "fitted_values = fitted_model.predict(X)\n",
    "print(fitted_values)"
   ]
  },
  {
   "cell_type": "code",
   "execution_count": null,
   "id": "6db83703-f022-4c0c-97c5-8eeea229a001",
   "metadata": {
    "ExecuteTime": {
     "end_time": "2023-06-28T12:49:51.375840600Z",
     "start_time": "2023-06-28T12:49:50.775048800Z"
    },
    "slideshow": {
     "slide_type": "slide"
    }
   },
   "outputs": [
    {
     "name": "stdout",
     "output_type": "stream",
     "text": [
      "0.484\n"
     ]
    }
   ],
   "source": [
    "\"\"\"\n",
    "Un valor importante a considerar es `R-squared`. Este es el coeficiente de determinación, \n",
    "una medida de lo bien que lo hace la regresión con respecto a una media simple. \n",
    "También se puede calcular de la siguiente manera:\n",
    "\"\"\"\n",
    "# diferencia de cuadrados respecto a la media\n",
    "total_variation = np.sum((dataset['target']-dataset['target'].mean())**2)\n",
    "# diferencia de cuadrados respecto a la regresión\n",
    "unexplained_variation = np.sum((dataset['target']-fitted_values)**2)\n",
    "# diferencia relativa entre la media y la regresión\n",
    "R2 = 1 - unexplained_variation/total_variation\n",
    "print(np.round(R2, 3))"
   ]
  },
  {
   "cell_type": "markdown",
   "id": "9104560c",
   "metadata": {
    "slideshow": {
     "slide_type": "slide"
    }
   },
   "source": [
    "Para ahondar en la definición del valor R-cuadrada, consulta los siguientes artículos:\n",
    "* [R-Squared Definition](https://www.investopedia.com/terms/r/r-squared.asp)\n",
    "* [R-Squared vs. Adjusted R-Squared: What's the Difference?](https://www.investopedia.com/ask/answers/012615/whats-difference-between-rsquared-and-adjusted-rsquared.asp)"
   ]
  },
  {
   "cell_type": "markdown",
   "id": "56967449-4e1a-405c-8a35-875765a8b24a",
   "metadata": {
    "slideshow": {
     "slide_type": "slide"
    }
   },
   "source": [
    "Para más detalles sobre el significado de los diferentes parámetros y estadísticos del resumen, consulta el documento adjunto que te proporcionamos. "
   ]
  },
  {
   "cell_type": "code",
   "execution_count": null,
   "id": "faa6a12e-fa00-4178-99c6-3b52208c530d",
   "metadata": {
    "ExecuteTime": {
     "end_time": "2023-06-28T12:49:51.375840600Z",
     "start_time": "2023-06-28T12:49:50.793048900Z"
    },
    "slideshow": {
     "slide_type": "slide"
    }
   },
   "outputs": [
    {
     "name": "stdout",
     "output_type": "stream",
     "text": [
      "const    1.000000\n",
      "RM       6.284634\n",
      "dtype: float64\n",
      "22.532806324110698\n",
      "None    22.532806\n",
      "dtype: float64\n"
     ]
    },
    {
     "name": "stderr",
     "output_type": "stream",
     "text": [
      "C:\\Users\\julih\\anaconda3\\lib\\site-packages\\numpy\\core\\fromnumeric.py:3438: FutureWarning: In a future version, DataFrame.mean(axis=None) will return a scalar mean over the entire DataFrame. To retain the old behavior, use 'frame.mean(axis=0)' or just 'frame.mean()'\n",
      "  return mean(axis=axis, dtype=dtype, out=out, **kwargs)\n"
     ]
    }
   ],
   "source": [
    "\"\"\"\n",
    "Observación: La media siempre está contenida en la regresión lineal\n",
    "\"\"\"\n",
    "X_mean = np.mean(X)\n",
    "print(X_mean)\n",
    "y_mean = np.mean(y)\n",
    "print(y_mean)\n",
    "print(fitted_model.predict(X_mean))"
   ]
  },
  {
   "cell_type": "code",
   "execution_count": null,
   "id": "14ead24b-9bfc-43a0-b01b-bcb649ddf80b",
   "metadata": {
    "ExecuteTime": {
     "end_time": "2023-06-28T12:49:51.375840600Z",
     "start_time": "2023-06-28T12:49:50.805048700Z"
    },
    "slideshow": {
     "slide_type": "slide"
    }
   },
   "outputs": [
    {
     "data": {
      "text/plain": [
       "array([-25.5685118])"
      ]
     },
     "execution_count": 167,
     "metadata": {},
     "output_type": "execute_result"
    }
   ],
   "source": [
    "\"\"\"\n",
    "Observa que para algunos valores de x, la predicción se vuelve negativa\n",
    "\"\"\"\n",
    "fitted_model.predict([1,1])"
   ]
  },
  {
   "cell_type": "markdown",
   "id": "aca6f0df-aeca-4900-b5f8-42f06971f5ca",
   "metadata": {
    "slideshow": {
     "slide_type": "slide"
    }
   },
   "source": [
    "Esto nos deja una importante lección: **Una regresión lineal siempre puede trabajar dentro del rango de valores que aprendió (esto se llama interpolación) pero puede proporcionar valores correctos para sus límites de aprendizaje (una actividad predictiva diferente llamada extrapolación) únicamente en determinadas condiciones.**"
   ]
  },
  {
   "cell_type": "code",
   "execution_count": null,
   "id": "896db429-3223-433a-94b9-520b9e2ac7ba",
   "metadata": {
    "ExecuteTime": {
     "end_time": "2023-06-28T12:49:51.377840300Z",
     "start_time": "2023-06-28T12:49:50.822051500Z"
    },
    "slideshow": {
     "slide_type": "slide"
    }
   },
   "outputs": [
    {
     "data": {
      "text/plain": [
       "[<matplotlib.lines.Line2D at 0x173d3a669d0>]"
      ]
     },
     "execution_count": 168,
     "metadata": {},
     "output_type": "execute_result"
    },
    {
     "data": {
      "image/png": "[encoded data removed]",
      "text/plain": [
       "<Figure size 640x480 with 1 Axes>"
      ]
     },
     "metadata": {},
     "output_type": "display_data"
    }
   ],
   "source": [
    "scatter_plot = dataset.plot(\n",
    "    kind=\"scatter\", x=\"RM\", y=\"target\",\n",
    "    xlim = x_range, \n",
    "    ylim = y_range\n",
    ")\n",
    "\n",
    "scatter_plot.plot(\n",
    "    dataset[\"RM\"], fitted_values,     \n",
    "    \"--\",\n",
    "    color=\"red\", \n",
    "    linewidth=2\n",
    ")"
   ]
  },
  {
   "cell_type": "markdown",
   "id": "b78ac6a8",
   "metadata": {
    "slideshow": {
     "slide_type": "slide"
    }
   },
   "source": [
    "## Evaluación de los valores ajustados\n",
    "\n",
    "Existen algunos problemas a los que debemos estar atentos:\n",
    "1. **Valores demasiado alejados de la media.** Los residuos estandarizados grandes indican una grave dificultad al modelar dichas observaciones. Además, en el proceso de aprendizaje de estos valores, *los coeficientes de regresión pueden haber sido distorsionados.*\n",
    "2. La varianza no homogénea señala que la regresión no funciona correctamente cuando el predictor tiene determinados valores.\n",
    "3. Las formas extrañas en la nube de puntos residuales pueden indicar que se necesita un modelo más complejo para los datos que estás analizando."
   ]
  },
  {
   "cell_type": "markdown",
   "id": "7469ddcf",
   "metadata": {
    "slideshow": {
     "slide_type": "slide"
    }
   },
   "source": [
    "En nuestro caso, podemos calcular fácilmente los residuos restando los valores ajustados de la regresión y luego trazando los residuos estandarizados resultantes en un gráfico."
   ]
  },
  {
   "cell_type": "code",
   "execution_count": null,
   "id": "a3fedc19",
   "metadata": {
    "ExecuteTime": {
     "end_time": "2023-06-28T12:49:51.378840700Z",
     "start_time": "2023-06-28T12:49:50.961897400Z"
    },
    "slideshow": {
     "slide_type": "slide"
    },
    "tags": []
   },
   "outputs": [
    {
     "data": {
      "text/plain": [
       "count    5.060000e+02\n",
       "mean    -1.272588e-17\n",
       "std      1.000990e+00\n",
       "min     -3.535612e+00\n",
       "25%     -3.858019e-01\n",
       "50%      1.359408e-02\n",
       "75%      4.521429e-01\n",
       "max      5.971939e+00\n",
       "dtype: float64"
      ]
     },
     "execution_count": 169,
     "metadata": {},
     "output_type": "execute_result"
    }
   ],
   "source": [
    "# Los residuales son la diferencia entre los datos y los valores ajustados\n",
    "residuals = dataset['target']-fitted_values\n",
    "# Normalizamos los residuales para entender su comportamiento estadístico\n",
    "# respecto a la regresión lineal\n",
    "normalized_residuals = standardize(residuals)\n",
    "# En este caso, las unidades son desviaciones estándar\n",
    "normalized_residuals.describe()"
   ]
  },
  {
   "cell_type": "code",
   "execution_count": null,
   "id": "11b3e934",
   "metadata": {
    "ExecuteTime": {
     "end_time": "2023-06-28T12:49:51.417847800Z",
     "start_time": "2023-06-28T12:49:50.981890800Z"
    },
    "slideshow": {
     "slide_type": "slide"
    }
   },
   "outputs": [
    {
     "data": {
      "image/png": "[encoded data removed]",
      "text/plain": [
       "<Figure size 640x480 with 1 Axes>"
      ]
     },
     "metadata": {},
     "output_type": "display_data"
    }
   ],
   "source": [
    "residual_scatter_plot = plt.plot(dataset['RM'],\n",
    "                                 normalized_residuals,'bp')\n",
    "mean_residual = plt.plot([int(x_range[0]),round(x_range[1],0)], [0,0], '-',\n",
    "                         color='red', linewidth=2)\n",
    "upper_bound = plt.plot([int(x_range[0]),round(x_range[1],0)], [3,3], '--',\n",
    "                       color='red', linewidth=1)\n",
    "lower_bound = plt.plot([int(x_range[0]),round(x_range[1],0)], [-3,-3], '--', \n",
    "                       color='red', linewidth=1)\n",
    "malla = plt.grid()\n",
    "plt.show()"
   ]
  },
  {
   "cell_type": "code",
   "execution_count": null,
   "id": "b39aef3d",
   "metadata": {
    "ExecuteTime": {
     "end_time": "2023-06-28T12:49:51.418846600Z",
     "start_time": "2023-06-28T12:49:51.087407500Z"
    },
    "slideshow": {
     "slide_type": "slide"
    }
   },
   "outputs": [
    {
     "name": "stdout",
     "output_type": "stream",
     "text": [
      "<class 'pandas.core.series.Series'>\n"
     ]
    },
    {
     "data": {
      "text/plain": [
       "<AxesSubplot:ylabel='Frequency'>"
      ]
     },
     "execution_count": 171,
     "metadata": {},
     "output_type": "execute_result"
    },
    {
     "data": {
      "image/png": "[encoded data removed]",
      "text/plain": [
       "<Figure size 640x480 with 1 Axes>"
      ]
     },
     "metadata": {},
     "output_type": "display_data"
    }
   ],
   "source": [
    "# Histograma de los residuales normalizados\n",
    "print(type(normalized_residuals))\n",
    "normalized_residuals.plot.hist()"
   ]
  },
  {
   "cell_type": "code",
   "execution_count": null,
   "id": "0830772f",
   "metadata": {
    "ExecuteTime": {
     "end_time": "2023-06-28T12:49:51.824440400Z",
     "start_time": "2023-06-28T12:49:51.195948700Z"
    },
    "slideshow": {
     "slide_type": "slide"
    }
   },
   "outputs": [
    {
     "data": {
      "text/plain": [
       "<AxesSubplot:ylabel='Density'>"
      ]
     },
     "execution_count": 172,
     "metadata": {},
     "output_type": "execute_result"
    },
    {
     "data": {
      "image/png": "[encoded data removed]",
      "text/plain": [
       "<Figure size 640x480 with 1 Axes>"
      ]
     },
     "metadata": {},
     "output_type": "display_data"
    }
   ],
   "source": [
    "# Trazamos una función aproximada de densidad\n",
    "normalized_residuals.plot.kde()"
   ]
  },
  {
   "cell_type": "markdown",
   "id": "f2d8629a",
   "metadata": {
    "slideshow": {
     "slide_type": "slide"
    }
   },
   "source": [
    "El gráfico de dispersión resultante indica que los residuos muestran algunos de los problemas que mencionamos \n",
    "anteriormente, como una advertencia de que algo no va bien con tu análisis de regresión."
   ]
  },
  {
   "cell_type": "markdown",
   "id": "f2e338ed",
   "metadata": {
    "slideshow": {
     "slide_type": "slide"
    }
   },
   "source": [
    "En primer lugar, hay algunos puntos que se encuentran fuera de la banda delimitada por las dos líneas punteadas en los valores residuales normalizados $z=-3$ y $z=+3$ (un rango que hipotéticamente debería cubrir 99,7% de los valores si los residuos tienen una distribución normal)."
   ]
  },
  {
   "cell_type": "markdown",
   "id": "6945958a",
   "metadata": {
    "slideshow": {
     "slide_type": "slide"
    }
   },
   "source": [
    "Entonces, la nube de puntos no está en absoluto dispersa al azar, mostrando diferentes varianzas a diferentes valores de la variable de predicción (el eje de abscisas) y se pueden detectar (puntos en línea recta, o los puntos centrales colocados en una especie de U)."
   ]
  },
  {
   "cell_type": "markdown",
   "id": "1a894882",
   "metadata": {
    "slideshow": {
     "slide_type": "slide"
    }
   },
   "source": [
    "El número medio de habitaciones es probablemente un buen predictor, pero no es la única causa, o hay que replanteársela como causa directa (el número de habitaciones indica una casa más grande, pero *¿qué pasa si las habitaciones son más pequeñas que la media?*)"
   ]
  },
  {
   "cell_type": "markdown",
   "id": "7e7678fc",
   "metadata": {
    "slideshow": {
     "slide_type": "slide"
    }
   },
   "source": [
    "## Predicciones con un modelo de regresión\n",
    "\n",
    "Cuando introducimos los coeficientes en la fórmula de regresión, predecir es únicamente cuestión de aplicar los nuevos datos al vector de coeficientes mediante una multiplicación matricial."
   ]
  },
  {
   "cell_type": "code",
   "execution_count": null,
   "id": "87606ca8",
   "metadata": {
    "ExecuteTime": {
     "end_time": "2023-06-28T12:49:51.825440200Z",
     "start_time": "2023-06-28T12:49:51.415839900Z"
    },
    "slideshow": {
     "slide_type": "slide"
    }
   },
   "outputs": [
    {
     "name": "stdout",
     "output_type": "stream",
     "text": [
      "[10.83992413]\n",
      "\n",
      "De acuerdo a nuestro modelos, \n",
      "si el número de cuarto es 5, \n",
      "entonces el valor de la casa \n",
      "será de $10839.92\n"
     ]
    }
   ],
   "source": [
    "# Escogemos el número de cuartos\n",
    "RM = 5 \n",
    "# Creamos un vector adecuado para insertar en el modelo\n",
    "Xp = np.array([1,RM]) \n",
    "print(fitted_model.predict(Xp))\n",
    "y_pred = fitted_model.predict(Xp)[0]*1000\n",
    "# Realizamos la predicción\n",
    "print(\"\"\"\n",
    "De acuerdo a nuestro modelos, \n",
    "si el número de cuarto es {}, \n",
    "entonces el valor de la casa \n",
    "será de ${:.2f}\"\"\".format(RM, y_pred))"
   ]
  },
  {
   "cell_type": "markdown",
   "id": "cb357507",
   "metadata": {
    "slideshow": {
     "slide_type": "slide"
    }
   },
   "source": [
    "Un buen uso del método de predicción es proyectar los valores ajustados en nuestro gráfico de dispersión anterior para permitirnos visualizar la dinámica de los precios con respecto a nuestro predictor, el número medio de habitaciones:"
   ]
  },
  {
   "cell_type": "code",
   "execution_count": null,
   "id": "af5b7c9b",
   "metadata": {
    "ExecuteTime": {
     "end_time": "2023-06-28T12:49:51.827440Z",
     "start_time": "2023-06-28T12:49:51.601388900Z"
    },
    "slideshow": {
     "slide_type": "slide"
    }
   },
   "outputs": [
    {
     "data": {
      "image/png": "[encoded data removed]",
      "text/plain": [
       "<Figure size 640x480 with 1 Axes>"
      ]
     },
     "metadata": {},
     "output_type": "display_data"
    }
   ],
   "source": [
    "x_range = [dataset['RM'].min(),dataset['RM'].max()] \n",
    "y_range = [dataset['target'].min(),dataset['target'].max()] \n",
    "scatter_plot = dataset.plot(kind='scatter', \n",
    "                            x='RM', y='target',\n",
    "                            xlim=x_range, \n",
    "                            ylim=y_range,\n",
    "                           alpha=0.25) \n",
    "meanY = scatter_plot.plot(x_range,\n",
    "                          [dataset['target'].mean(),dataset['target'].mean()], \n",
    "                          '--', color='red', linewidth=1) \n",
    "meanX = scatter_plot.plot([dataset['RM'].mean(), dataset['RM'].mean()], \n",
    "                          y_range, '--', color='red', linewidth=1) \n",
    "regression_line = scatter_plot.plot(dataset['RM'], \n",
    "                                    fitted_values,\n",
    "                                    '-',color='green', linewidth=2)"
   ]
  },
  {
   "cell_type": "markdown",
   "id": "f068f3de",
   "metadata": {
    "slideshow": {
     "slide_type": "slide"
    }
   },
   "source": [
    "Además del método de predicción ya implementado, la generación de las predicciones es bastante fácil con solo utilizar la función `dot()` en NumPy."
   ]
  },
  {
   "cell_type": "code",
   "execution_count": null,
   "id": "6ab32024",
   "metadata": {
    "ExecuteTime": {
     "end_time": "2023-06-28T12:49:51.827440Z",
     "start_time": "2023-06-28T12:49:51.603386900Z"
    },
    "slideshow": {
     "slide_type": "slide"
    }
   },
   "outputs": [
    {
     "name": "stdout",
     "output_type": "stream",
     "text": [
      "Usando el método implementado:\n",
      "[25.17574577 23.77402099 30.72803225 29.02593787 30.38215211 23.85593997\n",
      " 20.05125842 21.50759586 16.5833549  19.97844155]\n",
      "Usando el producto punto:\\[25.17574577 23.77402099 30.72803225 29.02593787 30.38215211 23.85593997\n",
      " 20.05125842 21.50759586 16.5833549  19.97844155]\n"
     ]
    }
   ],
   "source": [
    "predictions_by_dot_product = np.dot(X,betas) \n",
    "print(\"Usando el método implementado:\\n{}\".format(fitted_values[:10].to_numpy()))\n",
    "print(\"Usando el producto punto:\\{}\".format(predictions_by_dot_product[:10]))"
   ]
  },
  {
   "cell_type": "markdown",
   "id": "5051d8b1",
   "metadata": {
    "slideshow": {
     "slide_type": "slide"
    }
   },
   "source": [
    "## Regresión con Scikit-learn \n",
    "\n",
    "Como hemos visto al trabajar con el paquete StatsModels, se puede construir un modelo lineal utilizando un paquete de aprendizaje automático más orientado como Scikit-learn. "
   ]
  },
  {
   "cell_type": "code",
   "execution_count": null,
   "id": "32d552d2",
   "metadata": {
    "ExecuteTime": {
     "end_time": "2023-06-28T12:49:51.827440Z",
     "start_time": "2023-06-28T12:49:51.603386900Z"
    },
    "slideshow": {
     "slide_type": "slide"
    }
   },
   "outputs": [],
   "source": [
    "\"\"\"\n",
    "Usando el módulo `linear_model()`, podemos establecer un modelo de regresión lineal especificando que los predictores \n",
    "no deben ser normalizados y que nuestro modelo debe tener un sesgo:\n",
    "\"\"\"\n",
    "from sklearn import linear_model \n",
    "linear_regression = linear_model.LinearRegression(normalize=False, fit_intercept=True)"
   ]
  },
  {
   "cell_type": "code",
   "execution_count": null,
   "id": "096b3328",
   "metadata": {
    "ExecuteTime": {
     "end_time": "2023-06-28T12:49:51.827440Z",
     "start_time": "2023-06-28T12:49:51.603386900Z"
    },
    "slideshow": {
     "slide_type": "slide"
    }
   },
   "outputs": [
    {
     "name": "stdout",
     "output_type": "stream",
     "text": [
      "(506, 1)\n",
      "(506,)\n"
     ]
    }
   ],
   "source": [
    "\"\"\"\n",
    "La preparación de los datos, en cambio, requiere el recuento de las observaciones y la preparación cuidadosa de la \n",
    "matriz del predictor para especificar sus dos dimensiones (si se deja como un vector, el procedimiento de ajuste error):\n",
    "\"\"\"\n",
    "observations = len(dataset) \n",
    "X = dataset['RM'].values.reshape((observations,1)) # X debe reformarse como una matrix renglón\n",
    "print(X.shape)\n",
    "y = dataset['target'].values # pero y seguirá siendo un vector\n",
    "print(y.shape)"
   ]
  },
  {
   "cell_type": "code",
   "execution_count": null,
   "id": "1055d667",
   "metadata": {
    "ExecuteTime": {
     "end_time": "2023-06-28T12:49:51.827440Z",
     "start_time": "2023-06-28T12:49:51.603386900Z"
    },
    "slideshow": {
     "slide_type": "slide"
    }
   },
   "outputs": [
    {
     "name": "stderr",
     "output_type": "stream",
     "text": [
      "C:\\Users\\julih\\anaconda3\\lib\\site-packages\\sklearn\\linear_model\\_base.py:148: FutureWarning: 'normalize' was deprecated in version 1.0 and will be removed in 1.2. Please leave the normalize parameter to its default value to silence this warning. The default behavior of this estimator is to not do any normalization. If normalization is needed please use sklearn.preprocessing.StandardScaler instead.\n",
      "  warnings.warn(\n"
     ]
    },
    {
     "data": {
      "text/plain": [
       "LinearRegression(normalize=False)"
      ]
     },
     "execution_count": 178,
     "metadata": {},
     "output_type": "execute_result"
    }
   ],
   "source": [
    "\"\"\"\n",
    "Una vez completados todos los pasos anteriores, podemos ajustar el modelo mediante el método de ajuste:\n",
    "\"\"\"\n",
    "linear_regression.fit(X,y)"
   ]
  },
  {
   "cell_type": "markdown",
   "id": "b9cb9b68",
   "metadata": {
    "slideshow": {
     "slide_type": "slide"
    }
   },
   "source": [
    "Una característica muy conveniente del paquete Scikit-learn es que todos los modelos, sin importar su tipo de complejidad, comparten los mismos métodos. "
   ]
  },
  {
   "cell_type": "code",
   "execution_count": null,
   "id": "c60a6c81",
   "metadata": {
    "ExecuteTime": {
     "end_time": "2023-06-28T12:49:51.828440400Z",
     "start_time": "2023-06-28T12:49:51.604387Z"
    },
    "slideshow": {
     "slide_type": "slide"
    }
   },
   "outputs": [
    {
     "name": "stdout",
     "output_type": "stream",
     "text": [
      "[9.10210898]\n",
      "-34.670620776438554\n"
     ]
    }
   ],
   "source": [
    "\"\"\"\n",
    "El método `fit()` se utiliza siempre para el ajuste y espera una X y una y (cuando el modelo es supervisado). \n",
    "En cambio, los dos métodos habituales para hacer una predicción exacta (siempre para la regresión) y su probabilidad \n",
    "(cuando el modelo es probabilístico) son `predict()` y `predict_proba()`, respectivamente.\n",
    "\"\"\"\n",
    "print(linear_regression.coef_) \n",
    "print(linear_regression.intercept_)"
   ]
  },
  {
   "cell_type": "code",
   "execution_count": null,
   "id": "2bb0dc7b",
   "metadata": {
    "ExecuteTime": {
     "end_time": "2023-06-28T12:49:51.828440400Z",
     "start_time": "2023-06-28T12:49:51.618397800Z"
    },
    "slideshow": {
     "slide_type": "slide"
    }
   },
   "outputs": [
    {
     "name": "stdout",
     "output_type": "stream",
     "text": [
      "[25.17574577 23.77402099 30.72803225 29.02593787 30.38215211 23.85593997\n",
      " 20.05125842 21.50759586 16.5833549  19.97844155]\n"
     ]
    }
   ],
   "source": [
    "\"\"\"\n",
    "Utilizando el método de predicción y restringiéndonos los 10 primeros elementos de la lista resultante, \n",
    "obtenemos los 10 primeros valores ajustados:\n",
    "\"\"\"\n",
    "print(linear_regression.predict(X)[:10])"
   ]
  },
  {
   "cell_type": "code",
   "execution_count": null,
   "id": "c2b3d558",
   "metadata": {
    "ExecuteTime": {
     "end_time": "2023-06-28T12:49:51.828440400Z",
     "start_time": "2023-06-28T12:49:51.637909800Z"
    },
    "slideshow": {
     "slide_type": "slide"
    }
   },
   "outputs": [
    {
     "name": "stdout",
     "output_type": "stream",
     "text": [
      "[9.102108981180308, -34.670620776438554]\n"
     ]
    }
   ],
   "source": [
    "\"\"\"\n",
    "Como se ha visto anteriormente, si preparamos una nueva matriz y añadimos una constante, \n",
    "podemos calcular los resultados por nosotros mismos utilizando una simple multiplicación matriz-vector:\n",
    "\"\"\"\n",
    "Xp = np.column_stack((X,np.ones(observations))) \n",
    "v_coef = list(linear_regression.coef_) + [linear_regression.intercept_]\n",
    "print(v_coef)"
   ]
  },
  {
   "cell_type": "code",
   "execution_count": null,
   "id": "71327b1e",
   "metadata": {
    "ExecuteTime": {
     "end_time": "2023-06-28T12:49:51.828440400Z",
     "start_time": "2023-06-28T12:49:51.653912Z"
    },
    "slideshow": {
     "slide_type": "slide"
    }
   },
   "outputs": [
    {
     "data": {
      "text/plain": [
       "array([25.17574577, 23.77402099, 30.72803225, 29.02593787, 30.38215211,\n",
       "       23.85593997, 20.05125842, 21.50759586, 16.5833549 , 19.97844155])"
      ]
     },
     "execution_count": 182,
     "metadata": {},
     "output_type": "execute_result"
    }
   ],
   "source": [
    "\"\"\"\n",
    "Como era de esperar, el resultado del producto nos proporciona las mismas estimaciones que el método de predicción:\n",
    "\"\"\"\n",
    "np.dot(Xp,v_coef)[:10]"
   ]
  },
  {
   "cell_type": "markdown",
   "id": "33f11c11",
   "metadata": {
    "slideshow": {
     "slide_type": "slide"
    }
   },
   "source": [
    "En este punto, sería natural cuestionar el uso de dicho módulo. En comparación con las funciones anteriores ofrecidas por Statsmodels, Scikit-learn parece ofrecer pocos resultados estadísticos, y aparentemente con muchas características de regresión lineal eliminadas."
   ]
  },
  {
   "cell_type": "markdown",
   "id": "bc6f6d9d",
   "metadata": {
    "slideshow": {
     "slide_type": "slide"
    }
   },
   "source": [
    " **En realidad, Scikit-learn ofrece exactamente lo que se necesita en la ciencia de los datos y tiene un rendimiento perfectamente rápido cuando se trata de grandes conjuntos de datos.**"
   ]
  },
  {
   "cell_type": "markdown",
   "id": "d410a3df",
   "metadata": {
    "slideshow": {
     "slide_type": "slide"
    }
   },
   "source": [
    "Si estás trabajando en IPython, has la siguiente prueba para generar un gran conjunto de datos y comprobar el rendimiento de las dos versiones de la regresión lineal:"
   ]
  },
  {
   "cell_type": "code",
   "execution_count": null,
   "id": "303e7fc0-142f-45c6-888e-2ba52b46efdd",
   "metadata": {
    "ExecuteTime": {
     "end_time": "2023-06-28T12:49:53.023813700Z",
     "start_time": "2023-06-28T12:49:51.663912400Z"
    },
    "slideshow": {
     "slide_type": "slide"
    }
   },
   "outputs": [],
   "source": [
    "# make_regression genera un problema de regresión aleatorio\n",
    "from sklearn.datasets import make_regression \n",
    "HX, Hy = make_regression(n_samples=10000000, n_features=1,n_targets=1,random_state=101)"
   ]
  },
  {
   "cell_type": "markdown",
   "id": "9b0832ab-66c5-4668-b431-d1ee81dbb6d7",
   "metadata": {
    "slideshow": {
     "slide_type": "slide"
    }
   },
   "source": [
    "Después de generar diez millones de observaciones de una sola variable, comience a medir utilizando la función mágica %%time para IPython."
   ]
  },
  {
   "cell_type": "code",
   "execution_count": null,
   "id": "e7e255e9-94a9-426b-9cff-b5b18f5346ef",
   "metadata": {
    "ExecuteTime": {
     "end_time": "2023-06-28T12:49:53.446361600Z",
     "start_time": "2023-06-28T12:49:53.024813700Z"
    },
    "slideshow": {
     "slide_type": "slide"
    }
   },
   "outputs": [
    {
     "name": "stderr",
     "output_type": "stream",
     "text": [
      "C:\\Users\\julih\\anaconda3\\lib\\site-packages\\sklearn\\linear_model\\_base.py:148: FutureWarning: 'normalize' was deprecated in version 1.0 and will be removed in 1.2. Please leave the normalize parameter to its default value to silence this warning. The default behavior of this estimator is to not do any normalization. If normalization is needed please use sklearn.preprocessing.StandardScaler instead.\n",
      "  warnings.warn(\n"
     ]
    },
    {
     "name": "stdout",
     "output_type": "stream",
     "text": [
      "Wall time: 407 ms\n"
     ]
    },
    {
     "data": {
      "text/plain": [
       "LinearRegression(normalize=False)"
      ]
     },
     "execution_count": 184,
     "metadata": {},
     "output_type": "execute_result"
    }
   ],
   "source": [
    "%%time \n",
    "sk_linear_regression = linear_model.LinearRegression(\n",
    "    normalize=False,\n",
    "    fit_intercept=True)\n",
    "sk_linear_regression.fit(HX,Hy)"
   ]
  },
  {
   "cell_type": "code",
   "execution_count": null,
   "id": "0c9ef5d4-cb6f-4b2a-b468-295133a2b229",
   "metadata": {
    "ExecuteTime": {
     "end_time": "2023-06-28T12:49:54.627945600Z",
     "start_time": "2023-06-28T12:49:53.449363700Z"
    },
    "slideshow": {
     "slide_type": "slide"
    }
   },
   "outputs": [
    {
     "name": "stdout",
     "output_type": "stream",
     "text": [
      "Wall time: 1.12 s\n"
     ]
    },
    {
     "data": {
      "text/plain": [
       "<statsmodels.regression.linear_model.RegressionResultsWrapper at 0x173d4adaf40>"
      ]
     },
     "execution_count": 185,
     "metadata": {},
     "output_type": "execute_result"
    }
   ],
   "source": [
    "%%time \n",
    "sm_linear_regression = sm.OLS(\n",
    "    Hy,\n",
    "    sm.add_constant(HX))\n",
    "sm_linear_regression.fit()"
   ]
  },
  {
   "cell_type": "markdown",
   "id": "b969cb85",
   "metadata": {
    "slideshow": {
     "slide_type": "slide"
    }
   },
   "source": [
    "## Resumen\n",
    "\n",
    "En este capítulo hemos presentado la regresión lineal como algoritmo de aprendizaje automático supervisado. "
   ]
  },
  {
   "cell_type": "markdown",
   "id": "6980eea0-73bb-49a2-8711-15f970f3fd92",
   "metadata": {
    "slideshow": {
     "slide_type": "slide"
    }
   },
   "source": [
    "Explicamos su forma funcional, su relación con las medidas estadísticas de la media y la correlación, e intentamos construir un modelo de regresión lineal simple sobre los datos de los precios de la vivienda en Boston. "
   ]
  },
  {
   "cell_type": "markdown",
   "id": "441ae5be-c86f-4ede-8812-bdef1ec6f8f7",
   "metadata": {
    "slideshow": {
     "slide_type": "slide"
    }
   },
   "source": [
    "Después de hacer esto, finalmente echamos un vistazo a cómo funciona la regresión bajo el capó proponiendo sus formulaciones matemáticas clave y su traducción al código Python."
   ]
  },
  {
   "cell_type": "markdown",
   "id": "bdec24f9",
   "metadata": {
    "slideshow": {
     "slide_type": "slide"
    }
   },
   "source": [
    "**¡Gracias por su participación!**"
   ]
  }
 ],
 "metadata": {
  "celltoolbar": "Slideshow",
  "kernelspec": {
   "display_name": "Python 3",
   "language": "python",
   "name": "python3"
  },
  "language_info": {
   "codemirror_mode": {
    "name": "ipython",
    "version": 3
   },
   "file_extension": ".py",
   "mimetype": "text/x-python",
   "name": "python",
   "nbconvert_exporter": "python",
   "pygments_lexer": "ipython3",
   "version": "3.9.16"
  }
 },
 "nbformat": 4,
 "nbformat_minor": 5
}
